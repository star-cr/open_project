{
 "cells": [
  {
   "cell_type": "markdown",
   "metadata": {
    "id": "6C09B47761DE44A58B01A2763B92E0EC",
    "jupyter": {},
    "notebookId": "637b54737b4e5f9b3d48846f",
    "slideshow": {
     "slide_type": "slide"
    },
    "tags": []
   },
   "source": [
    "# Lecture 6: Denominator and Posterior\n",
    "\n",
    "## Instructor： 胡传鹏（博士）[Dr. Hu Chuan-Peng]\n",
    "\n",
    "### 南京师范大学心理学院[School of Psychology, Nanjing Normal University]"
   ]
  },
  {
   "cell_type": "markdown",
   "metadata": {
    "id": "3D14C4F3DE3E4F46A365BB1EFD7144D4",
    "jupyter": {},
    "notebookId": "637b54737b4e5f9b3d48846f",
    "slideshow": {
     "slide_type": "slide"
    },
    "tags": []
   },
   "source": [
    "课前回顾: \n",
    "\n",
    "- 先验是什么？\n",
    "- 为什么需要先验，先验重要吗？\n",
    "- 如何在模型中构建先验？\n",
    "\n",
    "\n",
    "![Image Name](https://cdn.kesci.com/upload/image/ril3rktwk9.png?imageView2/0/w/960/h/960)"
   ]
  },
  {
   "cell_type": "markdown",
   "metadata": {
    "id": "2347C98F1E4B41A08A88940BD370CB93",
    "jupyter": {},
    "notebookId": "637b54737b4e5f9b3d48846f",
    "slideshow": {
     "slide_type": "slide"
    },
    "tags": []
   },
   "source": [
    "**不同的先验和数据(似然)会产生不同的后验分布**\n",
    "\n",
    "![Image Name](https://cdn.kesci.com/upload/image/rhqcb9gji7.png?imageView2/0/w/960/h/960)"
   ]
  },
  {
   "cell_type": "markdown",
   "metadata": {
    "id": "AF44AA9F7F96481C89E31F473006CE0A",
    "jupyter": {},
    "notebookId": "637b54737b4e5f9b3d48846f",
    "slideshow": {
     "slide_type": "slide"
    },
    "tags": []
   },
   "source": [
    "## Part 1: What is the denominator of Bayes' rule and what difficulty exists when we calculate the denominator ?"
   ]
  },
  {
   "cell_type": "markdown",
   "metadata": {
    "id": "7A66AF5D00D64A239BE2FF7032374CBB",
    "jupyter": {},
    "notebookId": "637b54737b4e5f9b3d48846f",
    "slideshow": {
     "slide_type": "slide"
    },
    "tags": []
   },
   "source": [
    "1. Understand the denominator of Bayes’ rule, $p(data)$, is a number that ensures that the posterior distribution is a valid probability distribution.\n",
    "\n",
    "\n",
    "2. Understand why the calculation is complicated and practically intractable."
   ]
  },
  {
   "cell_type": "markdown",
   "metadata": {
    "id": "E97EA79693CB467485AF544CF9831A77",
    "jupyter": {},
    "notebookId": "637b54737b4e5f9b3d48846f",
    "slideshow": {
     "slide_type": "slide"
    },
    "tags": []
   },
   "source": [
    "\n",
    "![Image Name](https://cdn.kesci.com/upload/image/rjj2pfs5h1.png?imageView2/0/w/960/h/960)\n"
   ]
  },
  {
   "cell_type": "markdown",
   "metadata": {
    "id": "2646CDAD32DC48BF89A14739B024F96B",
    "jupyter": {},
    "notebookId": "637b54737b4e5f9b3d48846f",
    "slideshow": {
     "slide_type": "slide"
    },
    "tags": []
   },
   "source": [
    "一个袋子里有四个鹅卵石，只有两种颜色：白和蓝。\n",
    "\n",
    "两种颜色的石头各有几块是未知的 (Source: Statistical rethinking)。\n",
    "\n",
    "根据已有的信息，可以判断四个石头颜色组合的可能情况有五种：\n",
    "\n",
    "![Image Name](https://cdn.kesci.com/upload/image/rhq5sehdsv.png?imageView2/0/w/360/h/360)"
   ]
  },
  {
   "cell_type": "markdown",
   "metadata": {
    "id": "4B24A9500802457E8A5B2F2E16197939",
    "jupyter": {},
    "notebookId": "637b54737b4e5f9b3d48846f",
    "slideshow": {
     "slide_type": "slide"
    },
    "tags": []
   },
   "source": [
    "当我们摸到一个鹅卵石，我们得知这个鹅卵石是蓝色的，现在我们需要根据摸到的这个鹅卵石的颜色来判断盒子中蓝色鹅卵石的数量。"
   ]
  },
  {
   "cell_type": "markdown",
   "metadata": {
    "id": "D6B021AC0BCE48ED8D6D77972EBCFE35",
    "jupyter": {},
    "notebookId": "637b54737b4e5f9b3d48846f",
    "slideshow": {
     "slide_type": "slide"
    },
    "tags": []
   },
   "source": [
    "由于我们事先并没有得到任何有关这个袋子中鹅卵石的数量的信息，故我们假定这个盒子中蓝色鹅卵石所占比例的各种可能性是均匀分布的，且各种数量的蓝色鹅卵石比例的可能性之和为1。"
   ]
  },
  {
   "cell_type": "code",
   "execution_count": 1,
   "metadata": {
    "collapsed": false,
    "id": "909E764E1E1142C1832FC96212E1B76C",
    "jupyter": {
     "outputs_hidden": false
    },
    "notebookId": "637b54737b4e5f9b3d48846f",
    "slideshow": {
     "slide_type": "slide"
    },
    "tags": []
   },
   "outputs": [
    {
     "name": "stdout",
     "output_type": "stream",
     "text": [
      "袋子里的蓝色鹅卵石的数量分别为0,1,2,3,4的情况下，先验概率分别为[0.2 0.2 0.2 0.2 0.2]\n"
     ]
    },
    {
     "data": {
      "text/html": [
       "<img src=\"https://cdn.kesci.com/upload/rt/909E764E1E1142C1832FC96212E1B76C/rjj8oqfp33.png\">"
      ],
      "text/plain": [
       "<Figure size 432x288 with 1 Axes>"
      ]
     },
     "metadata": {
      "needs_background": "light"
     },
     "output_type": "display_data"
    }
   ],
   "source": [
    "import numpy as np # numpy 是专门用于数组运算的包\n",
    "from scipy.stats import uniform # 从scipy.stats里载入均匀分布的函数\n",
    "import matplotlib.pyplot as plt # matplotlib.pyplot 是专门用于画图的包\n",
    "\n",
    "x = np.arange(start = 0, stop = 5, step = 1) # 起点为0，终点为5(不包括5)，步长为1生成5个数\n",
    "y_prior = uniform.pdf(x,loc = 0,scale = 5)   # 均匀分布的概率密度函数,x为变量，0为均匀分布起点，5为均匀分布的点的数量\n",
    "\n",
    "# 画图\n",
    "plt.bar(x, y_prior, width=0.5)  # 条形图\n",
    "plt.title(\"Prior\")              # 添加标题\n",
    "plt.ylabel(\"probability\")       # 添加y轴标签\n",
    "\n",
    "# 输入结果\n",
    "print(f\"袋子里的蓝色鹅卵石的数量分别为0,1,2,3,4的情况下，先验概率分别为{y_prior}\")"
   ]
  },
  {
   "cell_type": "markdown",
   "metadata": {
    "id": "8385F016ADA847CC8023E144EAA0C67C",
    "jupyter": {},
    "notebookId": "637b54737b4e5f9b3d48846f",
    "slideshow": {
     "slide_type": "slide"
    },
    "tags": []
   },
   "source": [
    "我们假定X为摸到的球的颜色\n",
    "\n",
    "$X \\in \\left \\{ 0,1 \\right \\}$ \n",
    "\n",
    "$X = 0$ 代表白色鹅卵石\n",
    "\n",
    "$X = 1$ 代表蓝色鹅卵石\n",
    "\n",
    "当我们摸到一个鹅卵石，这只鹅卵石是蓝色鹅卵石，那么我们该如何推断袋子中蓝色鹅卵石的总数？"
   ]
  },
  {
   "cell_type": "markdown",
   "metadata": {
    "id": "392717C7A0BA4E868666604A71B2293A",
    "jupyter": {},
    "notebookId": "637b54737b4e5f9b3d48846f",
    "slideshow": {
     "slide_type": "slide"
    },
    "tags": []
   },
   "source": [
    "假定袋子中有$\\alpha$个蓝色鹅卵石，$\\alpha \\in \\left \\{ 0,1,2,3,4 \\right \\}$\n",
    "\n",
    "在不同$\\alpha$条件下，观察到一个蓝色鹅卵石的概率为$Pr(X=1|Y = \\alpha) = \\alpha/4$\n",
    "\n",
    "根据上节课学到的知识，我们知道这个是不同$\\alpha$条件下，我们观察到一个鹅卵石是蓝色鹅卵石的似然。"
   ]
  },
  {
   "cell_type": "code",
   "execution_count": 2,
   "metadata": {
    "collapsed": false,
    "id": "B9DA40F60D894C978BC9932D900789DD",
    "jupyter": {
     "outputs_hidden": false
    },
    "notebookId": "637b54737b4e5f9b3d48846f",
    "slideshow": {
     "slide_type": "slide"
    },
    "tags": []
   },
   "outputs": [
    {
     "name": "stdout",
     "output_type": "stream",
     "text": [
      "袋子里的蓝色鹅卵石的数量分别为0,1,2,3,4的情况下,似然分别为[0.   0.25 0.5  0.75 1.  ]\n"
     ]
    },
    {
     "data": {
      "text/html": [
       "<img src=\"https://cdn.kesci.com/upload/rt/B9DA40F60D894C978BC9932D900789DD/rjj8ot6pa2.png\">"
      ],
      "text/plain": [
       "<Figure size 432x288 with 1 Axes>"
      ]
     },
     "metadata": {
      "needs_background": "light"
     },
     "output_type": "display_data"
    }
   ],
   "source": [
    "x = np.arange(start = 0, stop = 5, step = 1) # 起点为0，终点为5(不包括5)，步长为1生成5个数\n",
    "y_likelihood = x/4  # Pr(X=1|Y = \\alpha) = \\alpha/4\n",
    "\n",
    "# 画图\n",
    "plt.bar(x,y_likelihood,width=0.5)  # 条形图\n",
    "plt.title(\"Likelihood\")            # 添加标题\n",
    "plt.ylabel(\"likelihood\")           # 添加y轴标签\n",
    "\n",
    "print(f\"袋子里的蓝色鹅卵石的数量分别为0,1,2,3,4的情况下,似然分别为{y_likelihood}\")"
   ]
  },
  {
   "cell_type": "markdown",
   "metadata": {
    "id": "27869FA24A9E495981EC0110C0A71E9C",
    "jupyter": {},
    "notebookId": "637b54737b4e5f9b3d48846f",
    "slideshow": {
     "slide_type": "slide"
    },
    "tags": []
   },
   "source": [
    "其中，$p(data|\\theta)p(\\theta)$ 可以表示为 $p(data,\\theta)$ \n",
    "\n",
    "$p(data,\\theta)$ 表示$\\theta$和$data$的联合概率"
   ]
  },
  {
   "cell_type": "markdown",
   "metadata": {
    "id": "D75E4980AB284B108F08329DB18121AE",
    "jupyter": {},
    "notebookId": "637b54737b4e5f9b3d48846f",
    "slideshow": {
     "slide_type": "slide"
    },
    "tags": []
   },
   "source": [
    "有效的概率分布有两个特征：\n",
    "\n",
    "- 每种情况下的概率都是非负数\n",
    "\n",
    "- 所有情况下的概率之和为1"
   ]
  },
  {
   "cell_type": "markdown",
   "metadata": {
    "id": "1091E2A791B940CD8F27A2DE15EADD77",
    "jupyter": {},
    "notebookId": "637b54737b4e5f9b3d48846f",
    "slideshow": {
     "slide_type": "slide"
    },
    "tags": []
   },
   "source": [
    "$p(data,\\theta)$ 满足第一个特征，但不满足第二个特征\n",
    "\n",
    "要描述已知摸出鹅卵石的颜色的情况下，袋子中鹅卵石有几个蓝色鹅卵石的情况，我们需要一个值来将 $p(data,\\theta)$ 的值转化为1"
   ]
  },
  {
   "cell_type": "markdown",
   "metadata": {
    "id": "957C061E89FE4F1189E6328FC8444DD5",
    "jupyter": {},
    "notebookId": "637b54737b4e5f9b3d48846f",
    "slideshow": {
     "slide_type": "slide"
    },
    "tags": []
   },
   "source": [
    "在这个例子中，prior，likelihood分别代表什么？\n",
    "\n",
    "prior代表我们对袋子里蓝色鹅卵石占比的各种可能性的信念\n",
    "\n",
    "likelihood代表在每一种可能性下，摸出的蓝色鹅卵石的数量的概率\n",
    "\n",
    "注意，prior 和 likelihood 关注的都是袋子里的蓝色鹅卵石的情况。\n",
    "\n",
    "在袋子里摸出蓝色鹅卵石的概率是多少呢？\n",
    "\n",
    "我们可以使用在袋子里摸出蓝色鹅卵石的概率作为分母。"
   ]
  },
  {
   "cell_type": "markdown",
   "metadata": {
    "id": "6E5CC62DF5E84B17ABC0642A700D95C3",
    "jupyter": {},
    "notebookId": "637b54737b4e5f9b3d48846f",
    "slideshow": {
     "slide_type": "slide"
    },
    "tags": []
   },
   "source": [
    "我们应该如何计算袋子里摸出蓝色鹅卵石的概率呢？\n",
    "\n",
    "由于我们不知道袋子里的蓝色鹅卵石的具体数量，所以我们需要计算各种情况下摸到蓝色鹅卵石的概率之和。\n",
    "\n",
    "当$\\theta$是离散参数时，$p(data)$的计算方式为\n",
    "\n",
    "$P(data) =\\sum_{\\theta}^{} p(data,\\theta)=\\sum_{\\theta}^{} p(data|\\theta)p(\\theta)$\n",
    "\n",
    "当$\\theta$是连续参数时，$p(data)$的计算方式为\n",
    "\n",
    "$P(data) =\\int_{\\theta}^{} p(data,\\theta) =\\int_{\\theta}^{} p(data|\\theta)p(\\theta)d\\theta$"
   ]
  },
  {
   "cell_type": "markdown",
   "metadata": {
    "id": "CFF28169D33845368102B2A50BA5E0F0",
    "jupyter": {},
    "notebookId": "637b54737b4e5f9b3d48846f",
    "slideshow": {
     "slide_type": "slide"
    },
    "tags": []
   },
   "source": [
    "在本例中，摸到蓝色鹅卵石的概率$p(data)=1/5*0 + 1/5*1/4 + 1/5*2/4 + 1/5*3/4 + 1/5*4/4 = 1/2$"
   ]
  },
  {
   "cell_type": "code",
   "execution_count": 3,
   "metadata": {
    "collapsed": false,
    "id": "A9CF547A8C8E46DD8DB8ACB4C2B38971",
    "jupyter": {
     "outputs_hidden": false
    },
    "notebookId": "637b54737b4e5f9b3d48846f",
    "slideshow": {
     "slide_type": "slide"
    },
    "tags": []
   },
   "outputs": [
    {
     "name": "stdout",
     "output_type": "stream",
     "text": [
      "袋子里的蓝色鹅卵石的数量分别为0,1,2,3,4,5的情况下,后验概率分别为[0.  0.1 0.2 0.3 0.4]\n"
     ]
    },
    {
     "data": {
      "text/html": [
       "<img src=\"https://cdn.kesci.com/upload/rt/A9CF547A8C8E46DD8DB8ACB4C2B38971/rjj8oz1g8l.png\">"
      ],
      "text/plain": [
       "<Figure size 432x288 with 1 Axes>"
      ]
     },
     "metadata": {
      "needs_background": "light"
     },
     "output_type": "display_data"
    }
   ],
   "source": [
    "x = np.arange(start = 0, stop = 5, step = 1)   # 起点为0，终点为5(不包括5)，步长为1生成5个数\n",
    "y_margin = 1/2                                 # p(data) = \\sum{p(data|\\theta)p(\\theta)}\n",
    "y_posterior = (y_prior*y_likelihood)/y_margin  # P(\\theta|data) = \\frac{P(data|\\theta)*P(\\theta)}{P(data)} \n",
    "\n",
    "# 画图\n",
    "plt.bar(x,y_posterior,width=0.5) # 条形图\n",
    "plt.title(\"Posterior\")           # 添加标题\n",
    "plt.ylabel(\"Posterior\")          # 添加y轴标签\n",
    "\n",
    "print(f\"袋子里的蓝色鹅卵石的数量分别为0,1,2,3,4,5的情况下,后验概率分别为{y_posterior}\")"
   ]
  },
  {
   "cell_type": "markdown",
   "metadata": {
    "id": "A397195A0083489690E4BC40E7857D43",
    "jupyter": {},
    "notebookId": "637b54737b4e5f9b3d48846f",
    "slideshow": {
     "slide_type": "slide"
    },
    "tags": []
   },
   "source": [
    "若我们想知道摸到白色鹅卵石的情况，则\n",
    "\n",
    "$X = 0$代表蓝色鹅卵石\n",
    "\n",
    "$X = 1$代表白色鹅卵石\n",
    "\n",
    "![Image Name](https://cdn.kesci.com/upload/image/rjhkaui467.png?imageView2/0/w/960/h/960)"
   ]
  },
  {
   "cell_type": "markdown",
   "metadata": {
    "id": "9669C8D55162408E9C87421BD1619098",
    "jupyter": {},
    "notebookId": "637b54737b4e5f9b3d48846f",
    "slideshow": {
     "slide_type": "slide"
    },
    "tags": []
   },
   "source": [
    "![Image Name](https://cdn.kesci.com/upload/image/rjhk3bvyl3.png?imageView2/0/w/960/h/960)"
   ]
  },
  {
   "cell_type": "markdown",
   "metadata": {
    "id": "51D0CDD4442A4FF48226C074CE684338",
    "jupyter": {},
    "notebookId": "637b54737b4e5f9b3d48846f",
    "slideshow": {
     "slide_type": "slide"
    },
    "tags": []
   },
   "source": [
    "在将$p(data)$ 作为分母的情况下，$\\frac{p(data,\\theta)}{p(data)}$，即$p(posterior)$，是一个概率分布"
   ]
  },
  {
   "cell_type": "markdown",
   "metadata": {
    "id": "9D8AF0D929A24569865E04F6225384CF",
    "jupyter": {},
    "notebookId": "637b54737b4e5f9b3d48846f",
    "slideshow": {
     "slide_type": "slide"
    },
    "tags": []
   },
   "source": [
    "为什么两种情况下, p(data)之和为1 ？\n",
    "![Image Name](https://cdn.kesci.com/upload/image/rjhlkr3erw.png?imageView2/0/w/960/h/960)"
   ]
  },
  {
   "cell_type": "markdown",
   "metadata": {
    "id": "29ACFD167B994C7F88068EFF5CF6FF45",
    "jupyter": {},
    "notebookId": "637b54737b4e5f9b3d48846f",
    "slideshow": {
     "slide_type": "slide"
    },
    "tags": []
   },
   "source": [
    "为什么将p(data)作为分母，$\\frac{p(data,\\theta)}{p(data)}$，即$p(posterior)$，是一个概率分布\n",
    "\n",
    "![Image Name](https://cdn.kesci.com/upload/image/rjhll6g8sr.png?imageView2/0/w/960/h/960)"
   ]
  },
  {
   "cell_type": "markdown",
   "metadata": {
    "id": "3AE76AF79715476F94FC036B4218DF36",
    "jupyter": {},
    "notebookId": "637b54737b4e5f9b3d48846f",
    "slideshow": {
     "slide_type": "slide"
    },
    "tags": []
   },
   "source": [
    "### Another example\n",
    "\n",
    "回想一下先前提过的精神疾病诊断的例子。我们用$\\theta$来表示两种可能的结果。"
   ]
  },
  {
   "cell_type": "markdown",
   "metadata": {
    "id": "2A8BC3E9594A4FFA9F7A2D9B3AEAA47A",
    "jupyter": {},
    "notebookId": "637b54737b4e5f9b3d48846f",
    "slideshow": {
     "slide_type": "slide"
    },
    "tags": []
   },
   "source": [
    "$\\theta$ = 0, 无精神疾病\n",
    "\n",
    "$\\theta$ = 1, 有精神疾病"
   ]
  },
  {
   "cell_type": "markdown",
   "metadata": {
    "id": "8D5F3AF04C4447B2AA8E8C7B799F632F",
    "jupyter": {},
    "notebookId": "637b54737b4e5f9b3d48846f",
    "slideshow": {
     "slide_type": "slide"
    },
    "tags": []
   },
   "source": [
    "假定被诊断的人是从整个人群中随机抽取出的一个人，则我们可以使用人群中精神疾病人口的比例作为先验，假定该比例为1/4。\n",
    "\n",
    "$p(x = 1) = 1/4$ or $p(\\theta) = 1/4$\n",
    "\n",
    "随后，我们从诊断测试中获得数据，并利用这些数据来重新评估该患者的诊断阳性的概率。为此，我们选择一个概率模型：\n",
    "\n",
    "$p(positive | x=1) = 4/5$    (Accuracy, 患病被检测为阳性的概率)\n",
    "\n",
    "$p(positive | x=0) = 1/10$  (假阳性，未患病被检测为阳性的概率)"
   ]
  },
  {
   "cell_type": "markdown",
   "metadata": {
    "id": "6A34C014F13E4DDBB2D790EF7A66B4C1",
    "jupyter": {},
    "notebookId": "637b54737b4e5f9b3d48846f",
    "slideshow": {
     "slide_type": "slide"
    },
    "tags": []
   },
   "source": [
    "检测结果为阳性时的总概率为：\n",
    "\n",
    "$p(positive) = \\sum_{x=0}^{1} p(positive|x) \\times p(\\theta) = p(positive|x = 0) \\times p(x = 0) +p(positive|x = 1) \\times p(x = 1)=1/10 \\times 3/4 +4/5 \\times 1/4  = 11/40$"
   ]
  },
  {
   "cell_type": "code",
   "execution_count": 4,
   "metadata": {
    "collapsed": false,
    "id": "315127D6D7BA4D99894A1EA7674DAD5B",
    "jupyter": {
     "outputs_hidden": false
    },
    "notebookId": "637b54737b4e5f9b3d48846f",
    "slideshow": {
     "slide_type": "slide"
    },
    "tags": []
   },
   "outputs": [
    {
     "data": {
      "text/plain": [
       "Text(0, 0.5, 'Posterior')"
      ]
     },
     "execution_count": 4,
     "metadata": {},
     "output_type": "execute_result"
    },
    {
     "data": {
      "text/html": [
       "<img src=\"https://cdn.kesci.com/upload/rt/315127D6D7BA4D99894A1EA7674DAD5B/rjj8p91f33.png\">"
      ],
      "text/plain": [
       "<Figure size 864x360 with 3 Axes>"
      ]
     },
     "metadata": {
      "needs_background": "light"
     },
     "output_type": "display_data"
    }
   ],
   "source": [
    "prior = np.array([3/4, 1/4])\n",
    "likelihood = np.array([1/10, 4/5])\n",
    "margin = np.sum(prior*likelihood)\n",
    "posterior = (prior*likelihood)/margin\n",
    "\n",
    "plt.figure(figsize=(12,5))\n",
    "plt.subplot(1,3,1)       # 子图1\n",
    "plt.bar([0,1],prior)     # 画条形图\n",
    "plt.title(\"Prior\")       # 添加标题\n",
    "plt.xlabel(r\"$\\theta$\")  # 添加x轴标签\n",
    "plt.ylabel(\"Prior\")      # 添加y轴标签\n",
    "\n",
    "plt.subplot(1,3,2)        # 子图2\n",
    "plt.bar([0,1],likelihood) # 画条形图\n",
    "plt.title(\"likelihood\")   # 添加标题\n",
    "plt.xlabel(r\"$\\theta$\")   # 添加x轴标签\n",
    "plt.ylabel(\"likelihood\")  # 添加y轴标签\n",
    "\n",
    "plt.subplot(1,3,3)        # 子图3\n",
    "plt.bar([0,1],posterior)  # 画条形图\n",
    "plt.title(\"Posterior\")    # 添加标题\n",
    "plt.xlabel(r\"$\\theta$\")   # 添加x轴标签\n",
    "plt.ylabel(\"Posterior\")   # 添加y轴标签"
   ]
  },
  {
   "cell_type": "markdown",
   "metadata": {
    "id": "7D20D08CFFA9409488CFECFD831344A1",
    "jupyter": {},
    "notebookId": "637b54737b4e5f9b3d48846f",
    "slideshow": {
     "slide_type": "slide"
    },
    "tags": []
   },
   "source": [
    "![Image Name](https://cdn.kesci.com/upload/image/rjhs1vfk1s.png?imageView2/0/w/960/h/960)"
   ]
  },
  {
   "cell_type": "markdown",
   "metadata": {
    "id": "3126087FC5344C20AA0A02C767A18A7A",
    "jupyter": {},
    "notebookId": "637b54737b4e5f9b3d48846f",
    "slideshow": {
     "slide_type": "slide"
    },
    "tags": []
   },
   "source": [
    "### The Difficulty with the Denominator"
   ]
  },
  {
   "cell_type": "markdown",
   "metadata": {
    "id": "F7435730CD7840098CE97F82CC75A717",
    "jupyter": {},
    "notebookId": "637b54737b4e5f9b3d48846f",
    "slideshow": {
     "slide_type": "slide"
    },
    "tags": []
   },
   "source": [
    "我们上面的例子仅涉及到一个参数的情况，因此对$p(data)$的计算较为容易，即：\n",
    "\n",
    "当$\\theta$是离散参数时（蓝色石头的比例），$p(data)$的计算方式为\n",
    "\n",
    "$P(data) =\\sum_{\\theta}^{} p(data,\\theta)=\\sum_{\\theta}^{} p(data|\\theta)p(\\theta)$\n",
    "\n",
    "当$\\theta$是连续参数时，$p(data)$的计算方式为\n",
    "\n",
    "$P(data) =\\int_{\\theta}^{} p(data,\\theta) =\\int_{\\theta}^{} p(data|\\theta)p(\\theta)d\\theta$"
   ]
  },
  {
   "cell_type": "markdown",
   "metadata": {
    "id": "A2BF6FD67D2E406DB94CBEDD2D16EE8A",
    "jupyter": {},
    "notebookId": "637b54737b4e5f9b3d48846f",
    "slideshow": {
     "slide_type": "slide"
    },
    "tags": []
   },
   "source": [
    "若涉及到2个参数的情况，则：\n",
    "\n",
    "当$\\theta_1$，$\\theta_2$是离散参数时，$p(data)$的计算方式为\n",
    "\n",
    "$P(data) =\\sum_{\\theta_2}^{}\\sum_{\\theta_1}^{} p(data,\\theta_1,\\theta_2)= \\sum_{\\theta_2}^{}\\sum_{\\theta_1}^{} p(data|\\theta_1,\\theta_2)p(\\theta_1,\\theta_2)$\n",
    "\n",
    "当$\\theta_1$，$\\theta_2$是连续参数时，$p(data)$的计算方式为\n",
    "\n",
    "$P(data) =\\int_{\\theta_2}^{} \\int_{\\theta_1}^{} p(data,\\theta_1,\\theta_2) d\\theta_1 d\\theta_2 = \\int_{\\theta_2}^{} \\int_{\\theta_1}^{} p(data|\\theta_1,\\theta_2)p(\\theta_1,\\theta_2)d\\theta_1d\\theta_2$ "
   ]
  },
  {
   "cell_type": "markdown",
   "metadata": {
    "id": "C21C895488E844B5B99871859A73D43A",
    "jupyter": {},
    "notebookId": "637b54737b4e5f9b3d48846f",
    "slideshow": {
     "slide_type": "slide"
    },
    "tags": []
   },
   "source": [
    "若涉及到100个参数的情况，则：\n",
    "\n",
    "当$\\theta_1$,$\\theta_2$...$\\theta_100$是离散参数时，$p(data)$的计算方式为\n",
    "\n",
    "$P(data) =\\sum_{\\theta_{100}}^{}...\\sum_{\\theta_2}^{}\\sum_{\\theta_1}^{} p(data,\\theta_1,\\theta_2,...,\\theta_{100})= \\sum_{\\theta_{100}}^{}...\\sum_{\\theta_2}^{}\\sum_{\\theta_1}^{} p(data|\\theta_1,\\theta_2,...,\\theta_{100})p(\\theta_1,\\theta_2,...,\\theta_{100})$\n",
    "\n",
    "当$\\theta_1$,$\\theta_2$是连续参数时，$p(data)$的计算方式为\n",
    "\n",
    "$P(data) =\\int_{\\theta_{100}}^{}...\\int_{\\theta_2}^{} \\int_{\\theta_1}^{} p(data,\\theta_1,\\theta_2,...,\\theta_{100}) d\\theta_1 d\\theta_2...d\\theta_{100} = \\int_{\\theta_{100}}^{}...\\int_{\\theta_2}^{} \\int_{\\theta_1}^{} p(data|\\theta_1,\\theta_2,...,\\theta_{100})p(\\theta_1,\\theta_2,...,\\theta_{100})d\\theta_1d\\theta_2...d\\theta_{100}$ "
   ]
  },
  {
   "cell_type": "markdown",
   "metadata": {
    "id": "578FB8DF5DD8463E8AFBE7F4A623ADE8",
    "jupyter": {},
    "notebookId": "637b54737b4e5f9b3d48846f",
    "slideshow": {
     "slide_type": "slide"
    },
    "tags": []
   },
   "source": [
    "计算高维积分往往是困难的\n",
    "\n",
    "连续型随机变量一般是积分没有闭形式（colsed-form）解导致的计算不可行\n",
    "\n",
    "对于离散型随机变量一般是指数级求和（当参数是K维向量, 且每一维有S种可能取值, 那么计算复杂度就是$O(S_{K})$ ，是计算不可行的"
   ]
  },
  {
   "cell_type": "markdown",
   "metadata": {
    "id": "6FAC3191695142058E9BE2E3745F4ECD",
    "jupyter": {},
    "notebookId": "637b54737b4e5f9b3d48846f",
    "slideshow": {
     "slide_type": "slide"
    },
    "tags": []
   },
   "source": [
    "在$\\theta$是离散参数的情况下，我们可以通过大量的计算来求出$p(data)$的值\n",
    "\n",
    "但在$\\theta$是连续参数的情况下，我们很难求出$p(data)$的积分"
   ]
  },
  {
   "cell_type": "markdown",
   "metadata": {
    "id": "CAF7CE45A5AA48328773DD654428D092",
    "jupyter": {},
    "notebookId": "637b54737b4e5f9b3d48846f",
    "slideshow": {
     "slide_type": "slide"
    },
    "tags": []
   },
   "source": [
    "### How to Dispense with the Difficulty: Bayesian Computation"
   ]
  },
  {
   "cell_type": "markdown",
   "metadata": {
    "id": "FBA3049678FF43EEB56A0228067E9CB8",
    "jupyter": {},
    "notebookId": "637b54737b4e5f9b3d48846f",
    "slideshow": {
     "slide_type": "slide"
    },
    "tags": []
   },
   "source": [
    "- 针对具体的总体分布为参数选择合适的先验分布，这类方法的典型是共轭先验（conjugate prior）\n",
    "\n",
    "- 另一类是使用近似算法，例如：证据近似（Evidence Approximation）、变分推理（Variational Inference）、吉布斯抽样（Gibbs Sampling）等。"
   ]
  },
  {
   "cell_type": "markdown",
   "metadata": {
    "id": "A6FD439C3E3945A188A14EE3ADAD30CF",
    "jupyter": {},
    "notebookId": "637b54737b4e5f9b3d48846f",
    "slideshow": {
     "slide_type": "slide"
    },
    "tags": []
   },
   "source": [
    "对于某些似然函数（likehood），如果您选择某个先验，后验的分布与先验的分布相同。这样的先验被称为共轭先验。"
   ]
  },
  {
   "cell_type": "markdown",
   "metadata": {
    "id": "C21DFE169C5C4319B674C041983B2A66",
    "jupyter": {},
    "notebookId": "637b54737b4e5f9b3d48846f",
    "slideshow": {
     "slide_type": "slide"
    },
    "tags": []
   },
   "source": [
    "我们以抛硬币为例\n",
    "\n",
    "其中：\n",
    "\n",
    "θ是成功的概率，\n",
    "\n",
    "x是成功次数。\n",
    "\n",
    "n是试验的总数"
   ]
  },
  {
   "cell_type": "markdown",
   "metadata": {
    "id": "389F7737FFB44B6DBBA394E649F0F81C",
    "jupyter": {},
    "notebookId": "637b54737b4e5f9b3d48846f",
    "slideshow": {
     "slide_type": "slide"
    },
    "tags": []
   },
   "source": [
    "![Image Name](https://pic2.zhimg.com/80/v2-ef326ec40eddffdfc798807539fdd699_720w.webp)"
   ]
  },
  {
   "cell_type": "markdown",
   "metadata": {
    "id": "A9440170939A4AF98FF273DCF4CCFA6E",
    "jupyter": {},
    "notebookId": "637b54737b4e5f9b3d48846f",
    "slideshow": {
     "slide_type": "slide"
    },
    "tags": []
   },
   "source": [
    "![Image Name](https://pic4.zhimg.com/80/v2-d2540064a6dcaa131e537d93456b587b_720w.webp)"
   ]
  },
  {
   "cell_type": "markdown",
   "metadata": {
    "id": "886D56E056C842468667F41ADB649678",
    "jupyter": {},
    "notebookId": "637b54737b4e5f9b3d48846f",
    "slideshow": {
     "slide_type": "slide"
    },
    "tags": []
   },
   "source": [
    "这样我们可以通过公式推导求出后验分布。"
   ]
  }
 ],
 "metadata": {
  "kernelspec": {
   "display_name": "Python 3 (ipykernel)",
   "language": "python",
   "name": "python3"
  },
  "language_info": {
   "codemirror_mode": {
    "name": "ipython",
    "version": 3
   },
   "file_extension": ".py",
   "mimetype": "text/x-python",
   "name": "python",
   "nbconvert_exporter": "python",
   "pygments_lexer": "ipython3",
   "version": "3.9.13"
  }
 },
 "nbformat": 4,
 "nbformat_minor": 4
}
