{
 "cells": [
  {
   "cell_type": "markdown",
   "metadata": {
    "id": "85A6C931471A4747A686B9EC860A1A86",
    "jupyter": {},
    "notebookId": "637b54727b4e5f9b3d4883f6",
    "slideshow": {
     "slide_type": "slide"
    },
    "tags": []
   },
   "source": [
    "# Lecture 8: PyMC3 \n",
    "## ——基于Python的概率编程框架\n",
    "\n",
    "## Instructor： 胡传鹏（博士）[Dr. Hu Chuan-Peng]\n",
    "\n",
    "### 南京师范大学心理学院[School of Psychology, Nanjing Normal University]"
   ]
  },
  {
   "cell_type": "markdown",
   "metadata": {
    "id": "7A1E13B990994C3788D34DF8B7DCD4B9",
    "jupyter": {},
    "notebookId": "637b54727b4e5f9b3d4883f6",
    "slideshow": {
     "slide_type": "slide"
    },
    "tags": []
   },
   "source": [
    "# Part 1: Probabilistic Programming Languages (PPL) and PyMC3"
   ]
  },
  {
   "cell_type": "markdown",
   "metadata": {
    "id": "068587433E154AF1A5A926D9FD76ED58",
    "jupyter": {},
    "notebookId": "637b54727b4e5f9b3d4883f6",
    "slideshow": {
     "slide_type": "slide"
    },
    "tags": []
   },
   "source": [
    "## Probabilistic Programming Languages (PPL)"
   ]
  },
  {
   "cell_type": "markdown",
   "metadata": {
    "id": "7AB3AA7C5562460088A6A36B747FCF7D",
    "jupyter": {},
    "notebookId": "637b54727b4e5f9b3d4883f6",
    "slideshow": {
     "slide_type": "slide"
    },
    "tags": []
   },
   "source": [
    "回顾一下我们本学期第一节课和后续课程的内容：贝叶斯模型是一种更好的方法。\n",
    "\n",
    "贝叶斯方法有一个显著的优势：每次使用贝叶斯方法我们都是得到一个分布并进行推断，这个分布也代表了一个有关世界结构的模型（小世界与大世界）。"
   ]
  },
  {
   "cell_type": "markdown",
   "metadata": {
    "id": "18CEF25F38D249C490F0DD1B362A4572",
    "jupyter": {},
    "notebookId": "637b54727b4e5f9b3d4883f6",
    "slideshow": {
     "slide_type": "slide"
    },
    "tags": []
   },
   "source": [
    "### Deterministic vs Probabilistic: \n",
    "确定性编程: 精确的模型, 相同的输入总是产生相同的输出。\n",
    "\n",
    "例如："
   ]
  },
  {
   "cell_type": "code",
   "execution_count": 1,
   "metadata": {
    "collapsed": false,
    "id": "B3E50928A81940DFB7438DF08AA52F98",
    "jupyter": {
     "outputs_hidden": false
    },
    "notebookId": "637b54727b4e5f9b3d4883f6",
    "slideshow": {
     "slide_type": "slide"
    },
    "tags": []
   },
   "outputs": [
    {
     "data": {
      "text/plain": [
       "3"
      ]
     },
     "execution_count": 1,
     "metadata": {},
     "output_type": "execute_result"
    }
   ],
   "source": [
    "sum([1,2])"
   ]
  },
  {
   "cell_type": "markdown",
   "metadata": {
    "id": "951294B7A73C4D3E87D4FB231FD46FC0",
    "jupyter": {},
    "notebookId": "637b54727b4e5f9b3d4883f6",
    "slideshow": {
     "slide_type": "slide"
    },
    "tags": []
   },
   "source": [
    "解决概率问题需要概率性的函数与功能，因此也产生了Probabilistic Programming Languages (PPL)，即概率编程语言。"
   ]
  },
  {
   "cell_type": "markdown",
   "metadata": {
    "id": "598EBFCCC21E4761893E5C7BB6CBF580",
    "jupyter": {},
    "notebookId": "637b54727b4e5f9b3d4883f6",
    "slideshow": {
     "slide_type": "slide"
    },
    "tags": []
   },
   "source": [
    "概率编程语言与非概率编程语言/确定性编程不同\n",
    "- 概率编程语言允许使用者可以使用普通计算句语句来指定一个随机过程，简化了概率模型的开发\n",
    "- 概率程序从建模的联合分布中生成样本，并在给定模型的情况下自动进行推断"
   ]
  },
  {
   "cell_type": "markdown",
   "metadata": {
    "id": "DCBED204B69B4F4C897FCE0E58608724",
    "jupyter": {},
    "notebookId": "637b54727b4e5f9b3d4883f6",
    "slideshow": {
     "slide_type": "slide"
    },
    "tags": []
   },
   "source": [
    "概率编程语言执行流程\n",
    "- 概率编程语言通过用计算机语言建构一个模型\n",
    "\n",
    "- 这个建立的模型生成观察值\n",
    "\n",
    "- 内置的推断方法将观测值返回可能生成观察值的参数分布\n",
    "\n",
    "- 之后还可以通过检验后验概率生成的数据对模型进行评估\n"
   ]
  },
  {
   "cell_type": "markdown",
   "metadata": {
    "id": "C54AD22E91C84B16827D9E931D5B69A4",
    "jupyter": {},
    "notebookId": "637b54727b4e5f9b3d4883f6",
    "slideshow": {
     "slide_type": "slide"
    },
    "tags": []
   },
   "source": [
    "\n",
    "![Image Name](https://cdn.kesci.com/upload/image/rk4wg2rtm.jpg?imageView2/0/w/960/h/960)"
   ]
  },
  {
   "cell_type": "markdown",
   "metadata": {
    "id": "C34F8FD8021E42E59C45E59F8C72787C",
    "jupyter": {},
    "notebookId": "637b54727b4e5f9b3d4883f6",
    "slideshow": {
     "slide_type": "slide"
    },
    "tags": []
   },
   "source": [
    "通俗地说，PPL就是一种规范的语法，来描述带有概率的推理过程（生成过程）。"
   ]
  },
  {
   "cell_type": "markdown",
   "metadata": {
    "id": "A01CD5239913417BB546F26519EB1B17",
    "jupyter": {},
    "notebookId": "637b54727b4e5f9b3d4883f6",
    "slideshow": {
     "slide_type": "slide"
    },
    "tags": []
   },
   "source": [
    "### 常见的概率编程语言"
   ]
  },
  {
   "cell_type": "markdown",
   "metadata": {
    "id": "DEAA3A6B39504481B1336BBDDCC3E521",
    "jupyter": {},
    "notebookId": "637b54727b4e5f9b3d4883f6",
    "slideshow": {
     "slide_type": "slide"
    },
    "tags": []
   },
   "source": [
    "- **Stan**：主要来自哥伦比亚大学的Andrew Gelman、Bob Carpenter和其他人开发的PPL。它有自己的模型规范语言，然后将其转换为C++代码，最后编译为机器代码。良好的R和python接口可用（rstan, PyStan）。更多信息查看：https://mc-stan.org/\n",
    "- **PyMC3**：一个广泛使用的带有Theano后端的Python开源PPL，由John Salvatier、Thomas Wiecki、Chris Fonnesbeck和其他贡献者开发。更多信息查看：https://docs.pymc.io/en/v3/\n",
    "- **Edward**和**Edward2**：是一个用于概率建模、推断的Python库。由Google的Dustin Tran、哥伦比亚大学的David Blei 和其他合作者的基于TensorFlow的开发的PPL。更多信息查看：https://github.com/google/edward2\n",
    "- **Pyro**：由Uber AI Labs创建的带有PyTorch后端的PPL。更多信息查看：https://pyro.ai/\n",
    "- JAGS \n",
    "- ..."
   ]
  },
  {
   "cell_type": "markdown",
   "metadata": {
    "id": "6B86F337BC4C491BB6468786B5B8636E",
    "jupyter": {},
    "notebookId": "637b54727b4e5f9b3d4883f6",
    "slideshow": {
     "slide_type": "slide"
    },
    "tags": []
   },
   "source": [
    "![常见的ppl](https://cdn.kesci.com/upload/image/rk8m3hh1o1.png?imageView2/0/w/960/h/960)"
   ]
  },
  {
   "cell_type": "markdown",
   "metadata": {
    "id": "EF73D6996B9E452C96CD6CE0F02D84BA",
    "jupyter": {},
    "notebookId": "637b54727b4e5f9b3d4883f6",
    "slideshow": {
     "slide_type": "slide"
    },
    "tags": []
   },
   "source": [
    "## PyMC3\n",
    "PyMC是Python的概率编程库，允许用户使用简单的Python API构建贝叶斯模型，并使用马尔可夫链蒙特卡洛（MCMC）方法拟合它们。\n",
    "![Image Name](https://cdn.kesci.com/upload/image/rk56d0ypat.png?imageView2/0/w/960/h/960)\n",
    "\n",
    "PyMC目前是第四代，名称回归到PyMC，在此前比较重要的有PyMC 2，其主要使用Gibbs算法和MH算法。"
   ]
  },
  {
   "cell_type": "markdown",
   "metadata": {
    "id": "224AF20CF77A48898CC5F0EE8C2FB566",
    "jupyter": {},
    "notebookId": "637b54727b4e5f9b3d4883f6",
    "slideshow": {
     "slide_type": "slide"
    },
    "tags": []
   },
   "source": [
    "相比于其他概率编程语言，PyMC3有以下几种优势：\n",
    "- 基于python强大的社区，PyMC3可以包括很多新的算法\n",
    "- 相比于其他概率编程语言，Pymc写模型更加容易（定义模型时更加符合我们平时使用的语言）\n",
    "- 速度相对较快\n"
   ]
  },
  {
   "cell_type": "markdown",
   "metadata": {
    "id": "D11E880B4E8942D3BC385A73A4E2C7F8",
    "jupyter": {},
    "notebookId": "637b54727b4e5f9b3d4883f6",
    "slideshow": {
     "slide_type": "slide"
    },
    "tags": []
   },
   "source": [
    "基于所有参数的最小有效样本量 (ESS) 的非常初步的结果。每个模型都运行了10000次迭代的单个链（带有1000次预热）。\n",
    "\n",
    "所有PPL都在Colab中运行。\n",
    "![Image Name](https://cdn.kesci.com/upload/image/rk8m6lwp5o.png?imageView2/0/w/960/h/960)\n",
    "\n",
    "source: https://theorashid.github.io/post/ppl-benchmark-help/"
   ]
  },
  {
   "cell_type": "markdown",
   "metadata": {
    "id": "FA2A0BE22FA44D9B92B528AB23B902DF",
    "jupyter": {},
    "notebookId": "637b54727b4e5f9b3d4883f6",
    "slideshow": {
     "slide_type": "slide"
    },
    "tags": []
   },
   "source": [
    "## Install PyMC3"
   ]
  },
  {
   "cell_type": "markdown",
   "metadata": {
    "id": "6D9472DDBFE74028A88B824B4FF48212",
    "jupyter": {},
    "notebookId": "637b54727b4e5f9b3d4883f6",
    "slideshow": {
     "slide_type": "slide"
    },
    "tags": []
   },
   "source": [
    "PyMC3需要使用使用theano库来进行快速的数值计算，但是该库已经停止继续维护了，所以安装theano库时可能会出现一些问题。解决方法如下："
   ]
  },
  {
   "cell_type": "markdown",
   "metadata": {
    "id": "AE95C2BB151E465A9BA46D78ACF242FB",
    "jupyter": {},
    "notebookId": "637b54727b4e5f9b3d4883f6",
    "slideshow": {
     "slide_type": "slide"
    },
    "tags": []
   },
   "source": [
    "```\n",
    "# windows电脑在终端输入下面代码\n",
    "python3 -m pip uninstall theano\n",
    "\n",
    "python3 -m pip uninstall theano-pymc\n",
    "\n",
    "python3 -m pip uninstall pymc3\n",
    "\n",
    "python3 -m pip install pymc3\n",
    "```"
   ]
  },
  {
   "cell_type": "markdown",
   "metadata": {
    "id": "5EDC43A53F3845E49B64917E48C35B96",
    "jupyter": {},
    "notebookId": "637b54727b4e5f9b3d4883f6",
    "slideshow": {
     "slide_type": "slide"
    },
    "tags": []
   },
   "source": [
    "```\n",
    "#mac电脑直接使用pip后面的内容即可\n",
    "pip uninstall theano\n",
    "\n",
    "pip uninstall theano-pymc\n",
    "\n",
    "pip uninstall pymc3\n",
    "\n",
    "pip install pymc3\n",
    "```"
   ]
  },
  {
   "cell_type": "markdown",
   "metadata": {
    "id": "DA0C71AF07F84366B8DBCD44746483BA",
    "jupyter": {},
    "notebookId": "637b54727b4e5f9b3d4883f6",
    "slideshow": {
     "slide_type": "slide"
    },
    "tags": []
   },
   "source": [
    "安装问题可以访问链接链接：https://github.com/pymc-devs/pymc/issues/4479"
   ]
  },
  {
   "cell_type": "markdown",
   "metadata": {
    "id": "97EE94979F3D43818598F804114B5344",
    "jupyter": {},
    "notebookId": "637b54727b4e5f9b3d4883f6",
    "slideshow": {
     "slide_type": "slide"
    },
    "tags": []
   },
   "source": [
    "安装完成后可以按照下方的代码进行导入："
   ]
  },
  {
   "cell_type": "code",
   "execution_count": 2,
   "metadata": {
    "collapsed": false,
    "id": "BC42F6FA55634C3198A8ED5F2750345A",
    "jupyter": {
     "outputs_hidden": false
    },
    "notebookId": "637b54727b4e5f9b3d4883f6",
    "slideshow": {
     "slide_type": "slide"
    },
    "tags": []
   },
   "outputs": [
    {
     "name": "stderr",
     "output_type": "stream",
     "text": [
      "WARNING (theano.link.c.cmodule): install mkl with `conda install mkl-service`: No module named 'mkl'\n"
     ]
    }
   ],
   "source": [
    "#基本的库和模块\n",
    "import numpy as np\n",
    "from scipy import stats\n",
    "import pandas as pd\n",
    "from patsy import bs, dmatrix\n",
    "import matplotlib.pyplot as plt\n",
    "\n",
    "#贝叶斯模型探索分析\n",
    "import arviz as az\n",
    "\n",
    "# 概率编程语言\n",
    "import pymc3 as pm\n",
    "\n",
    "#计算后端\n",
    "import theano\n",
    "import theano.tensor as tt"
   ]
  },
  {
   "cell_type": "markdown",
   "metadata": {
    "id": "878096CA291C4F37AFD53A94C38E1C72",
    "jupyter": {},
    "notebookId": "637b54727b4e5f9b3d4883f6",
    "slideshow": {
     "slide_type": "slide"
    },
    "tags": []
   },
   "source": [
    "## Part 2: PyMC3的语法[The syntax of PyMC3]"
   ]
  },
  {
   "cell_type": "markdown",
   "metadata": {
    "id": "F8BC1A7BBD5C4700ADCBD3341DD12F83",
    "jupyter": {},
    "notebookId": "637b54727b4e5f9b3d4883f6",
    "slideshow": {
     "slide_type": "slide"
    },
    "tags": []
   },
   "source": [
    "### 实例：\n",
    "社交网站的使用可能在知识共享和个体创新行为中起到了关键作用，而个体在使用社交网站时往往能获得在线社会支持，可以帮助个体提高对自身创新行为产生的能力和信心的评估——即创新自我效能感。\n",
    "\n",
    "假设我们将探究大学生的社交网站使用和创新的自我效能感对个体创新行为的关系。\n",
    "\n",
    "`SNS_t`:  社交网站使用强度；\n",
    "`CSES_t`: 创新自我效能感；\n",
    "`EIB_t`: 创新行为\n",
    "\n",
    "数据来源：郑元瑞, 谢嘉敏, 李鹏. (2022) 社交网站使用强度对大学生创新行为的影响：一个有调节的中介模型. 心理技术与应用, 10(8), 483-491."
   ]
  },
  {
   "cell_type": "code",
   "execution_count": 3,
   "metadata": {
    "collapsed": false,
    "id": "035E2D528A7C499B80E1B65D7FB6F567",
    "jupyter": {
     "outputs_hidden": false
    },
    "notebookId": "637b54727b4e5f9b3d4883f6",
    "slideshow": {
     "slide_type": "slide"
    },
    "tags": []
   },
   "outputs": [],
   "source": [
    "%matplotlib inline\n",
    "import numpy as np \n",
    "import matplotlib.pyplot as plt\n",
    "import pandas as pd\n",
    "import arviz as az\n",
    "# sklearn是用于机器学习的包，precessing是其中的预处理模块，StandardScaler函数的作用是将变量标准化\n",
    "from sklearn.preprocessing import StandardScaler\n",
    "# mpl_toolkits.mplot3d是用于三维画图的包，Axes3D用于画三维图\n",
    "from mpl_toolkits.mplot3d import Axes3D"
   ]
  },
  {
   "cell_type": "code",
   "execution_count": 4,
   "metadata": {
    "collapsed": false,
    "id": "6CD193EFFDE147418DBA57A66D31B783",
    "jupyter": {
     "outputs_hidden": false
    },
    "notebookId": "637b54727b4e5f9b3d4883f6",
    "slideshow": {
     "slide_type": "slide"
    },
    "tags": []
   },
   "outputs": [],
   "source": [
    "np.random.seed(123)  # 随机数种子，确保随后生成的随机数相同\n",
    "data = pd.read_csv(\"/home/mw/input/data9464/clean.csv\") # 读取数据\n",
    "data['SNS_t'] = (data['SNS_t'] - data['SNS_t'].mean()) / data['SNS_t'].std()     # 将变量进行标准化\n",
    "data['CSES_t'] = (data['CSES_t'] - data['CSES_t'].mean()) / data['CSES_t'].std() # 将变量进行标准化\n",
    "data['EIB_t'] = (data['EIB_t'] - data['EIB_t'].mean()) / data['EIB_t'].std()     # 将变量进行标准化"
   ]
  },
  {
   "cell_type": "code",
   "execution_count": 19,
   "metadata": {
    "collapsed": false,
    "id": "B1106C6310AB4AB18E39C977EA460774",
    "jupyter": {
     "outputs_hidden": false
    },
    "notebookId": "637b54727b4e5f9b3d4883f6",
    "slideshow": {
     "slide_type": "slide"
    },
    "tags": []
   },
   "outputs": [
    {
     "data": {
      "text/plain": [
       "(1014, 23)"
      ]
     },
     "execution_count": 19,
     "metadata": {},
     "output_type": "execute_result"
    }
   ],
   "source": [
    "data.shape"
   ]
  },
  {
   "cell_type": "code",
   "execution_count": 18,
   "metadata": {
    "collapsed": false,
    "id": "E20649DE061348418F3340F1A4094A85",
    "jupyter": {
     "outputs_hidden": false
    },
    "notebookId": "637b54727b4e5f9b3d4883f6",
    "scrolled": true,
    "slideshow": {
     "slide_type": "slide"
    },
    "tags": []
   },
   "outputs": [
    {
     "data": {
      "text/html": [
       "<div>\n",
       "<style scoped>\n",
       "    .dataframe tbody tr th:only-of-type {\n",
       "        vertical-align: middle;\n",
       "    }\n",
       "\n",
       "    .dataframe tbody tr th {\n",
       "        vertical-align: top;\n",
       "    }\n",
       "\n",
       "    .dataframe thead th {\n",
       "        text-align: right;\n",
       "    }\n",
       "</style>\n",
       "<table border=\"1\" class=\"dataframe\">\n",
       "  <thead>\n",
       "    <tr style=\"text-align: right;\">\n",
       "      <th></th>\n",
       "      <th>Unnamed: 0</th>\n",
       "      <th>id</th>\n",
       "      <th>IP</th>\n",
       "      <th>sex</th>\n",
       "      <th>grade</th>\n",
       "      <th>residence</th>\n",
       "      <th>school</th>\n",
       "      <th>SNS_t</th>\n",
       "      <th>SES_t</th>\n",
       "      <th>CSES_t</th>\n",
       "      <th>...</th>\n",
       "      <th>female</th>\n",
       "      <th>male</th>\n",
       "      <th>freshman</th>\n",
       "      <th>sophomore</th>\n",
       "      <th>junior</th>\n",
       "      <th>senior</th>\n",
       "      <th>rural</th>\n",
       "      <th>city</th>\n",
       "      <th>private</th>\n",
       "      <th>public</th>\n",
       "    </tr>\n",
       "  </thead>\n",
       "  <tbody>\n",
       "    <tr>\n",
       "      <th>1009</th>\n",
       "      <td>1009</td>\n",
       "      <td>1010</td>\n",
       "      <td>广西</td>\n",
       "      <td>female</td>\n",
       "      <td>senior</td>\n",
       "      <td>city</td>\n",
       "      <td>private</td>\n",
       "      <td>-0.267466</td>\n",
       "      <td>0.323852</td>\n",
       "      <td>0.988921</td>\n",
       "      <td>...</td>\n",
       "      <td>1</td>\n",
       "      <td>0</td>\n",
       "      <td>0</td>\n",
       "      <td>0</td>\n",
       "      <td>0</td>\n",
       "      <td>1</td>\n",
       "      <td>0</td>\n",
       "      <td>1</td>\n",
       "      <td>1</td>\n",
       "      <td>0</td>\n",
       "    </tr>\n",
       "    <tr>\n",
       "      <th>1010</th>\n",
       "      <td>1010</td>\n",
       "      <td>1011</td>\n",
       "      <td>广东</td>\n",
       "      <td>female</td>\n",
       "      <td>junior</td>\n",
       "      <td>rural</td>\n",
       "      <td>public</td>\n",
       "      <td>-0.080304</td>\n",
       "      <td>-0.125069</td>\n",
       "      <td>-1.573512</td>\n",
       "      <td>...</td>\n",
       "      <td>1</td>\n",
       "      <td>0</td>\n",
       "      <td>0</td>\n",
       "      <td>0</td>\n",
       "      <td>1</td>\n",
       "      <td>0</td>\n",
       "      <td>1</td>\n",
       "      <td>0</td>\n",
       "      <td>0</td>\n",
       "      <td>1</td>\n",
       "    </tr>\n",
       "    <tr>\n",
       "      <th>1011</th>\n",
       "      <td>1011</td>\n",
       "      <td>1012</td>\n",
       "      <td>广西</td>\n",
       "      <td>female</td>\n",
       "      <td>senior</td>\n",
       "      <td>rural</td>\n",
       "      <td>private</td>\n",
       "      <td>1.393686</td>\n",
       "      <td>0.997233</td>\n",
       "      <td>0.988921</td>\n",
       "      <td>...</td>\n",
       "      <td>1</td>\n",
       "      <td>0</td>\n",
       "      <td>0</td>\n",
       "      <td>0</td>\n",
       "      <td>0</td>\n",
       "      <td>1</td>\n",
       "      <td>1</td>\n",
       "      <td>0</td>\n",
       "      <td>1</td>\n",
       "      <td>0</td>\n",
       "    </tr>\n",
       "    <tr>\n",
       "      <th>1012</th>\n",
       "      <td>1012</td>\n",
       "      <td>1013</td>\n",
       "      <td>广西</td>\n",
       "      <td>male</td>\n",
       "      <td>senior</td>\n",
       "      <td>rural</td>\n",
       "      <td>public</td>\n",
       "      <td>0.258998</td>\n",
       "      <td>-0.125069</td>\n",
       "      <td>0.348312</td>\n",
       "      <td>...</td>\n",
       "      <td>0</td>\n",
       "      <td>1</td>\n",
       "      <td>0</td>\n",
       "      <td>0</td>\n",
       "      <td>0</td>\n",
       "      <td>1</td>\n",
       "      <td>1</td>\n",
       "      <td>0</td>\n",
       "      <td>0</td>\n",
       "      <td>1</td>\n",
       "    </tr>\n",
       "    <tr>\n",
       "      <th>1013</th>\n",
       "      <td>1013</td>\n",
       "      <td>1014</td>\n",
       "      <td>云南</td>\n",
       "      <td>male</td>\n",
       "      <td>freshman</td>\n",
       "      <td>rural</td>\n",
       "      <td>private</td>\n",
       "      <td>-0.588694</td>\n",
       "      <td>1.670615</td>\n",
       "      <td>-0.719368</td>\n",
       "      <td>...</td>\n",
       "      <td>0</td>\n",
       "      <td>1</td>\n",
       "      <td>1</td>\n",
       "      <td>0</td>\n",
       "      <td>0</td>\n",
       "      <td>0</td>\n",
       "      <td>1</td>\n",
       "      <td>0</td>\n",
       "      <td>1</td>\n",
       "      <td>0</td>\n",
       "    </tr>\n",
       "  </tbody>\n",
       "</table>\n",
       "<p>5 rows × 23 columns</p>\n",
       "</div>"
      ],
      "text/plain": [
       "      Unnamed: 0    id  IP     sex     grade residence   school     SNS_t  \\\n",
       "1009        1009  1010  广西  female    senior      city  private -0.267466   \n",
       "1010        1010  1011  广东  female    junior     rural   public -0.080304   \n",
       "1011        1011  1012  广西  female    senior     rural  private  1.393686   \n",
       "1012        1012  1013  广西    male    senior     rural   public  0.258998   \n",
       "1013        1013  1014  云南    male  freshman     rural  private -0.588694   \n",
       "\n",
       "         SES_t    CSES_t  ...  female  male  freshman  sophomore  junior  \\\n",
       "1009  0.323852  0.988921  ...       1     0         0          0       0   \n",
       "1010 -0.125069 -1.573512  ...       1     0         0          0       1   \n",
       "1011  0.997233  0.988921  ...       1     0         0          0       0   \n",
       "1012 -0.125069  0.348312  ...       0     1         0          0       0   \n",
       "1013  1.670615 -0.719368  ...       0     1         1          0       0   \n",
       "\n",
       "      senior  rural  city  private  public  \n",
       "1009       1      0     1        1       0  \n",
       "1010       0      1     0        0       1  \n",
       "1011       1      1     0        1       0  \n",
       "1012       1      1     0        0       1  \n",
       "1013       0      1     0        1       0  \n",
       "\n",
       "[5 rows x 23 columns]"
      ]
     },
     "execution_count": 18,
     "metadata": {},
     "output_type": "execute_result"
    }
   ],
   "source": [
    "data.tail()"
   ]
  },
  {
   "cell_type": "code",
   "execution_count": 5,
   "metadata": {
    "collapsed": false,
    "id": "CDF4222F58E54002B4989421567CE633",
    "jupyter": {
     "outputs_hidden": false
    },
    "notebookId": "637b54727b4e5f9b3d4883f6",
    "slideshow": {
     "slide_type": "slide"
    },
    "tags": []
   },
   "outputs": [
    {
     "name": "stderr",
     "output_type": "stream",
     "text": [
      "/opt/conda/lib/python3.7/site-packages/ipykernel_launcher.py:16: MatplotlibDeprecationWarning: Axes3D(fig) adding itself to the figure is deprecated since 3.4. Pass the keyword argument auto_add_to_figure=False and use fig.add_axes(ax) to suppress this warning. The default value of auto_add_to_figure will change to False in mpl3.5 and True values will no longer work in 3.6.  This is consistent with other Axes classes.\n",
      "  app.launch_new_instance()\n"
     ]
    },
    {
     "data": {
      "text/html": [
       "<img src=\"https://cdn.kesci.com/upload/rt/CDF4222F58E54002B4989421567CE633/rk98p88vbq.png\">"
      ],
      "text/plain": [
       "<Figure size 720x288 with 2 Axes>"
      ]
     },
     "metadata": {
      "needs_background": "light"
     },
     "output_type": "display_data"
    },
    {
     "data": {
      "text/html": [
       "<img src=\"https://cdn.kesci.com/upload/rt/CDF4222F58E54002B4989421567CE633/rk98p894ps.png\">"
      ],
      "text/plain": [
       "<Figure size 432x288 with 1 Axes>"
      ]
     },
     "metadata": {
      "needs_background": "light"
     },
     "output_type": "display_data"
    }
   ],
   "source": [
    "#创建一个画布fig1，该画布有两幅图ax1,ax2，画布尺寸为（10，4）\n",
    "fig1,ax1 = plt.subplots(1,2,figsize=(10,4))\n",
    "\n",
    "#在第一张图的第一个panel上画散点图\n",
    "ax1[0].scatter(data['SNS_t'],data['EIB_t'] )\n",
    "ax1[0].set_xlabel('SNS_t')\n",
    "ax1[0].set_ylabel('EIB_t')\n",
    "\n",
    "#在第一张图的第二个panel上画散点图\n",
    "ax1[1].scatter(data['CSES_t'],data['EIB_t'] )\n",
    "ax1[1].set_xlabel('CSES_t')\n",
    "ax1[1].set_ylabel('EIB_t')\n",
    "\n",
    "#在第二张图（三维空间）画散点图\n",
    "fig2 = plt.figure(2)\n",
    "ax2 = Axes3D(fig2)\n",
    "ax2.scatter(data['SNS_t'],data['CSES_t'],data['EIB_t'] )\n",
    "ax2.set_xlabel('SNS_t')\n",
    "ax2.set_ylabel('CSES_t')\n",
    "ax2.set_zlabel('EIB_t')\n",
    "plt.show()"
   ]
  },
  {
   "cell_type": "markdown",
   "metadata": {
    "id": "8C3DB30D4F2E49DDB37F8882FD8A0426",
    "jupyter": {},
    "notebookId": "637b54727b4e5f9b3d4883f6",
    "slideshow": {
     "slide_type": "slide"
    },
    "tags": []
   },
   "source": [
    "可使用线性模型来探索`创新自我效能感`和`社交网站使用强度`对`个体创新行为`的关系。我们可以使用`PyMC3`来建立该方程."
   ]
  },
  {
   "cell_type": "markdown",
   "metadata": {
    "id": "4174C4B359E7405BA455D821B79063AA",
    "jupyter": {},
    "notebookId": "637b54727b4e5f9b3d4883f6",
    "slideshow": {
     "slide_type": "slide"
    },
    "tags": []
   },
   "source": [
    "在PyMC3中，一个简单的线性模型：\n",
    "\n",
    "1. 通过建立线性模型的概率表达形式来构建模型。\n",
    "\n",
    "2. 通过PyMC3对后验进行采样\n",
    "\n",
    "3. 通过Arviz对结果进行展示，辅助统计推断"
   ]
  },
  {
   "cell_type": "markdown",
   "metadata": {
    "id": "0BAD727F0AA54E10AE5E4AC1D695268E",
    "jupyter": {},
    "notebookId": "637b54727b4e5f9b3d4883f6",
    "slideshow": {
     "slide_type": "slide"
    },
    "tags": []
   },
   "source": [
    "线性模型的一般形式：\n",
    "\n",
    "$y_i = a + b_1 x_1 + b_2 x_2 + \\epsilon$\n",
    "\n",
    "$y_i = \\hat{y} + \\epsilon$\n",
    "\n",
    "线性模型可以用概率的形式进行表达\n",
    "\n",
    "$y \\sim Normal(\\mu_i, sigma)$      ->      y $\\sim$ Normal(mu,sigma)\n",
    "\n",
    "$\\mu_i  = \\alpha+\\beta_1 * x1 +\\beta_2 * x_2$      ->      mu = alpha + $beta_1$  * $x_1$  + $beta_2$   * $x_2$\n",
    "\n",
    "$\\alpha \\sim Normal(0,10)$      ->      a $\\sim$ Normal(mu,sigma)\n",
    "\n",
    "$\\beta_{i}  \\sim Normal(0,10)$      ->      $b_i$ $\\sim$ Normal(mu,sigma)\n",
    "\n",
    "$\\sigma \\sim HalfNormal(1)$      ->      sigma $\\sim$ HalfNormal(1)\n",
    "\n",
    "\n",
    "\n"
   ]
  },
  {
   "cell_type": "markdown",
   "metadata": {
    "id": "6904DD2A0B174577B2F2EFCAC7DF7D6C",
    "jupyter": {},
    "notebookId": "637b54727b4e5f9b3d4883f6",
    "slideshow": {
     "slide_type": "slide"
    },
    "tags": []
   },
   "source": [
    "接下来我们将展示如何用代码将这一形式进行表达。"
   ]
  },
  {
   "cell_type": "markdown",
   "metadata": {
    "id": "CB862B3B395549089862019B26853CB5",
    "jupyter": {},
    "notebookId": "637b54727b4e5f9b3d4883f6",
    "slideshow": {
     "slide_type": "slide"
    },
    "tags": []
   },
   "source": [
    "#### 模型构建"
   ]
  },
  {
   "cell_type": "code",
   "execution_count": 6,
   "metadata": {
    "collapsed": false,
    "id": "5D345F4FA08543C781A6293CDBF03AA1",
    "jupyter": {
     "outputs_hidden": false
    },
    "notebookId": "637b54727b4e5f9b3d4883f6",
    "slideshow": {
     "slide_type": "slide"
    },
    "tags": []
   },
   "outputs": [],
   "source": [
    "#首先，载入pymc3这个包，将其命名为pm\n",
    "import pymc3 as pm\n",
    "# 在pymc3中，pm.Model()定义了一个新的模型对象，这个对象是模型中随机变量的容器\n",
    "# 在python中，容器是一种数据结构，是用来管理特殊数据的对象\n",
    "# with语句定义了一个上下文管理器，以 linear_model 作为上下文，在这个上下文中定义的变量都被添加到这个模型\n",
    "with pm.Model() as linear_model:\n",
    "    # 先验分布: alpha, beta, sigma这三个参数是随机变量\n",
    "    alpha = pm.Normal('alpha',mu=0,sd=10)\n",
    "    beta = pm.Normal('beta',mu=0,sd=10, shape=2)  # shape 用来表示同样的分布的参数的数量\n",
    "    sigma = pm.HalfNormal('sigma',sd=1)\n",
    "\n",
    "    # x1,x2为自变量，是之前已经载入的数据\n",
    "    x1 = pm.Data(\"x1\", data['SNS_t'])\n",
    "    x2 = pm.Data(\"x2\", data['CSES_t'])\n",
    "\n",
    "    # 线性模型：mu是确定性随机变量，这个变量的值完全由右端值确定\n",
    "    mu = pm.Deterministic(\"mu\", alpha + beta[0]*x1 + beta[1]*x2) \n",
    "\n",
    "    # Y的观测值，这是一个特殊的观测随机变量，表示模型数据的可能性。也可以表示模型的似然，通过 observed 参数来告诉这个变量其值是已经被观测到了的，不会被拟合算法改变\n",
    "    y_obs = pm.Normal('y_obs',mu=mu,sd=sigma,observed=data['EIB_t'])\n"
   ]
  },
  {
   "cell_type": "markdown",
   "metadata": {
    "id": "6C9D1ABF92BB46479315FE066A7E7AFD",
    "jupyter": {},
    "notebookId": "637b54727b4e5f9b3d4883f6",
    "slideshow": {
     "slide_type": "slide"
    },
    "tags": []
   },
   "source": [
    "该模型结构可以用可视化的形式进行表达。\n",
    "\n",
    "可以通过PyMC3自带的可视化工具将模型关系可视化。\n",
    "\n",
    "x1，x2为自变量。\n",
    "\n",
    "参数 $\\alpha$ 是线性模型的截距，而 $\\beta1$，$\\beta2$ 是斜率。\n",
    "\n",
    "参数$sigma$是残差，因变量为$y$。\n",
    "\n",
    "模型图展示了各参数通过怎样的关系影响到因变量。"
   ]
  },
  {
   "cell_type": "code",
   "execution_count": 7,
   "metadata": {
    "collapsed": false,
    "id": "6B5742218255486EB973068FD0072D38",
    "jupyter": {
     "outputs_hidden": false
    },
    "notebookId": "637b54727b4e5f9b3d4883f6",
    "slideshow": {
     "slide_type": "slide"
    },
    "tags": []
   },
   "outputs": [
    {
     "data": {
      "text/html": [
       "<img src=\"https://cdn.kesci.com/upload/rt/6B5742218255486EB973068FD0072D38/rk98pxisvj.svg\">"
      ],
      "text/plain": [
       "<graphviz.graphs.Digraph at 0x7faacd7ed450>"
      ]
     },
     "execution_count": 7,
     "metadata": {},
     "output_type": "execute_result"
    }
   ],
   "source": [
    "pm.model_to_graphviz(linear_model)"
   ]
  },
  {
   "cell_type": "markdown",
   "metadata": {
    "id": "DA3A1F636B634A23A04E745FF18CE9B6",
    "jupyter": {},
    "notebookId": "637b54727b4e5f9b3d4883f6",
    "slideshow": {
     "slide_type": "slide"
    },
    "tags": []
   },
   "source": [
    "#### 模型拟合"
   ]
  },
  {
   "cell_type": "markdown",
   "metadata": {
    "id": "2B60FF27D19245E7B7C146B9807632F2",
    "jupyter": {},
    "notebookId": "637b54727b4e5f9b3d4883f6",
    "slideshow": {
     "slide_type": "slide"
    },
    "tags": []
   },
   "source": [
    "构建模型之后，我们可以进行模型拟合\n",
    "\n",
    "获得模型中未知变量的后验估计。考虑两个方法：\n",
    "（1）使用优化方法找到参数的极大后验估计点(maximum a posteriori(MAP))\n",
    "\n",
    "我们也可以使用极大后验估计 MAP(pm.find_MAP)来进行优化。\n",
    "\n",
    "（2）使用MCMC采样方法获得后验分布来计算。\n",
    "\n",
    "在本例中，我们使用MCMC来进行采样，函数为pm.sample(),"
   ]
  },
  {
   "cell_type": "code",
   "execution_count": 8,
   "metadata": {
    "collapsed": false,
    "id": "C8DFFB9870254B569C6B080F486474CA",
    "jupyter": {
     "outputs_hidden": false
    },
    "notebookId": "637b54727b4e5f9b3d4883f6",
    "slideshow": {
     "slide_type": "slide"
    },
    "tags": []
   },
   "outputs": [
    {
     "name": "stderr",
     "output_type": "stream",
     "text": [
      "Auto-assigning NUTS sampler...\n",
      "Initializing NUTS using jitter+adapt_diag...\n",
      "Multiprocess sampling (2 chains in 2 jobs)\n",
      "NUTS: [sigma, beta, alpha]\n"
     ]
    },
    {
     "data": {
      "text/html": [
       "\n",
       "<style>\n",
       "    /* Turns off some styling */\n",
       "    progress {\n",
       "        /* gets rid of default border in Firefox and Opera. */\n",
       "        border: none;\n",
       "        /* Needs to be in here for Safari polyfill so background images work as expected. */\n",
       "        background-size: auto;\n",
       "    }\n",
       "    progress:not([value]), progress:not([value])::-webkit-progress-bar {\n",
       "        background: repeating-linear-gradient(45deg, #7e7e7e, #7e7e7e 10px, #5c5c5c 10px, #5c5c5c 20px);\n",
       "    }\n",
       "    .progress-bar-interrupted, .progress-bar-interrupted::-webkit-progress-bar {\n",
       "        background: #F44336;\n",
       "    }\n",
       "</style>\n"
      ],
      "text/plain": [
       "<IPython.core.display.HTML object>"
      ]
     },
     "metadata": {},
     "output_type": "display_data"
    },
    {
     "name": "stderr",
     "output_type": "stream",
     "text": [
      "Sampling 2 chains for 1_000 tune and 2_000 draw iterations (2_000 + 4_000 draws total) took 6 seconds.\n"
     ]
    }
   ],
   "source": [
    "#采样过程仍在该容器中进行\n",
    "with linear_model :\n",
    "    # 使用mcmc方法进行采样，draws为采样次数，tune为调整采样策略的次数，这些次数将在采样结束后被丢弃，\n",
    "    # target_accept为接受率， return_inferencedata=True为该函数返回的对象是arviz.InnferenceData对象\n",
    "    # chains为我们采样的链数，cores为我们的调用的cpu数，多个链可以在多个cpu中并行计算，我们在和鲸中调用的cpu数为2\n",
    "    trace = pm.sample(draws = 2000, tune=1000, target_accept=0.9,chains=2, cores= 2,return_inferencedata=True)"
   ]
  },
  {
   "cell_type": "markdown",
   "metadata": {
    "id": "8D6A97193FAF49178602186B359F09E4",
    "jupyter": {},
    "notebookId": "637b54727b4e5f9b3d4883f6",
    "slideshow": {
     "slide_type": "slide"
    },
    "tags": []
   },
   "source": [
    "#### 参数的后验分布\n",
    "这里的模型分析结果展示了各参数的分布(后验)情况"
   ]
  },
  {
   "cell_type": "markdown",
   "metadata": {
    "id": "7C945C41377941D5AF2454E7195FA78E",
    "jupyter": {},
    "notebookId": "637b54727b4e5f9b3d4883f6",
    "slideshow": {
     "slide_type": "slide"
    },
    "tags": []
   },
   "source": [
    "ArviZ的plot_trace会展示左右两幅图:\n",
    "\n",
    "左图描述了采样的各个马尔可夫链参数的后验分布，左图的横坐标为后验分布的取值范围，纵轴为概率密度。如果有两个参数在同一幅图中，就会用不同颜色的曲线表示\n",
    "\n",
    "右图描述了采样的各个马尔可夫链的参数的采样情况，右图的横坐标为每次采样次数，纵坐标为每一次采样的值"
   ]
  },
  {
   "cell_type": "code",
   "execution_count": 9,
   "metadata": {
    "collapsed": false,
    "id": "EE220413F6994519B31B0F4E823C7E11",
    "jupyter": {
     "outputs_hidden": false
    },
    "notebookId": "637b54727b4e5f9b3d4883f6",
    "slideshow": {
     "slide_type": "slide"
    },
    "tags": []
   },
   "outputs": [
    {
     "data": {
      "text/plain": [
       "array([[<AxesSubplot:title={'center':'alpha'}>,\n",
       "        <AxesSubplot:title={'center':'alpha'}>],\n",
       "       [<AxesSubplot:title={'center':'beta'}>,\n",
       "        <AxesSubplot:title={'center':'beta'}>],\n",
       "       [<AxesSubplot:title={'center':'sigma'}>,\n",
       "        <AxesSubplot:title={'center':'sigma'}>]], dtype=object)"
      ]
     },
     "execution_count": 9,
     "metadata": {},
     "output_type": "execute_result"
    },
    {
     "data": {
      "text/html": [
       "<img src=\"https://cdn.kesci.com/upload/rt/EE220413F6994519B31B0F4E823C7E11/rk98rgk3ri.png\">"
      ],
      "text/plain": [
       "<Figure size 864x432 with 6 Axes>"
      ]
     },
     "metadata": {
      "needs_background": "light"
     },
     "output_type": "display_data"
    }
   ],
   "source": [
    "# 绘制特定参数的采样情况，选取对象为trace，选取其中'alpha','beta','sigma'三个参数\n",
    "az.plot_trace(trace,var_names=['alpha','beta','sigma'])"
   ]
  },
  {
   "cell_type": "markdown",
   "metadata": {
    "id": "D3E34C3C031B4977A1494EF9780F19DE",
    "jupyter": {},
    "notebookId": "637b54727b4e5f9b3d4883f6",
    "slideshow": {
     "slide_type": "slide"
    },
    "tags": []
   },
   "source": [
    "ArviZ的plot_forest会展示森林图\n",
    "\n",
    "该图会展示不同后验分布的94%的可信区间，横轴为后验分布的取值范围，纵轴为不同参数。\n",
    "\n",
    "对于每一个参数，粗线展示了采样的各马尔可夫链的94%的可信区间，细线展示了参数的取值范围。\n",
    "\n",
    "若r_hat=True，右图会展示r_hat的值，该值通过比较模型参数的链间和链内估计值反映了采样的收敛性，r-hat值越接近1则收敛情况越好。"
   ]
  },
  {
   "cell_type": "code",
   "execution_count": 10,
   "metadata": {
    "collapsed": false,
    "id": "C5541730CD0242D8B1CF2A3A5168C245",
    "jupyter": {
     "outputs_hidden": false
    },
    "notebookId": "637b54727b4e5f9b3d4883f6",
    "slideshow": {
     "slide_type": "slide"
    },
    "tags": []
   },
   "outputs": [
    {
     "data": {
      "text/plain": [
       "array([<AxesSubplot:title={'center':'94.0% HDI'}>,\n",
       "       <AxesSubplot:title={'center':'r_hat'}>], dtype=object)"
      ]
     },
     "execution_count": 10,
     "metadata": {},
     "output_type": "execute_result"
    },
    {
     "data": {
      "text/html": [
       "<img src=\"https://cdn.kesci.com/upload/rt/C5541730CD0242D8B1CF2A3A5168C245/rk98rgvlof.png\">"
      ],
      "text/plain": [
       "<Figure size 576x489.6 with 2 Axes>"
      ]
     },
     "metadata": {
      "needs_background": "light"
     },
     "output_type": "display_data"
    }
   ],
   "source": [
    "# 绘制特定参数的森林图，选取对象为trace，选取其中'alpha','beta','sigma'三个参数\n",
    "az.plot_forest(trace,var_names=['alpha','beta','sigma'],r_hat=True)"
   ]
  },
  {
   "cell_type": "markdown",
   "metadata": {
    "id": "72A9CBE1621345D785BD6207E076455A",
    "jupyter": {},
    "notebookId": "637b54727b4e5f9b3d4883f6",
    "slideshow": {
     "slide_type": "slide"
    },
    "tags": []
   },
   "source": [
    "ArviZ的plot_posterior绘制了参数的后验分布图\n",
    "\n",
    "该图的横轴为后验分布值，横线为94%可信区间，曲线高度代表概率密度，曲线上方展示了后验分布的平均值"
   ]
  },
  {
   "cell_type": "code",
   "execution_count": 11,
   "metadata": {
    "collapsed": false,
    "id": "760D3DCEF54B4C4DA47D9C949C3DE03D",
    "jupyter": {
     "outputs_hidden": false
    },
    "notebookId": "637b54727b4e5f9b3d4883f6",
    "slideshow": {
     "slide_type": "slide"
    },
    "tags": []
   },
   "outputs": [
    {
     "name": "stdout",
     "output_type": "stream",
     "text": [
      "beta0大于0的概率为0.99675\n",
      "beta1大于0的概率为0.99725\n"
     ]
    },
    {
     "data": {
      "text/html": [
       "<img src=\"https://cdn.kesci.com/upload/rt/760D3DCEF54B4C4DA47D9C949C3DE03D/rk98rh6rnv.png\">"
      ],
      "text/plain": [
       "<Figure size 1987.2x331.2 with 4 Axes>"
      ]
     },
     "metadata": {
      "needs_background": "light"
     },
     "output_type": "display_data"
    }
   ],
   "source": [
    "# 参数的后验分布图，选取对象为trace，选取其中'alpha','beta','sigma'三个参数\n",
    "az.plot_posterior(trace,var_names=['alpha','beta','sigma'])\n",
    "# beta1和beta2的后验分布值大于0的比例，若大于95%则可认为对应的自变量对因变量有影响\n",
    "print(f\"beta0大于0的概率为{(trace.posterior.beta[0] > 0).mean().values}\")\n",
    "print(f\"beta1大于0的概率为{(trace.posterior.beta[1] > 0).mean().values}\")"
   ]
  },
  {
   "cell_type": "markdown",
   "metadata": {
    "id": "5A7DE41209514156A87C5BD8E44E4B81",
    "jupyter": {},
    "notebookId": "637b54727b4e5f9b3d4883f6",
    "slideshow": {
     "slide_type": "slide"
    },
    "tags": []
   },
   "source": [
    "#### 模型诊断\n",
    "\n",
    "通过模型思维进行数据分析需要注意模型检验，即检验模型是否能有效的反应数据的特征。"
   ]
  },
  {
   "cell_type": "markdown",
   "metadata": {
    "id": "C5D8AEA4B5534D6D89ABB60E2DBF679A",
    "jupyter": {},
    "notebookId": "637b54727b4e5f9b3d4883f6",
    "slideshow": {
     "slide_type": "slide"
    },
    "tags": []
   },
   "source": [
    "下表格为模型参数的基本信息：\n",
    "\n",
    "`mean`和`sd` 为各参数的均值和标准差；\n",
    "hdi 3%-97% 为参数分布的可信区间的下限和上限\n",
    "msce mean和sd 为mcmc采样标准误统计量的均值和标准差；\n",
    "由于采样过程中存在自相关，不是所有样本都是有效的，ess bulk和tail 反应了mcmc采样有效样本数量相关性能，ess_bulk表明有效样本数的大小。\n",
    "r_hat, $\\hat{R}$, 为参数收敛性的指标。"
   ]
  },
  {
   "cell_type": "code",
   "execution_count": 12,
   "metadata": {
    "collapsed": false,
    "id": "AC2F3D72C14646CCBEC7BB955614CB5D",
    "jupyter": {
     "outputs_hidden": false
    },
    "notebookId": "637b54727b4e5f9b3d4883f6",
    "slideshow": {
     "slide_type": "slide"
    },
    "tags": []
   },
   "outputs": [
    {
     "data": {
      "text/html": [
       "<div>\n",
       "<style scoped>\n",
       "    .dataframe tbody tr th:only-of-type {\n",
       "        vertical-align: middle;\n",
       "    }\n",
       "\n",
       "    .dataframe tbody tr th {\n",
       "        vertical-align: top;\n",
       "    }\n",
       "\n",
       "    .dataframe thead th {\n",
       "        text-align: right;\n",
       "    }\n",
       "</style>\n",
       "<table border=\"1\" class=\"dataframe\">\n",
       "  <thead>\n",
       "    <tr style=\"text-align: right;\">\n",
       "      <th></th>\n",
       "      <th>mean</th>\n",
       "      <th>sd</th>\n",
       "      <th>hdi_3%</th>\n",
       "      <th>hdi_97%</th>\n",
       "      <th>mcse_mean</th>\n",
       "      <th>mcse_sd</th>\n",
       "      <th>ess_bulk</th>\n",
       "      <th>ess_tail</th>\n",
       "      <th>r_hat</th>\n",
       "    </tr>\n",
       "  </thead>\n",
       "  <tbody>\n",
       "    <tr>\n",
       "      <th>alpha</th>\n",
       "      <td>0.000</td>\n",
       "      <td>0.019</td>\n",
       "      <td>-0.037</td>\n",
       "      <td>0.036</td>\n",
       "      <td>0.0</td>\n",
       "      <td>0.0</td>\n",
       "      <td>4051.0</td>\n",
       "      <td>3262.0</td>\n",
       "      <td>1.0</td>\n",
       "    </tr>\n",
       "    <tr>\n",
       "      <th>beta[0]</th>\n",
       "      <td>0.049</td>\n",
       "      <td>0.021</td>\n",
       "      <td>0.010</td>\n",
       "      <td>0.088</td>\n",
       "      <td>0.0</td>\n",
       "      <td>0.0</td>\n",
       "      <td>3096.0</td>\n",
       "      <td>2762.0</td>\n",
       "      <td>1.0</td>\n",
       "    </tr>\n",
       "    <tr>\n",
       "      <th>beta[1]</th>\n",
       "      <td>0.775</td>\n",
       "      <td>0.021</td>\n",
       "      <td>0.735</td>\n",
       "      <td>0.812</td>\n",
       "      <td>0.0</td>\n",
       "      <td>0.0</td>\n",
       "      <td>3594.0</td>\n",
       "      <td>3122.0</td>\n",
       "      <td>1.0</td>\n",
       "    </tr>\n",
       "    <tr>\n",
       "      <th>sigma</th>\n",
       "      <td>0.609</td>\n",
       "      <td>0.014</td>\n",
       "      <td>0.585</td>\n",
       "      <td>0.637</td>\n",
       "      <td>0.0</td>\n",
       "      <td>0.0</td>\n",
       "      <td>3625.0</td>\n",
       "      <td>2887.0</td>\n",
       "      <td>1.0</td>\n",
       "    </tr>\n",
       "  </tbody>\n",
       "</table>\n",
       "</div>"
      ],
      "text/plain": [
       "          mean     sd  hdi_3%  hdi_97%  mcse_mean  mcse_sd  ess_bulk  \\\n",
       "alpha    0.000  0.019  -0.037    0.036        0.0      0.0    4051.0   \n",
       "beta[0]  0.049  0.021   0.010    0.088        0.0      0.0    3096.0   \n",
       "beta[1]  0.775  0.021   0.735    0.812        0.0      0.0    3594.0   \n",
       "sigma    0.609  0.014   0.585    0.637        0.0      0.0    3625.0   \n",
       "\n",
       "         ess_tail  r_hat  \n",
       "alpha      3262.0    1.0  \n",
       "beta[0]    2762.0    1.0  \n",
       "beta[1]    3122.0    1.0  \n",
       "sigma      2887.0    1.0  "
      ]
     },
     "execution_count": 12,
     "metadata": {},
     "output_type": "execute_result"
    }
   ],
   "source": [
    "# 参数的后验分布图，选取对象为trace，选取其中'alpha','beta','sigma'三个参数\n",
    "az.summary(trace,var_names=['alpha','beta','sigma'])"
   ]
  },
  {
   "cell_type": "markdown",
   "metadata": {
    "id": "772F5F7D3A254D6B8DEC21CB77CF755D",
    "jupyter": {},
    "notebookId": "637b54727b4e5f9b3d4883f6",
    "slideshow": {
     "slide_type": "slide"
    },
    "tags": []
   },
   "source": [
    "### 后验预测检验 ppc (posterior predictive check)"
   ]
  },
  {
   "cell_type": "markdown",
   "metadata": {
    "id": "493BEC04F87B450595DED01C15E1FC16",
    "jupyter": {},
    "notebookId": "637b54727b4e5f9b3d4883f6",
    "slideshow": {
     "slide_type": "slide"
    },
    "tags": []
   },
   "source": [
    "后验预测分布就是利用现有数据对未来数据进行预测，即\n",
    "\n",
    "$p(\\tilde{Y}|Y)=\\int_{\\Theta }^{}p(\\tilde{Y}|\\theta)p(\\theta|Y)d\\theta$"
   ]
  },
  {
   "cell_type": "code",
   "execution_count": 13,
   "metadata": {
    "collapsed": false,
    "id": "81DBC0ECC0354DF88533D1247B715A8F",
    "jupyter": {
     "outputs_hidden": false
    },
    "notebookId": "637b54727b4e5f9b3d4883f6",
    "slideshow": {
     "slide_type": "slide"
    },
    "tags": []
   },
   "outputs": [
    {
     "data": {
      "text/html": [
       "\n",
       "<style>\n",
       "    /* Turns off some styling */\n",
       "    progress {\n",
       "        /* gets rid of default border in Firefox and Opera. */\n",
       "        border: none;\n",
       "        /* Needs to be in here for Safari polyfill so background images work as expected. */\n",
       "        background-size: auto;\n",
       "    }\n",
       "    progress:not([value]), progress:not([value])::-webkit-progress-bar {\n",
       "        background: repeating-linear-gradient(45deg, #7e7e7e, #7e7e7e 10px, #5c5c5c 10px, #5c5c5c 20px);\n",
       "    }\n",
       "    .progress-bar-interrupted, .progress-bar-interrupted::-webkit-progress-bar {\n",
       "        background: #F44336;\n",
       "    }\n",
       "</style>\n"
      ],
      "text/plain": [
       "<IPython.core.display.HTML object>"
      ]
     },
     "metadata": {},
     "output_type": "display_data"
    },
    {
     "data": {
      "text/html": "\n    <div>\n      <progress value='4000' class='' max='4000' style='width:300px; height:20px; vertical-align: middle;'></progress>\n      100.00% [4000/4000 00:06&lt;00:00]\n    </div>\n    ",
      "text/plain": "<IPython.core.display.HTML object>"
     },
     "metadata": {},
     "output_type": "update_display_data"
    },
    {
     "name": "stderr",
     "output_type": "stream",
     "text": [
      "/opt/conda/lib/python3.7/site-packages/arviz/data/io_pymc3.py:100: FutureWarning: Using `from_pymc3` without the model will be deprecated in a future release. Not using the model will return less accurate and less useful results. Make sure you use the model argument or call from_pymc3 within a model context.\n",
      "  FutureWarning,\n"
     ]
    }
   ],
   "source": [
    "# 后验预测分布的计算仍在容器中进行\n",
    "with linear_model:\n",
    "    # pm.sample_posterior_predictive()利用trace.posterior的后验分布计算后验预测分布\n",
    "    ppc_y = pm.sample_posterior_predictive(trace.posterior) \n",
    "#将ppc_y转化为InferenceData对象合并到trace中\n",
    "az.concat(trace, az.from_pymc3(posterior_predictive=ppc_y), inplace=True)"
   ]
  },
  {
   "cell_type": "markdown",
   "metadata": {
    "id": "0E23D47945D64E8A84028382AA879577",
    "jupyter": {},
    "notebookId": "637b54727b4e5f9b3d4883f6",
    "slideshow": {
     "slide_type": "slide"
    },
    "tags": []
   },
   "source": [
    "后验预测分布展示如下，横轴为观察到的数据，纵轴为概率密度，\n",
    "\n",
    "黑色实线为真实的观测值的分布，蓝色实线为根据不同后验分布的参数值模拟得到的预测分布，\n",
    "\n",
    "蓝色虚线为不同后验分布的参数值模拟得到的预测分布的平均值。"
   ]
  },
  {
   "cell_type": "code",
   "execution_count": 14,
   "metadata": {
    "collapsed": false,
    "id": "73CC1F5DF253485EB4482FD4954B1400",
    "jupyter": {
     "outputs_hidden": false
    },
    "notebookId": "637b54727b4e5f9b3d4883f6",
    "slideshow": {
     "slide_type": "slide"
    },
    "tags": []
   },
   "outputs": [
    {
     "data": {
      "text/plain": [
       "<AxesSubplot:xlabel='y_obs'>"
      ]
     },
     "execution_count": 14,
     "metadata": {},
     "output_type": "execute_result"
    },
    {
     "name": "stderr",
     "output_type": "stream",
     "text": [
      "/opt/conda/lib/python3.7/site-packages/IPython/core/pylabtools.py:151: UserWarning: Creating legend with loc=\"best\" can be slow with large amounts of data.\n",
      "  fig.canvas.print_figure(bytes_io, **kw)\n"
     ]
    },
    {
     "data": {
      "text/html": [
       "<img src=\"https://cdn.kesci.com/upload/rt/73CC1F5DF253485EB4482FD4954B1400/rk98sigg6v.png\">"
      ],
      "text/plain": [
       "<Figure size 432x288 with 1 Axes>"
      ]
     },
     "metadata": {
      "needs_background": "light"
     },
     "output_type": "display_data"
    }
   ],
   "source": [
    "# 绘制后验预测分布\n",
    "az.plot_ppc(trace)"
   ]
  },
  {
   "cell_type": "markdown",
   "metadata": {
    "id": "7AEFFE9BCF5D453DB83C0C84BE33DB91",
    "jupyter": {},
    "notebookId": "637b54727b4e5f9b3d4883f6",
    "slideshow": {
     "slide_type": "slide"
    },
    "tags": []
   },
   "source": [
    "# 练习"
   ]
  },
  {
   "cell_type": "markdown",
   "metadata": {
    "id": "A7C3F8CAD22E4298AC6C7958FF551ABE",
    "jupyter": {},
    "notebookId": "637b54727b4e5f9b3d4883f6",
    "slideshow": {
     "slide_type": "slide"
    },
    "tags": []
   },
   "source": [
    "还有研究发现个体创新行为可能与自尊水平有关。\n",
    "SES_t:自尊水平；\n",
    "EIB_t创新行为"
   ]
  },
  {
   "cell_type": "code",
   "execution_count": 15,
   "metadata": {
    "collapsed": false,
    "id": "0D84FC70F9CD4C67969EC0CDF72EDD31",
    "jupyter": {
     "outputs_hidden": false
    },
    "notebookId": "637b54727b4e5f9b3d4883f6",
    "slideshow": {
     "slide_type": "slide"
    },
    "tags": []
   },
   "outputs": [
    {
     "data": {
      "text/plain": [
       "Text(0, 0.5, 'EIB_t')"
      ]
     },
     "execution_count": 15,
     "metadata": {},
     "output_type": "execute_result"
    },
    {
     "data": {
      "text/html": [
       "<img src=\"https://cdn.kesci.com/upload/rt/0D84FC70F9CD4C67969EC0CDF72EDD31/rk98si5xvu.png\">"
      ],
      "text/plain": [
       "<Figure size 432x288 with 1 Axes>"
      ]
     },
     "metadata": {
      "needs_background": "light"
     },
     "output_type": "display_data"
    }
   ],
   "source": [
    "data['SES_t'] = (data['SES_t'] - data['SES_t'].mean()) / data['SES_t'].std()#将变量进行标准化\n",
    "\n",
    "data['EIB_t'] = (data['EIB_t'] - data['EIB_t'].mean()) / data['EIB_t'].std()#将变量进行标准化\n",
    "\n",
    "plt.scatter(data['SES_t'],data['EIB_t'])\n",
    "plt.xlabel('SES_t')\n",
    "plt.ylabel('EIB_t')"
   ]
  },
  {
   "cell_type": "markdown",
   "metadata": {
    "id": "F66BE7EC67E94FAB89F51042D251ABC1",
    "jupyter": {},
    "notebookId": "637b54727b4e5f9b3d4883f6",
    "slideshow": {
     "slide_type": "slide"
    },
    "tags": []
   },
   "source": [
    "## Workflow"
   ]
  },
  {
   "cell_type": "markdown",
   "metadata": {
    "id": "8F1FAA68DD124FF78A48274C9481826B",
    "jupyter": {},
    "notebookId": "637b54727b4e5f9b3d4883f6",
    "slideshow": {
     "slide_type": "slide"
    },
    "tags": []
   },
   "source": [
    "尝试构建一个简单的线性模型\n",
    "\n",
    "线性模型可以用概率的形式进行表达\n",
    "\n",
    "\n",
    "$\\alpha \\sim Normal(0,10)$      ->      a $\\sim$ Normal(mu,sigma)\n",
    "\n",
    "$\\beta  \\sim Normal(0,10)$      ->      b $\\sim$ Normal(mu,sigma)\n",
    "\n",
    "$\\sigma \\sim HalfNormal(1)$      ->      sigma $\\sim$ HalfNormal(1)\n",
    "\n",
    "$\\mu_i  = \\alpha + \\beta *x$      ->      mu = alpha + beta*x \n",
    "\n",
    "$y \\sim Normal(\\mu_i,sigma)$      ->      y $\\sim$ Normal(mu,sigma)"
   ]
  },
  {
   "cell_type": "markdown",
   "metadata": {
    "id": "824CF3FB98394240B4E86A38981E7721",
    "jupyter": {},
    "notebookId": "637b54727b4e5f9b3d4883f6",
    "slideshow": {
     "slide_type": "slide"
    },
    "tags": []
   },
   "source": [
    "请同学们从之前的代码中找到对应的部分，自己完成一个完整的workflow"
   ]
  },
  {
   "cell_type": "markdown",
   "metadata": {
    "id": "6CE565DBB3804C1C8B53C6B7183FAAB1",
    "jupyter": {},
    "notebookId": "637b54727b4e5f9b3d4883f6",
    "slideshow": {
     "slide_type": "slide"
    },
    "tags": []
   },
   "source": [
    "### 建立模型"
   ]
  },
  {
   "cell_type": "code",
   "execution_count": 16,
   "metadata": {
    "collapsed": false,
    "id": "5E5C4F1501884FC9A7DD9880E0726CB4",
    "jupyter": {
     "outputs_hidden": false
    },
    "notebookId": "637b54727b4e5f9b3d4883f6",
    "slideshow": {
     "slide_type": "slide"
    },
    "tags": []
   },
   "outputs": [
    {
     "ename": "NameError",
     "evalue": "name 'x' is not defined",
     "output_type": "error",
     "traceback": [
      "\u001b[0;31m---------------------------------------------------------------------------\u001b[0m",
      "\u001b[0;31mNameError\u001b[0m                                 Traceback (most recent call last)",
      "\u001b[0;32m/tmp/ipykernel_109/1950748707.py\u001b[0m in \u001b[0;36m<module>\u001b[0;34m\u001b[0m\n\u001b[1;32m     10\u001b[0m     \u001b[0msigma\u001b[0m \u001b[0;34m=\u001b[0m \u001b[0mpm\u001b[0m\u001b[0;34m.\u001b[0m\u001b[0mHalfNormal\u001b[0m\u001b[0;34m(\u001b[0m\u001b[0;34m'sigma'\u001b[0m\u001b[0;34m,\u001b[0m\u001b[0msd\u001b[0m\u001b[0;34m=\u001b[0m\u001b[0;36m1\u001b[0m\u001b[0;34m)\u001b[0m\u001b[0;34m\u001b[0m\u001b[0;34m\u001b[0m\u001b[0m\n\u001b[1;32m     11\u001b[0m     \u001b[0;31m#\u001b[0m\u001b[0;34m\u001b[0m\u001b[0;34m\u001b[0m\u001b[0;34m\u001b[0m\u001b[0m\n\u001b[0;32m---> 12\u001b[0;31m     \u001b[0mx\u001b[0m \u001b[0;34m=\u001b[0m \u001b[0mpm\u001b[0m\u001b[0;34m.\u001b[0m\u001b[0mData\u001b[0m\u001b[0;34m(\u001b[0m\u001b[0;34m\"x\"\u001b[0m\u001b[0;34m,\u001b[0m \u001b[0mx\u001b[0m\u001b[0;34m)\u001b[0m\u001b[0;34m\u001b[0m\u001b[0;34m\u001b[0m\u001b[0m\n\u001b[0m\u001b[1;32m     13\u001b[0m     \u001b[0;31m#\u001b[0m\u001b[0;34m\u001b[0m\u001b[0;34m\u001b[0m\u001b[0;34m\u001b[0m\u001b[0m\n\u001b[1;32m     14\u001b[0m     \u001b[0mmu\u001b[0m \u001b[0;34m=\u001b[0m \u001b[0mpm\u001b[0m\u001b[0;34m.\u001b[0m\u001b[0mDeterministic\u001b[0m\u001b[0;34m(\u001b[0m\u001b[0;34m\"mu\"\u001b[0m\u001b[0;34m,\u001b[0m \u001b[0;34m...\u001b[0m\u001b[0;34m)\u001b[0m\u001b[0;34m\u001b[0m\u001b[0;34m\u001b[0m\u001b[0m\n",
      "\u001b[0;31mNameError\u001b[0m: name 'x' is not defined"
     ]
    }
   ],
   "source": [
    "########################################################\n",
    "# 练习\n",
    "# 请尝试表达自变量与预测值的线性关系,并将...替换为表达式\n",
    "########################################################\n",
    "linear_model = pm.Model()\n",
    "with linear_model :\n",
    "    #\n",
    "    alpha = pm.Normal('alpha',mu=0,sd=10)\n",
    "    beta = pm.Normal('beta',mu=0,sd=10,shape=2)\n",
    "    sigma = pm.HalfNormal('sigma',sd=1)\n",
    "    #\n",
    "    x = pm.Data(\"x\", x)\n",
    "    #\n",
    "    mu = pm.Deterministic(\"mu\", ...) \n",
    "    #\n",
    "    y_obs = pm.Normal('y_obs',mu=mu,sd=sigma,observed=y)"
   ]
  },
  {
   "cell_type": "code",
   "execution_count": null,
   "metadata": {
    "collapsed": false,
    "id": "3B019158836D41BDACE1F9425A675DBE",
    "jupyter": {
     "outputs_hidden": false
    },
    "notebookId": "637b54727b4e5f9b3d4883f6",
    "slideshow": {
     "slide_type": "slide"
    },
    "tags": []
   },
   "outputs": [],
   "source": [
    "########################################################\n",
    "# 模型结构\n",
    "# \n",
    "########################################################"
   ]
  },
  {
   "cell_type": "markdown",
   "metadata": {
    "id": "42D9EA5C0B4C46FF96896123613FEDFC",
    "jupyter": {},
    "notebookId": "637b54727b4e5f9b3d4883f6",
    "slideshow": {
     "slide_type": "slide"
    },
    "tags": []
   },
   "source": [
    "### 模型拟合"
   ]
  },
  {
   "cell_type": "code",
   "execution_count": null,
   "metadata": {
    "collapsed": false,
    "id": "EE67B70D42804444A470850817BE65D3",
    "jupyter": {
     "outputs_hidden": false
    },
    "notebookId": "637b54727b4e5f9b3d4883f6",
    "slideshow": {
     "slide_type": "slide"
    },
    "tags": []
   },
   "outputs": [],
   "source": [
    "########################################################\n",
    "# 模型拟合\n",
    "# 采样方法为mcmc，采样次数为3000次，tune次数为500，接受率为0.5\n",
    "########################################################"
   ]
  },
  {
   "cell_type": "markdown",
   "metadata": {
    "id": "76105C7950EF4C4FACB0B7105A2534C1",
    "jupyter": {},
    "notebookId": "637b54727b4e5f9b3d4883f6",
    "slideshow": {
     "slide_type": "slide"
    },
    "tags": []
   },
   "source": [
    "### 参数的后验分布"
   ]
  },
  {
   "cell_type": "code",
   "execution_count": null,
   "metadata": {
    "collapsed": false,
    "id": "6B2EFFED62294A80B6349043098A34D6",
    "jupyter": {
     "outputs_hidden": false
    },
    "notebookId": "637b54727b4e5f9b3d4883f6",
    "slideshow": {
     "slide_type": "slide"
    },
    "tags": []
   },
   "outputs": [],
   "source": [
    "########################################################\n",
    "# 绘制参数的采样情况\n",
    "# \n",
    "########################################################"
   ]
  },
  {
   "cell_type": "code",
   "execution_count": null,
   "metadata": {
    "collapsed": false,
    "id": "4CA190C4B5764F21860BBACD2EF83FFA",
    "jupyter": {
     "outputs_hidden": false
    },
    "notebookId": "637b54727b4e5f9b3d4883f6",
    "slideshow": {
     "slide_type": "slide"
    },
    "tags": []
   },
   "outputs": [],
   "source": [
    "########################################################\n",
    "# 绘制参数的森林图\n",
    "# \n",
    "########################################################"
   ]
  },
  {
   "cell_type": "code",
   "execution_count": null,
   "metadata": {
    "collapsed": false,
    "id": "680B6A11C8B6429D968D95A009EDC402",
    "jupyter": {
     "outputs_hidden": false
    },
    "notebookId": "637b54727b4e5f9b3d4883f6",
    "slideshow": {
     "slide_type": "slide"
    },
    "tags": []
   },
   "outputs": [],
   "source": [
    "########################################################\n",
    "# 绘制参数的后验分布\n",
    "# \n",
    "########################################################"
   ]
  },
  {
   "cell_type": "code",
   "execution_count": null,
   "metadata": {
    "collapsed": false,
    "id": "BDC25BCAD804409698E6EA8A1666FAFA",
    "jupyter": {
     "outputs_hidden": false
    },
    "notebookId": "637b54727b4e5f9b3d4883f6",
    "slideshow": {
     "slide_type": "slide"
    },
    "tags": []
   },
   "outputs": [],
   "source": [
    "########################################################\n",
    "# 判断自变量是否能影响因变量\n",
    "# \n",
    "########################################################"
   ]
  },
  {
   "cell_type": "markdown",
   "metadata": {
    "id": "2C42E5EA98B44D6D9AE6C76A66BA1B7A",
    "jupyter": {},
    "notebookId": "637b54727b4e5f9b3d4883f6",
    "slideshow": {
     "slide_type": "slide"
    },
    "tags": []
   },
   "source": [
    "### 模型诊断"
   ]
  },
  {
   "cell_type": "code",
   "execution_count": null,
   "metadata": {
    "collapsed": false,
    "id": "D8535802CF714351A663B0B343F0F6D0",
    "jupyter": {
     "outputs_hidden": false
    },
    "notebookId": "637b54727b4e5f9b3d4883f6",
    "slideshow": {
     "slide_type": "slide"
    },
    "tags": []
   },
   "outputs": [],
   "source": [
    "########################################################\n",
    "# 描述模型的统计指标\n",
    "# \n",
    "########################################################"
   ]
  },
  {
   "cell_type": "code",
   "execution_count": null,
   "metadata": {
    "collapsed": false,
    "id": "A7D9348B3FF04BA1A683F3D677CD5A46",
    "jupyter": {
     "outputs_hidden": false
    },
    "notebookId": "637b54727b4e5f9b3d4883f6",
    "slideshow": {
     "slide_type": "slide"
    },
    "tags": []
   },
   "outputs": [],
   "source": [
    "########################################################\n",
    "# 绘制后验分布预测\n",
    "# \n",
    "########################################################"
   ]
  }
 ],
 "metadata": {
  "kernelspec": {
   "display_name": "Python 3 (ipykernel)",
   "language": "python",
   "name": "python3"
  },
  "language_info": {
   "codemirror_mode": {
    "name": "ipython",
    "version": 3
   },
   "file_extension": ".py",
   "mimetype": "text/x-python",
   "name": "python",
   "nbconvert_exporter": "python",
   "pygments_lexer": "ipython3",
   "version": "3.9.13"
  }
 },
 "nbformat": 4,
 "nbformat_minor": 4
}
