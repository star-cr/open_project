{
 "cells": [
  {
   "cell_type": "code",
   "execution_count": 1,
   "metadata": {
    "collapsed": false,
    "id": "35434496468D43BA97A75D6C3E811083",
    "jupyter": {
     "outputs_hidden": false
    },
    "notebookId": "6378d5807b4e5f9b3d1b2042",
    "slideshow": {
     "slide_type": "slide"
    },
    "tags": []
   },
   "outputs": [],
   "source": [
    "import pandas as pd\n",
    "import numpy as np\n",
    "\n",
    "#statistics packages\n",
    "from scipy.stats import ttest_ind\n",
    "from scipy.stats import ttest_rel\n",
    "from scipy.stats import spearmanr\n",
    "import statsmodels.api as sm\n",
    "from statsmodels.formula.api import ols\n",
    "\n",
    "#plot packages\n",
    "import matplotlib\n",
    "import matplotlib.pyplot as plt\n",
    "import seaborn as sns"
   ]
  },
  {
   "cell_type": "code",
   "execution_count": 2,
   "metadata": {
    "collapsed": false,
    "id": "D088B6695CE044F288063341AB84B12C",
    "jupyter": {
     "outputs_hidden": false
    },
    "notebookId": "6378d5807b4e5f9b3d1b2042",
    "slideshow": {
     "slide_type": "slide"
    },
    "tags": []
   },
   "outputs": [
    {
     "name": "stdout",
     "output_type": "stream",
     "text": [
      "\n",
      "The following command must be run outside of the IPython shell:\n",
      "\n",
      "    $ pip install openpyxl\n",
      "\n",
      "The Python package manager (pip) can only be used from outside of IPython.\n",
      "Please reissue the `pip` command in a separate terminal or command prompt.\n",
      "\n",
      "See the Python documentation for more information on how to install packages:\n",
      "\n",
      "    https://docs.python.org/3/installing/\n"
     ]
    }
   ],
   "source": [
    "pip  install openpyxl"
   ]
  },
  {
   "cell_type": "markdown",
   "metadata": {
    "id": "D89B0EAB542642F98900CCC4D4E49360",
    "jupyter": {},
    "notebookId": "6378d5807b4e5f9b3d1b2042",
    "slideshow": {
     "slide_type": "slide"
    },
    "tags": []
   },
   "source": [
    "<font face=\"Arial\" size=6 color=#0099ff> 1载入并组合Edata和基础的人口学数据（年龄age,性别gender...)\n",
    "</font> \n",
    "<font face=\"Arial\" size=5 color=#DC143C> tips: </font>\n",
    "1. 使用 read_csv() 和 to_csv()载入并保存数据 \n",
    "2. 使用 df1.set_index(’Subject’).join(df2.set_index(’Subject’)) 通过索引合并表格, 也可以使用 'on=column name' \n",
    "3. 将 'Subject ID' 设置为索引是方便的 \n",
    "4. 在对数据操作完毕之后(e.g. join, merge, groupby), 使用df.describe() 和 head()检查数据"
   ]
  },
  {
   "cell_type": "markdown",
   "metadata": {
    "id": "033280BB92B94EFB904FAEC7A7BB2FE1",
    "jupyter": {},
    "notebookId": "6378d5807b4e5f9b3d1b2042",
    "slideshow": {
     "slide_type": "slide"
    },
    "tags": []
   },
   "source": [
    " **载入行为数据(Edata的excel版本)**"
   ]
  },
  {
   "cell_type": "code",
   "execution_count": 3,
   "metadata": {
    "collapsed": false,
    "id": "810CF482643D4985AFA558B9F60AF78D",
    "jupyter": {
     "outputs_hidden": false
    },
    "notebookId": "6378d5807b4e5f9b3d1b2042",
    "slideshow": {
     "slide_type": "slide"
    },
    "tags": []
   },
   "outputs": [],
   "source": [
    "# 读取Edata的excel版本, pandas.read_excel\n",
    "\n",
    "se_all = pd.read_excel('/home/mw/input/python5286/SE_all_demo1118.xlsx')\n",
    "# se_all = pd.read_excel('SE_all_demo1118.xlsx')\n",
    "raw_data = se_all"
   ]
  },
  {
   "cell_type": "code",
   "execution_count": 4,
   "metadata": {
    "collapsed": false,
    "id": "D2495148930042B484BAD0F52F7C6DB3",
    "jupyter": {
     "outputs_hidden": false
    },
    "notebookId": "6378d5807b4e5f9b3d1b2042",
    "slideshow": {
     "slide_type": "slide"
    },
    "tags": []
   },
   "outputs": [
    {
     "data": {
      "text/html": [
       "<div>\n",
       "<style scoped>\n",
       "    .dataframe tbody tr th:only-of-type {\n",
       "        vertical-align: middle;\n",
       "    }\n",
       "\n",
       "    .dataframe tbody tr th {\n",
       "        vertical-align: top;\n",
       "    }\n",
       "\n",
       "    .dataframe thead th {\n",
       "        text-align: right;\n",
       "    }\n",
       "</style>\n",
       "<table border=\"1\" class=\"dataframe\">\n",
       "  <thead>\n",
       "    <tr style=\"text-align: right;\">\n",
       "      <th></th>\n",
       "      <th>ExperimentName</th>\n",
       "      <th>Subject</th>\n",
       "      <th>Session</th>\n",
       "      <th>Clock.Information</th>\n",
       "      <th>DataFile.Basename</th>\n",
       "      <th>Display.RefreshRate</th>\n",
       "      <th>ExperimentVersion</th>\n",
       "      <th>Group</th>\n",
       "      <th>RandomSeed</th>\n",
       "      <th>RuntimeCapabilities</th>\n",
       "      <th>...</th>\n",
       "      <th>word.ACC</th>\n",
       "      <th>word.CRESP</th>\n",
       "      <th>word.DurationError</th>\n",
       "      <th>word.OnsetDelay</th>\n",
       "      <th>word.OnsetTime</th>\n",
       "      <th>word.OnsetToOnsetTime</th>\n",
       "      <th>word.RESP</th>\n",
       "      <th>word.RT</th>\n",
       "      <th>word.RTTime</th>\n",
       "      <th>word_no</th>\n",
       "    </tr>\n",
       "  </thead>\n",
       "  <tbody>\n",
       "    <tr>\n",
       "      <th>0</th>\n",
       "      <td>SE_V4_run1</td>\n",
       "      <td>1</td>\n",
       "      <td>1</td>\n",
       "      <td>&lt;?xml version=\"1.0\"?&gt;\\n&lt;Clock xmlns:dt=\"urn:sc...</td>\n",
       "      <td>SE_V4_run1-1-1</td>\n",
       "      <td>60.006</td>\n",
       "      <td>1.0.0.40</td>\n",
       "      <td>1</td>\n",
       "      <td>433954761</td>\n",
       "      <td>Standard</td>\n",
       "      <td>...</td>\n",
       "      <td>1</td>\n",
       "      <td>NaN</td>\n",
       "      <td>0</td>\n",
       "      <td>100</td>\n",
       "      <td>32964</td>\n",
       "      <td>1016</td>\n",
       "      <td>NaN</td>\n",
       "      <td>0</td>\n",
       "      <td>0</td>\n",
       "      <td>37_w_10 Mixdown 1.wav</td>\n",
       "    </tr>\n",
       "    <tr>\n",
       "      <th>1</th>\n",
       "      <td>SE_V4_run1</td>\n",
       "      <td>1</td>\n",
       "      <td>1</td>\n",
       "      <td>&lt;?xml version=\"1.0\"?&gt;\\n&lt;Clock xmlns:dt=\"urn:sc...</td>\n",
       "      <td>SE_V4_run1-1-1</td>\n",
       "      <td>60.006</td>\n",
       "      <td>1.0.0.40</td>\n",
       "      <td>1</td>\n",
       "      <td>433954761</td>\n",
       "      <td>Standard</td>\n",
       "      <td>...</td>\n",
       "      <td>1</td>\n",
       "      <td>NaN</td>\n",
       "      <td>0</td>\n",
       "      <td>100</td>\n",
       "      <td>44279</td>\n",
       "      <td>1017</td>\n",
       "      <td>NaN</td>\n",
       "      <td>0</td>\n",
       "      <td>0</td>\n",
       "      <td>54_w_10 Mixdown 1.wav</td>\n",
       "    </tr>\n",
       "    <tr>\n",
       "      <th>2</th>\n",
       "      <td>SE_V4_run1</td>\n",
       "      <td>1</td>\n",
       "      <td>1</td>\n",
       "      <td>&lt;?xml version=\"1.0\"?&gt;\\n&lt;Clock xmlns:dt=\"urn:sc...</td>\n",
       "      <td>SE_V4_run1-1-1</td>\n",
       "      <td>60.006</td>\n",
       "      <td>1.0.0.40</td>\n",
       "      <td>1</td>\n",
       "      <td>433954761</td>\n",
       "      <td>Standard</td>\n",
       "      <td>...</td>\n",
       "      <td>1</td>\n",
       "      <td>NaN</td>\n",
       "      <td>0</td>\n",
       "      <td>100</td>\n",
       "      <td>57595</td>\n",
       "      <td>1016</td>\n",
       "      <td>NaN</td>\n",
       "      <td>0</td>\n",
       "      <td>0</td>\n",
       "      <td>07_w_10 Mixdown 1.wav</td>\n",
       "    </tr>\n",
       "    <tr>\n",
       "      <th>3</th>\n",
       "      <td>SE_V4_run1</td>\n",
       "      <td>1</td>\n",
       "      <td>1</td>\n",
       "      <td>&lt;?xml version=\"1.0\"?&gt;\\n&lt;Clock xmlns:dt=\"urn:sc...</td>\n",
       "      <td>SE_V4_run1-1-1</td>\n",
       "      <td>60.006</td>\n",
       "      <td>1.0.0.40</td>\n",
       "      <td>1</td>\n",
       "      <td>433954761</td>\n",
       "      <td>Standard</td>\n",
       "      <td>...</td>\n",
       "      <td>1</td>\n",
       "      <td>NaN</td>\n",
       "      <td>0</td>\n",
       "      <td>99</td>\n",
       "      <td>70893</td>\n",
       "      <td>1017</td>\n",
       "      <td>NaN</td>\n",
       "      <td>0</td>\n",
       "      <td>0</td>\n",
       "      <td>41_w_10 Mixdown 1.wav</td>\n",
       "    </tr>\n",
       "    <tr>\n",
       "      <th>4</th>\n",
       "      <td>SE_V4_run1</td>\n",
       "      <td>1</td>\n",
       "      <td>1</td>\n",
       "      <td>&lt;?xml version=\"1.0\"?&gt;\\n&lt;Clock xmlns:dt=\"urn:sc...</td>\n",
       "      <td>SE_V4_run1-1-1</td>\n",
       "      <td>60.006</td>\n",
       "      <td>1.0.0.40</td>\n",
       "      <td>1</td>\n",
       "      <td>433954761</td>\n",
       "      <td>Standard</td>\n",
       "      <td>...</td>\n",
       "      <td>1</td>\n",
       "      <td>NaN</td>\n",
       "      <td>0</td>\n",
       "      <td>100</td>\n",
       "      <td>84326</td>\n",
       "      <td>1016</td>\n",
       "      <td>NaN</td>\n",
       "      <td>0</td>\n",
       "      <td>0</td>\n",
       "      <td>14_w_10 Mixdown 1.wav</td>\n",
       "    </tr>\n",
       "  </tbody>\n",
       "</table>\n",
       "<p>5 rows × 120 columns</p>\n",
       "</div>"
      ],
      "text/plain": [
       "  ExperimentName  Subject  Session  \\\n",
       "0     SE_V4_run1        1        1   \n",
       "1     SE_V4_run1        1        1   \n",
       "2     SE_V4_run1        1        1   \n",
       "3     SE_V4_run1        1        1   \n",
       "4     SE_V4_run1        1        1   \n",
       "\n",
       "                                   Clock.Information DataFile.Basename  \\\n",
       "0  <?xml version=\"1.0\"?>\\n<Clock xmlns:dt=\"urn:sc...    SE_V4_run1-1-1   \n",
       "1  <?xml version=\"1.0\"?>\\n<Clock xmlns:dt=\"urn:sc...    SE_V4_run1-1-1   \n",
       "2  <?xml version=\"1.0\"?>\\n<Clock xmlns:dt=\"urn:sc...    SE_V4_run1-1-1   \n",
       "3  <?xml version=\"1.0\"?>\\n<Clock xmlns:dt=\"urn:sc...    SE_V4_run1-1-1   \n",
       "4  <?xml version=\"1.0\"?>\\n<Clock xmlns:dt=\"urn:sc...    SE_V4_run1-1-1   \n",
       "\n",
       "   Display.RefreshRate ExperimentVersion  Group  RandomSeed  \\\n",
       "0               60.006          1.0.0.40      1   433954761   \n",
       "1               60.006          1.0.0.40      1   433954761   \n",
       "2               60.006          1.0.0.40      1   433954761   \n",
       "3               60.006          1.0.0.40      1   433954761   \n",
       "4               60.006          1.0.0.40      1   433954761   \n",
       "\n",
       "  RuntimeCapabilities  ... word.ACC word.CRESP word.DurationError  \\\n",
       "0            Standard  ...        1        NaN                  0   \n",
       "1            Standard  ...        1        NaN                  0   \n",
       "2            Standard  ...        1        NaN                  0   \n",
       "3            Standard  ...        1        NaN                  0   \n",
       "4            Standard  ...        1        NaN                  0   \n",
       "\n",
       "  word.OnsetDelay word.OnsetTime word.OnsetToOnsetTime  word.RESP  word.RT  \\\n",
       "0             100          32964                  1016        NaN        0   \n",
       "1             100          44279                  1017        NaN        0   \n",
       "2             100          57595                  1016        NaN        0   \n",
       "3              99          70893                  1017        NaN        0   \n",
       "4             100          84326                  1016        NaN        0   \n",
       "\n",
       "   word.RTTime                word_no  \n",
       "0            0  37_w_10 Mixdown 1.wav  \n",
       "1            0  54_w_10 Mixdown 1.wav  \n",
       "2            0  07_w_10 Mixdown 1.wav  \n",
       "3            0  41_w_10 Mixdown 1.wav  \n",
       "4            0  14_w_10 Mixdown 1.wav  \n",
       "\n",
       "[5 rows x 120 columns]"
      ]
     },
     "execution_count": 4,
     "metadata": {},
     "output_type": "execute_result"
    }
   ],
   "source": [
    "raw_data.head()#查看前五行数据"
   ]
  },
  {
   "cell_type": "code",
   "execution_count": 5,
   "metadata": {
    "collapsed": false,
    "id": "09F148DACC5545588495B8069201BCF2",
    "jupyter": {
     "outputs_hidden": false
    },
    "notebookId": "6378d5807b4e5f9b3d1b2042",
    "slideshow": {
     "slide_type": "slide"
    },
    "tags": []
   },
   "outputs": [],
   "source": [
    "#atb_list = ['ExperimentName','Subject','Block','answer.ACC','answer.CRESP',  \n",
    "#            'Trigger.OnsetTime','answer.OnsetTime','answer.RESP','answer.RT',  \n",
    "#            'answer.RTTime','answer1','answer2','answer3','answer4','condition',\n",
    "#            'FA','repot.RESP','repot.RT','repot.RTTime','rightA',  \n",
    "#            'run','sen','sen_no','word']"
   ]
  },
  {
   "cell_type": "code",
   "execution_count": 6,
   "metadata": {
    "collapsed": false,
    "id": "5A4D6C458E9047EB8F3F44C83529FF96",
    "jupyter": {
     "outputs_hidden": false
    },
    "notebookId": "6378d5807b4e5f9b3d1b2042",
    "slideshow": {
     "slide_type": "slide"
    },
    "tags": []
   },
   "outputs": [
    {
     "data": {
      "text/html": [
       "<div>\n",
       "<style scoped>\n",
       "    .dataframe tbody tr th:only-of-type {\n",
       "        vertical-align: middle;\n",
       "    }\n",
       "\n",
       "    .dataframe tbody tr th {\n",
       "        vertical-align: top;\n",
       "    }\n",
       "\n",
       "    .dataframe thead th {\n",
       "        text-align: right;\n",
       "    }\n",
       "</style>\n",
       "<table border=\"1\" class=\"dataframe\">\n",
       "  <thead>\n",
       "    <tr style=\"text-align: right;\">\n",
       "      <th></th>\n",
       "      <th>Session</th>\n",
       "      <th>Display.RefreshRate</th>\n",
       "      <th>Group</th>\n",
       "      <th>RandomSeed</th>\n",
       "      <th>Trigger.ACC</th>\n",
       "      <th>Trigger.CRESP</th>\n",
       "      <th>Trigger.DurationError</th>\n",
       "      <th>Trigger.OnsetDelay</th>\n",
       "      <th>Trigger.OnsetTime</th>\n",
       "      <th>Trigger.OnsetToOnsetTime</th>\n",
       "      <th>...</th>\n",
       "      <th>word.DurationError</th>\n",
       "      <th>word.OnsetDelay</th>\n",
       "      <th>word.OnsetTime</th>\n",
       "      <th>word.OnsetToOnsetTime</th>\n",
       "      <th>word.RESP</th>\n",
       "      <th>word.RT</th>\n",
       "      <th>word.RTTime</th>\n",
       "      <th>LSHS_total</th>\n",
       "      <th>LSHS_AVH</th>\n",
       "      <th>age</th>\n",
       "    </tr>\n",
       "  </thead>\n",
       "  <tbody>\n",
       "    <tr>\n",
       "      <th>count</th>\n",
       "      <td>450.0</td>\n",
       "      <td>450.000000</td>\n",
       "      <td>450.0</td>\n",
       "      <td>4.500000e+02</td>\n",
       "      <td>450.0</td>\n",
       "      <td>0.0</td>\n",
       "      <td>450.0</td>\n",
       "      <td>450.000000</td>\n",
       "      <td>450.00000</td>\n",
       "      <td>450.0</td>\n",
       "      <td>...</td>\n",
       "      <td>450.0</td>\n",
       "      <td>450.000000</td>\n",
       "      <td>450.000000</td>\n",
       "      <td>450.000000</td>\n",
       "      <td>0.0</td>\n",
       "      <td>450.0</td>\n",
       "      <td>450.0</td>\n",
       "      <td>360.000000</td>\n",
       "      <td>360.000000</td>\n",
       "      <td>360.000000</td>\n",
       "    </tr>\n",
       "    <tr>\n",
       "      <th>mean</th>\n",
       "      <td>1.0</td>\n",
       "      <td>60.005267</td>\n",
       "      <td>1.0</td>\n",
       "      <td>3.995249e+08</td>\n",
       "      <td>0.0</td>\n",
       "      <td>NaN</td>\n",
       "      <td>-999999.0</td>\n",
       "      <td>28.133333</td>\n",
       "      <td>16438.80000</td>\n",
       "      <td>0.0</td>\n",
       "      <td>...</td>\n",
       "      <td>0.0</td>\n",
       "      <td>89.573333</td>\n",
       "      <td>228847.515556</td>\n",
       "      <td>1016.544444</td>\n",
       "      <td>NaN</td>\n",
       "      <td>0.0</td>\n",
       "      <td>0.0</td>\n",
       "      <td>25.333333</td>\n",
       "      <td>13.666667</td>\n",
       "      <td>24.666667</td>\n",
       "    </tr>\n",
       "    <tr>\n",
       "      <th>std</th>\n",
       "      <td>0.0</td>\n",
       "      <td>0.000574</td>\n",
       "      <td>0.0</td>\n",
       "      <td>1.223310e+09</td>\n",
       "      <td>0.0</td>\n",
       "      <td>NaN</td>\n",
       "      <td>0.0</td>\n",
       "      <td>5.076695</td>\n",
       "      <td>13187.44787</td>\n",
       "      <td>0.0</td>\n",
       "      <td>...</td>\n",
       "      <td>0.0</td>\n",
       "      <td>15.626207</td>\n",
       "      <td>116331.834459</td>\n",
       "      <td>0.503022</td>\n",
       "      <td>NaN</td>\n",
       "      <td>0.0</td>\n",
       "      <td>0.0</td>\n",
       "      <td>11.914271</td>\n",
       "      <td>7.419015</td>\n",
       "      <td>0.472061</td>\n",
       "    </tr>\n",
       "    <tr>\n",
       "      <th>min</th>\n",
       "      <td>1.0</td>\n",
       "      <td>60.004000</td>\n",
       "      <td>1.0</td>\n",
       "      <td>-1.653807e+09</td>\n",
       "      <td>0.0</td>\n",
       "      <td>NaN</td>\n",
       "      <td>-999999.0</td>\n",
       "      <td>19.000000</td>\n",
       "      <td>7638.00000</td>\n",
       "      <td>0.0</td>\n",
       "      <td>...</td>\n",
       "      <td>0.0</td>\n",
       "      <td>66.000000</td>\n",
       "      <td>27346.000000</td>\n",
       "      <td>1015.000000</td>\n",
       "      <td>NaN</td>\n",
       "      <td>0.0</td>\n",
       "      <td>0.0</td>\n",
       "      <td>15.000000</td>\n",
       "      <td>7.000000</td>\n",
       "      <td>24.000000</td>\n",
       "    </tr>\n",
       "    <tr>\n",
       "      <th>25%</th>\n",
       "      <td>1.0</td>\n",
       "      <td>60.005000</td>\n",
       "      <td>1.0</td>\n",
       "      <td>-8.118263e+08</td>\n",
       "      <td>0.0</td>\n",
       "      <td>NaN</td>\n",
       "      <td>-999999.0</td>\n",
       "      <td>24.000000</td>\n",
       "      <td>9914.00000</td>\n",
       "      <td>0.0</td>\n",
       "      <td>...</td>\n",
       "      <td>0.0</td>\n",
       "      <td>83.000000</td>\n",
       "      <td>128547.000000</td>\n",
       "      <td>1016.000000</td>\n",
       "      <td>NaN</td>\n",
       "      <td>0.0</td>\n",
       "      <td>0.0</td>\n",
       "      <td>15.000000</td>\n",
       "      <td>7.000000</td>\n",
       "      <td>24.000000</td>\n",
       "    </tr>\n",
       "    <tr>\n",
       "      <th>50%</th>\n",
       "      <td>1.0</td>\n",
       "      <td>60.005000</td>\n",
       "      <td>1.0</td>\n",
       "      <td>4.339548e+08</td>\n",
       "      <td>0.0</td>\n",
       "      <td>NaN</td>\n",
       "      <td>-999999.0</td>\n",
       "      <td>31.000000</td>\n",
       "      <td>11666.00000</td>\n",
       "      <td>0.0</td>\n",
       "      <td>...</td>\n",
       "      <td>0.0</td>\n",
       "      <td>83.000000</td>\n",
       "      <td>226937.500000</td>\n",
       "      <td>1017.000000</td>\n",
       "      <td>NaN</td>\n",
       "      <td>0.0</td>\n",
       "      <td>0.0</td>\n",
       "      <td>19.000000</td>\n",
       "      <td>10.000000</td>\n",
       "      <td>25.000000</td>\n",
       "    </tr>\n",
       "    <tr>\n",
       "      <th>75%</th>\n",
       "      <td>1.0</td>\n",
       "      <td>60.006000</td>\n",
       "      <td>1.0</td>\n",
       "      <td>1.516501e+09</td>\n",
       "      <td>0.0</td>\n",
       "      <td>NaN</td>\n",
       "      <td>-999999.0</td>\n",
       "      <td>33.000000</td>\n",
       "      <td>18539.00000</td>\n",
       "      <td>0.0</td>\n",
       "      <td>...</td>\n",
       "      <td>0.0</td>\n",
       "      <td>100.000000</td>\n",
       "      <td>328988.250000</td>\n",
       "      <td>1017.000000</td>\n",
       "      <td>NaN</td>\n",
       "      <td>0.0</td>\n",
       "      <td>0.0</td>\n",
       "      <td>42.000000</td>\n",
       "      <td>24.000000</td>\n",
       "      <td>25.000000</td>\n",
       "    </tr>\n",
       "    <tr>\n",
       "      <th>max</th>\n",
       "      <td>1.0</td>\n",
       "      <td>60.006000</td>\n",
       "      <td>1.0</td>\n",
       "      <td>2.012595e+09</td>\n",
       "      <td>0.0</td>\n",
       "      <td>NaN</td>\n",
       "      <td>-999999.0</td>\n",
       "      <td>34.000000</td>\n",
       "      <td>62952.00000</td>\n",
       "      <td>0.0</td>\n",
       "      <td>...</td>\n",
       "      <td>0.0</td>\n",
       "      <td>166.000000</td>\n",
       "      <td>463906.000000</td>\n",
       "      <td>1017.000000</td>\n",
       "      <td>NaN</td>\n",
       "      <td>0.0</td>\n",
       "      <td>0.0</td>\n",
       "      <td>42.000000</td>\n",
       "      <td>24.000000</td>\n",
       "      <td>25.000000</td>\n",
       "    </tr>\n",
       "  </tbody>\n",
       "</table>\n",
       "<p>8 rows × 105 columns</p>\n",
       "</div>"
      ],
      "text/plain": [
       "       Session  Display.RefreshRate  Group    RandomSeed  Trigger.ACC  \\\n",
       "count    450.0           450.000000  450.0  4.500000e+02        450.0   \n",
       "mean       1.0            60.005267    1.0  3.995249e+08          0.0   \n",
       "std        0.0             0.000574    0.0  1.223310e+09          0.0   \n",
       "min        1.0            60.004000    1.0 -1.653807e+09          0.0   \n",
       "25%        1.0            60.005000    1.0 -8.118263e+08          0.0   \n",
       "50%        1.0            60.005000    1.0  4.339548e+08          0.0   \n",
       "75%        1.0            60.006000    1.0  1.516501e+09          0.0   \n",
       "max        1.0            60.006000    1.0  2.012595e+09          0.0   \n",
       "\n",
       "       Trigger.CRESP  Trigger.DurationError  Trigger.OnsetDelay  \\\n",
       "count            0.0                  450.0          450.000000   \n",
       "mean             NaN              -999999.0           28.133333   \n",
       "std              NaN                    0.0            5.076695   \n",
       "min              NaN              -999999.0           19.000000   \n",
       "25%              NaN              -999999.0           24.000000   \n",
       "50%              NaN              -999999.0           31.000000   \n",
       "75%              NaN              -999999.0           33.000000   \n",
       "max              NaN              -999999.0           34.000000   \n",
       "\n",
       "       Trigger.OnsetTime  Trigger.OnsetToOnsetTime  ...  word.DurationError  \\\n",
       "count          450.00000                     450.0  ...               450.0   \n",
       "mean         16438.80000                       0.0  ...                 0.0   \n",
       "std          13187.44787                       0.0  ...                 0.0   \n",
       "min           7638.00000                       0.0  ...                 0.0   \n",
       "25%           9914.00000                       0.0  ...                 0.0   \n",
       "50%          11666.00000                       0.0  ...                 0.0   \n",
       "75%          18539.00000                       0.0  ...                 0.0   \n",
       "max          62952.00000                       0.0  ...                 0.0   \n",
       "\n",
       "       word.OnsetDelay  word.OnsetTime  word.OnsetToOnsetTime  word.RESP  \\\n",
       "count       450.000000      450.000000             450.000000        0.0   \n",
       "mean         89.573333   228847.515556            1016.544444        NaN   \n",
       "std          15.626207   116331.834459               0.503022        NaN   \n",
       "min          66.000000    27346.000000            1015.000000        NaN   \n",
       "25%          83.000000   128547.000000            1016.000000        NaN   \n",
       "50%          83.000000   226937.500000            1017.000000        NaN   \n",
       "75%         100.000000   328988.250000            1017.000000        NaN   \n",
       "max         166.000000   463906.000000            1017.000000        NaN   \n",
       "\n",
       "       word.RT  word.RTTime  LSHS_total    LSHS_AVH         age  \n",
       "count    450.0        450.0  360.000000  360.000000  360.000000  \n",
       "mean       0.0          0.0   25.333333   13.666667   24.666667  \n",
       "std        0.0          0.0   11.914271    7.419015    0.472061  \n",
       "min        0.0          0.0   15.000000    7.000000   24.000000  \n",
       "25%        0.0          0.0   15.000000    7.000000   24.000000  \n",
       "50%        0.0          0.0   19.000000   10.000000   25.000000  \n",
       "75%        0.0          0.0   42.000000   24.000000   25.000000  \n",
       "max        0.0          0.0   42.000000   24.000000   25.000000  \n",
       "\n",
       "[8 rows x 105 columns]"
      ]
     },
     "execution_count": 6,
     "metadata": {},
     "output_type": "execute_result"
    }
   ],
   "source": [
    "#set_index, rename, join\n",
    "data = raw_data.set_index(['Subject'])\n",
    "# replace wrong named data including {63:20,99:11,152:15,217:17}\n",
    "replaced_pairs = {63:20,99:11,152:15,217:17}\n",
    "data = data.rename(replaced_pairs, axis='index')\n",
    "#se_basic_infor = pd.read_excel('SE_basic_infor_demo1118.xlsx')\n",
    "se_basic_infor = pd.read_excel('/home/mw/input/python5286/SE_basic_infor_demo1118.xlsx')\n",
    "se_basic_infor = se_basic_infor.set_index('Subject')\n",
    "data = data.join(se_basic_infor) #\n",
    "data.describe()"
   ]
  },
  {
   "cell_type": "markdown",
   "metadata": {
    "id": "A4DE8F078BB145AF806E2D87AC74CEF7",
    "jupyter": {},
    "notebookId": "6378d5807b4e5f9b3d1b2042",
    "slideshow": {
     "slide_type": "slide"
    },
    "tags": []
   },
   "source": [
    "<font face=\"Arial\" size=6 color=#0099ff>  2. 检查每个被试的所有试次的反应数据 (反应时 和 选择) </font>\n",
    "\n",
    "<font face=\"Arial\" size=5 color=#DC143C> tips: </font>\n",
    "1. 在跨试次平均反应时间之前, 检查试次间反应时间的分布. 检测极端值并尝试处理他们 (subject 52)\n",
    "2. 检查柱状图. "
   ]
  },
  {
   "cell_type": "code",
   "execution_count": 7,
   "metadata": {
    "collapsed": false,
    "id": "E540FCDA0009458584077B96B4787233",
    "jupyter": {
     "outputs_hidden": false
    },
    "notebookId": "6378d5807b4e5f9b3d1b2042",
    "slideshow": {
     "slide_type": "slide"
    },
    "tags": []
   },
   "outputs": [
    {
     "ename": "AttributeError",
     "evalue": "module 'seaborn' has no attribute 'histplot'",
     "output_type": "error",
     "traceback": [
      "\u001b[0;31m---------------------------------------------------------------------------\u001b[0m",
      "\u001b[0;31mAttributeError\u001b[0m                            Traceback (most recent call last)",
      "\u001b[0;32m<ipython-input-7-8c3ca0838f49>\u001b[0m in \u001b[0;36m<module>\u001b[0;34m\u001b[0m\n\u001b[1;32m      4\u001b[0m     \u001b[0mdf\u001b[0m \u001b[0;34m=\u001b[0m \u001b[0mdata\u001b[0m\u001b[0;34m.\u001b[0m\u001b[0mloc\u001b[0m\u001b[0;34m[\u001b[0m\u001b[0mdata\u001b[0m\u001b[0;34m.\u001b[0m\u001b[0mindex\u001b[0m\u001b[0;34m==\u001b[0m\u001b[0m_index_name\u001b[0m\u001b[0;34m,\u001b[0m\u001b[0;34m'answer.RT'\u001b[0m\u001b[0;34m]\u001b[0m\u001b[0;34m\u001b[0m\u001b[0m\n\u001b[1;32m      5\u001b[0m     \u001b[0mplt\u001b[0m\u001b[0;34m.\u001b[0m\u001b[0msubplot\u001b[0m\u001b[0;34m(\u001b[0m\u001b[0mindex_name\u001b[0m\u001b[0;34m.\u001b[0m\u001b[0mshape\u001b[0m\u001b[0;34m[\u001b[0m\u001b[0;36m0\u001b[0m\u001b[0;34m]\u001b[0m\u001b[0;34m,\u001b[0m\u001b[0;36m1\u001b[0m\u001b[0;34m,\u001b[0m\u001b[0mid\u001b[0m\u001b[0;34m+\u001b[0m\u001b[0;36m1\u001b[0m\u001b[0;34m)\u001b[0m\u001b[0;34m\u001b[0m\u001b[0m\n\u001b[0;32m----> 6\u001b[0;31m     \u001b[0msns\u001b[0m\u001b[0;34m.\u001b[0m\u001b[0mhistplot\u001b[0m\u001b[0;34m(\u001b[0m\u001b[0mdf\u001b[0m\u001b[0;34m,\u001b[0m\u001b[0mbins\u001b[0m\u001b[0;34m=\u001b[0m\u001b[0;36m20\u001b[0m\u001b[0;34m)\u001b[0m\u001b[0;34m\u001b[0m\u001b[0m\n\u001b[0m\u001b[1;32m      7\u001b[0m     \u001b[0mplt\u001b[0m\u001b[0;34m.\u001b[0m\u001b[0mshow\u001b[0m\u001b[0;34m(\u001b[0m\u001b[0;34m)\u001b[0m\u001b[0;34m\u001b[0m\u001b[0m\n",
      "\u001b[0;31mAttributeError\u001b[0m: module 'seaborn' has no attribute 'histplot'"
     ]
    },
    {
     "data": {
      "text/html": [
       "<img src=\"https://cdn.kesci.com/upload/rt/E540FCDA0009458584077B96B4787233/rllf8ci7ya.png\">"
      ],
      "text/plain": [
       "<Figure size 432x288 with 1 Axes>"
      ]
     },
     "metadata": {
      "needs_background": "light"
     },
     "output_type": "display_data"
    }
   ],
   "source": [
    "index_name=data.index.unique()\n",
    "for id,_index_name in enumerate(index_name): \n",
    "    #将一个可遍历的数据对象(如列表、元组或字符串)组合为一个索引序列，同时列出数据和数据下标，一般用在 for 循环当中\n",
    "    df = data.loc[data.index==_index_name,'answer.RT']\n",
    "    plt.subplot(index_name.shape[0],1,id+1)\n",
    "    sns.histplot(df,bins=20)\n",
    "    plt.show()"
   ]
  },
  {
   "cell_type": "markdown",
   "metadata": {
    "id": "962BCFA987E245C2BF74994FC459A4E6",
    "jupyter": {},
    "notebookId": "6378d5807b4e5f9b3d1b2042",
    "slideshow": {
     "slide_type": "slide"
    },
    "tags": []
   },
   "source": [
    "<font face=\"Arial\" size=6 color=#0099ff>  3. 对每一个被试平均反应时和准确率 </font>\n",
    "\n",
    "<font face=\"Arial\" size=5 color=#DC143C> tips: </font>\n",
    "1. df[df['column_name']] 来选择列\n",
    "2. df.mean(level='Sujbect') 来对每个被试跨试次平均反应时. df.fun() (sum, std, sqrt...)来操作数据. \n",
    "3. pd.concat((df1,df2),axis=1) 来合并 RT, ACC, False alarm 和 其他变量进一个表. "
   ]
  },
  {
   "cell_type": "code",
   "execution_count": 9,
   "metadata": {
    "collapsed": false,
    "id": "41B473B2DEC147A085CD12816046B835",
    "jupyter": {
     "outputs_hidden": false
    },
    "notebookId": "6378d5807b4e5f9b3d1b2042",
    "slideshow": {
     "slide_type": "slide"
    },
    "tags": []
   },
   "outputs": [],
   "source": [
    "#to check RT distribution for each subject and detect outliers\n",
    "opt =  pd.DataFrame()\n",
    "bd_pre =  data[data['condition']=='pre']\n",
    "bd_unp =  data[data['condition']=='unp']\n",
    "# rt is zero in some trials, exluding them.\n",
    "\n",
    "opt['acc_pre'] = bd_pre['answer.ACC'].mean(level='Subject')\n",
    "opt['acc_unp'] = bd_unp['answer.ACC'].mean(level='Subject')\n",
    "\n",
    "# only for all RIGHT response \n",
    "opt['conf_pre'] = bd_pre[bd_pre['answer.ACC']==1]['answer.RESP'].mean(level='Subject')\n",
    "opt['conf_unp'] = bd_unp[bd_unp['answer.ACC']==1]['answer.RESP'].mean(level='Subject')\n",
    "\n",
    "opt['rt_pre'] = bd_pre[bd_pre['answer.ACC']==1]['answer.RT'].mean(level='Subject') #\n",
    "opt['rt_unp'] = bd_unp[bd_unp['answer.ACC']==1]['answer.RT'].mean(level='Subject') #\n",
    "\n",
    "# add false alarm rate\n",
    "bd_unp_ans_fa = bd_unp[bd_unp['answer.RESP']==bd_unp['FA']][['answer.RESP']]\n",
    "bd_unp_ans_fa['count_num'] = 1\n",
    "opt['fa_unp'] = bd_unp_ans_fa['count_num'].sum(level='Subject')\n",
    "opt['fa_pre'] = 0\n",
    "\n",
    "#concat different condtions and different measurements. \n",
    "\n",
    "acc = pd.concat((opt['acc_pre'],opt['acc_unp']),axis = 0)#axis=0可以理解为按行合并\n",
    "conf = pd.concat((opt['conf_pre'],opt['conf_unp']),axis = 0)                  \n",
    "rt = pd.concat((opt['rt_pre'],opt['rt_unp']),axis = 0) \n",
    "fa = pd.concat((opt['fa_pre'],opt['fa_unp']),axis = 0) \n",
    "opt_all = pd.concat((acc,rt,fa,conf),axis=1)\n",
    "opt_all = opt_all.rename({0:'acc',1:'rt',2:'fa',3:'conf'},axis = 'columns')"
   ]
  },
  {
   "cell_type": "code",
   "execution_count": 10,
   "metadata": {
    "collapsed": false,
    "id": "83B50407E1C3482D8D339C2F9CF3E40A",
    "jupyter": {
     "outputs_hidden": false
    },
    "notebookId": "6378d5807b4e5f9b3d1b2042",
    "slideshow": {
     "slide_type": "slide"
    },
    "tags": []
   },
   "outputs": [],
   "source": [
    "opt_all['condition'] = ['pre']*4+['unp']*4\n",
    "opt_all = opt_all.join(se_basic_infor)\n",
    "opt_all.describe()"
   ]
  },
  {
   "cell_type": "markdown",
   "metadata": {
    "id": "FAEA1B82F76841628C8579BA092563CD",
    "jupyter": {},
    "notebookId": "6378d5807b4e5f9b3d1b2042",
    "slideshow": {
     "slide_type": "slide"
    },
    "tags": []
   },
   "source": [
    "**基于量表分数将所有的被试划分为两个组，增加一个组变量. **"
   ]
  },
  {
   "cell_type": "code",
   "execution_count": 12,
   "metadata": {
    "collapsed": false,
    "id": "38A1DC686E3A414A98231F818600D7B3",
    "jupyter": {
     "outputs_hidden": false
    },
    "notebookId": "6378d5807b4e5f9b3d1b2042",
    "slideshow": {
     "slide_type": "slide"
    },
    "tags": []
   },
   "outputs": [],
   "source": [
    "opt = opt.join(se_basic_infor)\n",
    "#print(opt)\n",
    "LSHS_AVH_median = opt['LSHS_AVH'].median()\n",
    "group = []\n",
    "for i in opt.index:\n",
    "    if opt['LSHS_AVH'][i]<=LSHS_AVH_median:\n",
    "        group.append('Low')\n",
    "    else:\n",
    "        group.append('High')\n",
    "opt['group'] = group \n",
    "opt.dropna(how='any')\n",
    "#opt[['LSHS_AVH','group']]\n",
    "opt_all = opt_all.join(opt['group'])"
   ]
  },
  {
   "cell_type": "markdown",
   "metadata": {
    "id": "CCAFD9F285BD4EC5B66359114895EAD3",
    "jupyter": {},
    "notebookId": "6378d5807b4e5f9b3d1b2042",
    "slideshow": {
     "slide_type": "slide"
    },
    "tags": []
   },
   "source": [
    "<font face=\"Arial\" size=5 color=#DC143C> tips: </font>\n",
    "1. df.iloc[i,j]来选择数据的子集."
   ]
  },
  {
   "cell_type": "code",
   "execution_count": 13,
   "metadata": {
    "collapsed": false,
    "id": "9E903148C80E4F8795B1EC89E773FCB9",
    "jupyter": {
     "outputs_hidden": false
    },
    "notebookId": "6378d5807b4e5f9b3d1b2042",
    "slideshow": {
     "slide_type": "slide"
    },
    "tags": []
   },
   "outputs": [],
   "source": [
    "# combine with questionaire data\n",
    "\n",
    "se_scale = pd.read_excel('SE_scale_demo1118.xlsx')\n",
    "# se_scale = pd.read_excel('SE_scale.xlsx')\n",
    "# se_scale = pd.read_excel('/home/mw/input/python5286/SE_scale_demo1118.xlsx')\n",
    "se_scale  = se_scale.set_index('Subject')\n",
    "#print(se_scale)\n",
    "#se_scale = se_scale.set_index(['Subject'])\n",
    "se_scale = se_scale.iloc[:,7:76]\n",
    "opt_all = opt_all.join(se_scale,rsuffix='_r')"
   ]
  },
  {
   "cell_type": "code",
   "execution_count": 14,
   "metadata": {
    "collapsed": false,
    "id": "EE25E897C10846EA817022AC32AA5F8A",
    "jupyter": {
     "outputs_hidden": false
    },
    "notebookId": "6378d5807b4e5f9b3d1b2042",
    "slideshow": {
     "slide_type": "slide"
    },
    "tags": []
   },
   "outputs": [],
   "source": [
    "se_qpe = pd.read_excel('SE-QPE_40_demo1118.xlsx')\n",
    "# se_qpe = pd.read_excel('/home/mw/input/python5286/SE-QPE_40_demo1118.xlsx')\n",
    "se_qpe = se_qpe.set_index('Subject')\n",
    "QPE_severity = pd.DataFrame(se_qpe.iloc[:,12:16].sum(axis = 1),columns = ['QPE_severity'])\n",
    "opt_all = opt_all.join(QPE_severity)"
   ]
  },
  {
   "cell_type": "markdown",
   "metadata": {
    "id": "920C5FEB7C3A43518A56D57EBD4BCD07",
    "jupyter": {},
    "notebookId": "6378d5807b4e5f9b3d1b2042",
    "slideshow": {
     "slide_type": "slide"
    },
    "tags": []
   },
   "source": [
    "<font face=\"Arial\" size=6 color=#0099ff>  4. 对每一个被试计算所有项目分数的总和. </font>"
   ]
  },
  {
   "cell_type": "code",
   "execution_count": 15,
   "metadata": {
    "collapsed": false,
    "id": "DC22986D8B4941E69D51B099755DE4DF",
    "jupyter": {
     "outputs_hidden": false
    },
    "notebookId": "6378d5807b4e5f9b3d1b2042",
    "slideshow": {
     "slide_type": "slide"
    },
    "tags": []
   },
   "outputs": [],
   "source": [
    "# calculate and summary the sales into sum scores.\n",
    "#print(opt_all.columns)\n",
    "stai_all = range(1,21)\n",
    "stai_all_opp = [1,3,6,7,10,13,14,16,19]\n",
    "stai_all_pos = list(set(stai_all).difference(set(stai_all_opp)))\n",
    "\n",
    "STAI_oppsiteiterm_colnames = ['STAI'+str(i) for i in stai_all_opp]\n",
    "STAI_positerm_colnames = ['STAI'+str(i) for i in stai_all_pos]\n",
    "opt_all['TAI_all'] = 45-opt_all.loc[:,STAI_oppsiteiterm_colnames].sum(axis=1)+opt_all.loc[:,STAI_positerm_colnames].sum(axis=1)\n",
    "#print(opt_all.loc[:,STAI_positerm_colnames])\n",
    "#print(x)\n",
    "BDI_colnames = ['BDI'+str(i+1) for i in range(21)]\n",
    "HPSV_colnames = ['HPSV'+str(i+1) for i in range(9)]\n",
    "RAHQ_colnames = ['RAHQ'+str(i+1) for i in range(18)]\n",
    "\n",
    "opt_all['BDI_all'] = opt_all.loc[:,BDI_colnames].sum(axis=1)\n",
    "opt_all['HPSV_all'] = opt_all.loc[:,HPSV_colnames].sum(axis=1)\n",
    "opt_all['RAHQ_all'] = opt_all.loc[:,RAHQ_colnames].sum(axis=1)"
   ]
  },
  {
   "cell_type": "markdown",
   "metadata": {
    "id": "265804B222274B03B4C3C7642404924B",
    "jupyter": {},
    "notebookId": "6378d5807b4e5f9b3d1b2042",
    "slideshow": {
     "slide_type": "slide"
    },
    "tags": []
   },
   "source": [
    "**Drop some subjects.**\n",
    "\n",
    "<font face=\"Arial\" size=5 color=#DC143C> tips: </font>\n",
    "1. df.drop() 来删除列或行"
   ]
  },
  {
   "cell_type": "code",
   "execution_count": 16,
   "metadata": {
    "collapsed": false,
    "id": "BD4D4F739CC24DFC88EC1B737DEA451B",
    "jupyter": {
     "outputs_hidden": false
    },
    "notebookId": "6378d5807b4e5f9b3d1b2042",
    "slideshow": {
     "slide_type": "slide"
    },
    "tags": []
   },
   "outputs": [],
   "source": [
    "opt_all"
   ]
  },
  {
   "cell_type": "code",
   "execution_count": 17,
   "metadata": {
    "collapsed": false,
    "id": "C9A6EF6CB4784CDC9F79BED13AFB31E9",
    "jupyter": {
     "outputs_hidden": false
    },
    "notebookId": "6378d5807b4e5f9b3d1b2042",
    "slideshow": {
     "slide_type": "slide"
    },
    "tags": []
   },
   "outputs": [],
   "source": [
    "#opt_all = opt_all.drop([53,34])# also remove sub34 because no avh basic infors.\n",
    "#rt, zero exist. sub42(30 zeros)，44(60 zeros)，52(90 and more zeros)\n",
    "print(opt_all[opt_all['condition']=='pre']['acc'])\n",
    "opt_all[np.abs(opt_all.acc-opt_all.acc.mean())<=(3*opt_all.acc.std())] \n",
    "opt_all[~(np.abs(opt_all.acc-opt_all.acc.mean())>(3*opt_all.acc.std()))] \n",
    "opt_all[opt_all.acc<0.25]"
   ]
  },
  {
   "cell_type": "markdown",
   "metadata": {
    "id": "837632B8FA7244C1800790CFEBF64B5B",
    "jupyter": {},
    "notebookId": "6378d5807b4e5f9b3d1b2042",
    "slideshow": {
     "slide_type": "slide"
    },
    "tags": []
   },
   "source": [
    "<font face=\"Arial\" size=6 color=#0099ff>  5. 对性别，年龄，调查问卷检查分布和个体的数据点</font>"
   ]
  },
  {
   "cell_type": "code",
   "execution_count": 18,
   "metadata": {
    "collapsed": false,
    "id": "3723C94E958446B481B6E21642ECCCDD",
    "jupyter": {
     "outputs_hidden": false
    },
    "notebookId": "6378d5807b4e5f9b3d1b2042",
    "slideshow": {
     "slide_type": "slide"
    },
    "tags": []
   },
   "outputs": [],
   "source": [
    "df = opt_all[['age','group']]\n",
    "sns.histplot(df,bins=20)"
   ]
  },
  {
   "cell_type": "code",
   "execution_count": 19,
   "metadata": {
    "collapsed": false,
    "id": "03253ED0AB3C4B8DA99DDC6A4E18B790",
    "jupyter": {
     "outputs_hidden": false
    },
    "notebookId": "6378d5807b4e5f9b3d1b2042",
    "slideshow": {
     "slide_type": "slide"
    },
    "tags": []
   },
   "outputs": [],
   "source": [
    "df_bygroup_bd = opt_all[['LSHS_total','LSHS_AVH','HPSV_all','RAHQ_all','QPE_severity','TAI_all','BDI_all','group']].groupby(['group']).mean()\n",
    "y_err_bd = opt_all[['LSHS_total','LSHS_AVH','HPSV_all','RAHQ_all','QPE_severity','TAI_all','BDI_all','group']].groupby(['group']).sem()\n",
    "df_bygroup_bd = df_bygroup_bd.T\n",
    "y_err_bd = y_err_bd.T\n",
    "\n",
    "df_bygroup_bd.plot(kind = 'bar',yerr = y_err_bd,width=0.8,style=['r','b'])#yerr = y_err_v,\n",
    "plt.legend(loc='upper center', bbox_to_anchor=(1.2,1),ncol=1,fancybox=True,shadow=True)\n",
    "plt.ylabel('bd')\n",
    "plt.show()"
   ]
  },
  {
   "cell_type": "code",
   "execution_count": 20,
   "metadata": {
    "collapsed": false,
    "id": "58A69295EFF34A7D97E2E09014B5B70F",
    "jupyter": {
     "outputs_hidden": false
    },
    "notebookId": "6378d5807b4e5f9b3d1b2042",
    "slideshow": {
     "slide_type": "slide"
    },
    "tags": []
   },
   "outputs": [],
   "source": [
    "df = opt_all[['LSHS_total','LSHS_AVH','HPSV_all','RAHQ_all','QPE_severity','TAI_all','BDI_all']]\n",
    "for id, _scale in enumerate(df.columns):\n",
    "    df_scale = df.loc[:,str(_scale)]\n",
    "    plt.subplot(df.columns.shape[0],1,id+1)\n",
    "    sns.histplot(df_scale,bins=20)\n",
    "    plt.show()"
   ]
  },
  {
   "cell_type": "code",
   "execution_count": 21,
   "metadata": {
    "collapsed": false,
    "id": "3D53B82FA40B4D5AAF3DB4A2FB9B2D40",
    "jupyter": {
     "outputs_hidden": false
    },
    "notebookId": "6378d5807b4e5f9b3d1b2042",
    "slideshow": {
     "slide_type": "slide"
    },
    "tags": []
   },
   "outputs": [],
   "source": [
    "df_all = df.drop_duplicates()\n",
    "print(df_all.columns)\n",
    "scale_name=df_all.columns"
   ]
  },
  {
   "cell_type": "code",
   "execution_count": 22,
   "metadata": {
    "collapsed": false,
    "id": "9FF857E382AF47E78B3BD0D9524140B7",
    "jupyter": {
     "outputs_hidden": false
    },
    "notebookId": "6378d5807b4e5f9b3d1b2042",
    "slideshow": {
     "slide_type": "slide"
    },
    "tags": []
   },
   "outputs": [],
   "source": [
    "d = np.array(df_all[scale_name].dropna())\n",
    "print(d)\n",
    "sns.set(style=\"white\", palette=\"muted\", color_codes=True)\n",
    "\n",
    "# Set up the matplotlib figure\n",
    "f, axes = plt.subplots(figsize=(7, 7), sharex=True)\n",
    "sns.despine(left=True)\n",
    "# Plot a historgram and kernel density estimate\n",
    "sns.distplot(d, color=\"m\")\n",
    "plt.setp(axes, yticks=[])\n",
    "plt.tight_layout()\n",
    "plt.show()"
   ]
  },
  {
   "cell_type": "markdown",
   "metadata": {
    "id": "D430079BE29840389BCD8D77B3AEAAD7",
    "jupyter": {},
    "notebookId": "6378d5807b4e5f9b3d1b2042",
    "slideshow": {
     "slide_type": "slide"
    },
    "tags": []
   },
   "source": [
    "**检查量表分数的分布和相关**"
   ]
  },
  {
   "cell_type": "code",
   "execution_count": 26,
   "metadata": {
    "collapsed": false,
    "id": "A9E9FED79C464FBF81F7E4CD2DB9C4CB",
    "jupyter": {
     "outputs_hidden": false
    },
    "notebookId": "6378d5807b4e5f9b3d1b2042",
    "slideshow": {
     "slide_type": "slide"
    },
    "tags": []
   },
   "outputs": [],
   "source": [
    "df"
   ]
  },
  {
   "cell_type": "code",
   "execution_count": 27,
   "metadata": {
    "collapsed": false,
    "id": "F552FDE909B54A4596EAEF01EE5634D6",
    "jupyter": {
     "outputs_hidden": false
    },
    "notebookId": "6378d5807b4e5f9b3d1b2042",
    "scrolled": true,
    "slideshow": {
     "slide_type": "slide"
    },
    "tags": []
   },
   "outputs": [],
   "source": [
    "df = opt_all[['LSHS_total','LSHS_AVH','HPSV_all','RAHQ_all','QPE_severity']]#,'TAI_all','BDI_all'\n",
    "sns.pairplot(df,dropna=True)"
   ]
  },
  {
   "cell_type": "markdown",
   "metadata": {
    "id": "2C075681712E4A658B7E1A1C10810E94",
    "jupyter": {},
    "notebookId": "6378d5807b4e5f9b3d1b2042",
    "slideshow": {
     "slide_type": "slide"
    },
    "tags": []
   },
   "source": [
    "**按照条件和组水平画准确率分布**"
   ]
  },
  {
   "cell_type": "code",
   "execution_count": 28,
   "metadata": {
    "collapsed": false,
    "id": "12DAF8B12B184072870DABFFA1077DD2",
    "jupyter": {
     "outputs_hidden": false
    },
    "notebookId": "6378d5807b4e5f9b3d1b2042",
    "slideshow": {
     "slide_type": "slide"
    },
    "tags": []
   },
   "outputs": [],
   "source": [
    "df_groupby = opt_all[['acc','group','condition']].groupby(['group','condition'])\n",
    "print(df_groupby.groups.keys())\n",
    "df_list = [df_groupby.get_group(key).reset_index()['acc'].rename() for key in df_groupby.groups.keys()]\n",
    "df = pd.concat(df_list,axis=1)\n",
    "#df = df.rename(columns={1:})\n",
    "sns.histplot(df,bins=20)\n",
    "plt.show()"
   ]
  },
  {
   "cell_type": "markdown",
   "metadata": {
    "id": "8A26E13424054DFA80DC4199C77BAFB9",
    "jupyter": {},
    "notebookId": "6378d5807b4e5f9b3d1b2042",
    "slideshow": {
     "slide_type": "slide"
    },
    "tags": []
   },
   "source": [
    "<font face=\"Arial\" size=6 color=#0099ff>  6. 在群水平(性别，年龄，问卷项目，反应时间，准确率和其他)计算和绘制变量</font>\n",
    "\n",
    "<font face=\"Arial\" size=5 color=#DC143C> tips: </font>\n",
    "1. 使用 ** df.groupby() ** 来将数据划分为亚组, 然后是用函数 (平均值, 均值标准误...)来对每个亚组操作数据."
   ]
  },
  {
   "cell_type": "code",
   "execution_count": 30,
   "metadata": {
    "collapsed": false,
    "id": "AE19621DE26D4F7E8D377CD740F9D6D6",
    "jupyter": {
     "outputs_hidden": false
    },
    "notebookId": "6378d5807b4e5f9b3d1b2042",
    "slideshow": {
     "slide_type": "slide"
    },
    "tags": []
   },
   "outputs": [],
   "source": [
    "df_bygroup_basicinfor = opt_all[['gender','age','group']].groupby(['group']).mean()\n",
    "y_err_bd = opt_all[['gender','age','group']].groupby(['group']).sem()\n",
    "df_bygroup_basicinfor = df_bygroup_basicinfor.T\n",
    "y_err_bd = y_err_bd.T\n",
    "\n",
    "df_bygroup_basicinfor.plot(kind = 'bar',yerr = y_err_bd,width=0.8,style=['r','b'])#yerr = y_err_v,\n",
    "plt.legend(loc='upper center', bbox_to_anchor=(1.2,1),ncol=1,fancybox=True,shadow=True)\n",
    "#ylabel('bd')\n",
    "plt.show()\n",
    "\n",
    "#print(opt_all[['gender','group']])\n",
    "df_bygroup_basicinfor = opt_all[['age','gender','group']].groupby(['gender','group']).count()/2\n",
    "print(df_bygroup_basicinfor)\n",
    "#y_err_bd = opt_all[['gender','group']].groupby(['group']).sem()\n",
    "df_bygroup_basicinfor = df_bygroup_basicinfor.T\n",
    "#y_err_bd = y_err_bd.T\n",
    "\n",
    "df_bygroup_basicinfor.plot(kind = 'bar',width=0.8,style=['r','b'])#yerr = y_err_v,\n",
    "plt.legend(loc='upper center', bbox_to_anchor=(1.2,1),ncol=1,fancybox=True,shadow=True)\n",
    "#ylabel('bd')\n",
    "plt.show()"
   ]
  },
  {
   "cell_type": "code",
   "execution_count": 31,
   "metadata": {
    "collapsed": false,
    "id": "C3D99E984167472E891D1A366337B4ED",
    "jupyter": {
     "outputs_hidden": false
    },
    "notebookId": "6378d5807b4e5f9b3d1b2042",
    "slideshow": {
     "slide_type": "slide"
    },
    "tags": []
   },
   "outputs": [],
   "source": [
    "df = opt_all[['LSHS_total','LSHS_AVH','HPSV_all','RAHQ_all','QPE_severity','TAI_all','BDI_all','group']]\n",
    "df = df.drop_duplicates()\n",
    "# color_list = ['rgba(93, 164, 214, 0.5)', 'rgba(93, 164, 214, 1)',  \n",
    "#               'rgba(44, 160, 101, 0.5)', 'rgba(44, 160, 101, 1)',  \n",
    "#               'rgba(255, 65, 54, 0.5)', 'rgba(255, 65, 54, 1)',  \n",
    "#               'rgba(207, 114, 255, 0.5)','rgba(207, 114, 255, 1)',  \n",
    "#               'rgba(127, 96, 0, 0.5)','rgba(127, 96, 0, 1)',  \n",
    "#               'rgba(255, 165, 0,0.5)','rgba(255, 165, 0,1)',  \n",
    "#               'rgba(255, 20, 147,0.5)','rgba(255, 20, 147,1)']\n",
    "color_list = ['rgba(93, 164, 214, 5)', 'rgba(93, 214, 214, 1)',  \n",
    "              'rgba(44, 160, 101, 5)', 'rgba(44, 210, 101, 1)',  \n",
    "              'rgba(255, 65, 54, 5)', 'rgba(255, 115, 54, 1)',  \n",
    "              'rgba(207, 114, 255, 5)','rgba(207, 164, 255, 1)',  \n",
    "              'rgba(127, 96, 0, 5)','rgba(127, 146, 0, 1)',  \n",
    "              'rgba(255, 165, 0,5)','rgba(255, 215, 0,1)',  \n",
    "              'rgba(255, 20, 147,5)','rgba(255, 70, 147,1)']\n",
    "scale_list = ['LSHS_total','LSHS_total','LSHS_AVH','LSHS_AVH','HPSV_all','HPSV_all','RAHQ_all','RAHQ_all',  \n",
    "              'QPE_severity','QPE_severity','TAI_all','TAI_all','BDI_all','BDI_all']\n",
    "group_list = ['High','Low']*7\n",
    "df_gls = pd.DataFrame({'gls':group_list,\n",
    "                       'sls':scale_list,\n",
    "                       'cls':color_list})\n",
    "data = pd.DataFrame([\n",
    "            {\n",
    "                'y': df[df['group']==group][clms],\n",
    "                'type': 'box', \n",
    "                'boxpoints':'all',\n",
    "                #'fillcolor':\n",
    "                'marker': dict(color = df_gls[(df_gls['gls']==group)&(df_gls['sls']==clms)]['cls'].values[0]),\n",
    "                'boxmean':'sd',\n",
    "                'name': clms + '_' + group\n",
    "            } \n",
    "                for clms in ['LSHS_total','LSHS_AVH','HPSV_all','RAHQ_all','QPE_severity','TAI_all','BDI_all']\n",
    "            for group in ['High','Low']]\n",
    ")\n",
    "#iplot(Figure(data=Data(data),layout = Layout(showlegend=False)))"
   ]
  },
  {
   "cell_type": "markdown",
   "metadata": {
    "id": "CDDB07B99DCF41CDB3C897514263BC76",
    "jupyter": {},
    "notebookId": "6378d5807b4e5f9b3d1b2042",
    "slideshow": {
     "slide_type": "slide"
    },
    "tags": []
   },
   "source": [
    "**检查组间量表分数的差异**"
   ]
  },
  {
   "cell_type": "code",
   "execution_count": 32,
   "metadata": {
    "collapsed": false,
    "id": "BB34D7AF341549678B0A25AFC3B497DD",
    "jupyter": {
     "outputs_hidden": false
    },
    "notebookId": "6378d5807b4e5f9b3d1b2042",
    "slideshow": {
     "slide_type": "slide"
    },
    "tags": []
   },
   "outputs": [],
   "source": [
    "# get a list of all columns in the dataframe without the Group column\n",
    "df = opt_all[['LSHS_total','LSHS_AVH','HPSV_all','RAHQ_all','QPE_severity','TAI_all','BDI_all','group']]\n",
    "df = df.drop_duplicates()\n",
    "column_list = [x for x in df.columns if x != 'group']#列表解析式，返回是一个列表\n",
    "# create an empty dictionary\n",
    "t_test_results = {}\n",
    "# loop over column_list and execute code explained above\n",
    "for column in column_list:\n",
    "    group1 = df.where(df.group== 'High')[column].dropna()\n",
    "    group2 = df.where(df.group== 'Low')[column].dropna()\n",
    "    print (group1.count(),group2.count())\n",
    "    # add the output to the dictionary \n",
    "    t_test_results[column] = ttest_ind(group1,group2)\n",
    "results_df = pd.DataFrame.from_dict(t_test_results,orient='Index')\n",
    "results_df.columns = ['statistic','pvalue']\n",
    "results_df"
   ]
  },
  {
   "cell_type": "markdown",
   "metadata": {
    "id": "23B6ABFBD2E84D6982A64D70E79C1243",
    "jupyter": {},
    "notebookId": "6378d5807b4e5f9b3d1b2042",
    "slideshow": {
     "slide_type": "slide"
    },
    "tags": []
   },
   "source": [
    "<font face=\"Arial\" size=6 color=#0099ff>  7.画条形图并对反应时和准确率进行方差分析和t检验. </font>\n",
    "\n",
    "**按照条件和组对准确率画图**"
   ]
  },
  {
   "cell_type": "code",
   "execution_count": 33,
   "metadata": {
    "collapsed": false,
    "id": "6EB15FC735F6441388EA3518571E3523",
    "jupyter": {
     "outputs_hidden": false
    },
    "notebookId": "6378d5807b4e5f9b3d1b2042",
    "slideshow": {
     "slide_type": "slide"
    },
    "tags": []
   },
   "outputs": [],
   "source": [
    "# remove subjects with very high fa, let's say more than 40\n",
    "opt_all = opt_all[~opt_all.index.isin(opt_all[opt_all['fa']>40].index)]\n",
    "df_bygroup_acc = opt_all[['acc','group','condition']].groupby(['group','condition']).mean()\n",
    "y_err_acc = opt_all[['acc','group','condition']].groupby(['group','condition']).sem()\n",
    "df_bygroup_acc = df_bygroup_acc.T\n",
    "y_err_acc = y_err_acc.T\n",
    "\n",
    "df_bygroup_acc.plot(kind = 'bar',yerr = y_err_acc,width=0.8,style=['r--','r','b--','b'])#yerr = y_err_v,\n",
    "plt.legend(loc='upper center', bbox_to_anchor=(1.2,1),ncol=1,fancybox=True,shadow=True)\n",
    "#ylabel('acc')\n",
    "plt.show()"
   ]
  },
  {
   "cell_type": "markdown",
   "metadata": {
    "id": "E98613A7AC254B2CB259A8A1F78C7521",
    "jupyter": {},
    "notebookId": "6378d5807b4e5f9b3d1b2042",
    "slideshow": {
     "slide_type": "slide"
    },
    "tags": []
   },
   "source": [
    "**准确率的方差分析**\n",
    "\n"
   ]
  },
  {
   "cell_type": "markdown",
   "metadata": {
    "id": "98E1ACFA30DD4C0B86B09DA5C43927FA",
    "jupyter": {},
    "notebookId": "6378d5807b4e5f9b3d1b2042",
    "slideshow": {
     "slide_type": "slide"
    },
    "tags": []
   },
   "source": [
    "**准确率的t检验来检查交互模式(简单效应)**"
   ]
  },
  {
   "cell_type": "code",
   "execution_count": 35,
   "metadata": {
    "collapsed": false,
    "id": "EF18C9E6F4144A2C88B55B5D85E3EC13",
    "jupyter": {
     "outputs_hidden": false
    },
    "notebookId": "6378d5807b4e5f9b3d1b2042",
    "slideshow": {
     "slide_type": "slide"
    },
    "tags": []
   },
   "outputs": [],
   "source": [
    "for con in ['pre','unp']:\n",
    "    df = opt_all[['acc','group','condition']]\n",
    "    df = df[df['condition']==con][['acc','group']]\n",
    "    #print(df)\n",
    "    column_list = [x for x in df.columns if x != 'group']\n",
    "    # create an empty dictionary\n",
    "    t_test_results = {}\n",
    "    # loop over column_list and execute code explained above\n",
    "    for column in column_list:\n",
    "        group1 = df.where(df.group== 'High').dropna()[column]\n",
    "        group2 = df.where(df.group== 'Low').dropna()[column]\n",
    "        print (group1.count(),group2.count())\n",
    "        # add the output to the dictionary \n",
    "        #print(group1,group2)\n",
    "        t_test_results[column] = ttest_ind(group1,group2)\n",
    "    results_df = pd.DataFrame.from_dict(t_test_results,orient='Index')\n",
    "    results_df.columns = ['statistic','pvalue']\n",
    "    print (con,'\\n',results_df)"
   ]
  },
  {
   "cell_type": "code",
   "execution_count": 36,
   "metadata": {
    "collapsed": false,
    "id": "16AF34DCC748414B9E6A3F03B70C3305",
    "jupyter": {
     "outputs_hidden": false
    },
    "notebookId": "6378d5807b4e5f9b3d1b2042",
    "slideshow": {
     "slide_type": "slide"
    },
    "tags": []
   },
   "outputs": [],
   "source": [
    "df_bygroup_rt = opt_all[['rt','group','condition']].groupby(['group','condition']).mean()\n",
    "y_err_rt = opt_all[['rt','group','condition']].groupby(['group','condition']).sem()\n",
    "df_bygroup_rt = df_bygroup_rt.T\n",
    "y_err_rt = y_err_rt.T\n",
    "\n",
    "df_bygroup_rt.plot(kind = 'bar',yerr = y_err_rt,width=0.8,style=['r--','r','b--','b'])#yerr = y_err_v,\n",
    "plt.legend(loc='upper center', bbox_to_anchor=(1.2,1),ncol=1,fancybox=True,shadow=True)\n",
    "plt.ylabel('acc')\n",
    "plt.show()"
   ]
  },
  {
   "cell_type": "code",
   "execution_count": 37,
   "metadata": {
    "collapsed": false,
    "id": "40A619C180D24EDFB68C4E9DA4427448",
    "jupyter": {
     "outputs_hidden": false
    },
    "notebookId": "6378d5807b4e5f9b3d1b2042",
    "slideshow": {
     "slide_type": "slide"
    },
    "tags": []
   },
   "outputs": [],
   "source": [
    "for con in ['pre','unp']:\n",
    "    df = opt_all[['rt','group','condition']]\n",
    "    df = df[df['condition']==con][['rt','group']]\n",
    "    #print(df)\n",
    "    column_list = [x for x in df.columns if x != 'group']\n",
    "    # create an empty dictionary\n",
    "    t_test_results = {}\n",
    "    # loop over column_list and execute code explained above\n",
    "    for column in column_list:\n",
    "        group1 = df.where(df.group== 'High').dropna()[column]\n",
    "        group2 = df.where(df.group== 'Low').dropna()[column]\n",
    "        print (group1.count(),group2.count())\n",
    "        # add the output to the dictionary \n",
    "        #print(group1,group2)\n",
    "        t_test_results[column] = ttest_ind(group1,group2)\n",
    "    results_df = pd.DataFrame.from_dict(t_test_results,orient='Index')\n",
    "    results_df.columns = ['statistic','pvalue']\n",
    "    print (con, '\\n',results_df)"
   ]
  },
  {
   "cell_type": "code",
   "execution_count": 38,
   "metadata": {
    "collapsed": false,
    "id": "71216F9EF55D4AA094EAAA1CCB3A1395",
    "jupyter": {
     "outputs_hidden": false
    },
    "notebookId": "6378d5807b4e5f9b3d1b2042",
    "slideshow": {
     "slide_type": "slide"
    },
    "tags": []
   },
   "outputs": [],
   "source": [
    "for bd_val  in ['acc','rt']:\n",
    "    df = opt_all[[bd_val,'group','condition']]\n",
    "    df = df.drop_duplicates()\n",
    "    color_list = ['rgba(255, 65, 54, 5)', 'rgba(255, 115, 54, 1)',  \n",
    "                  'rgba(44, 160, 101, 5)', 'rgba(44, 210, 101, 1)']\n",
    "    scale_list = ['unp','pre','unp','pre']\n",
    "    group_list = ['High']*2+['Low']*2\n",
    "    df_gls = pd.DataFrame({'gls':group_list,\n",
    "                           'sls':scale_list,\n",
    "                           'cls':color_list})\n",
    "    #print(df_gls)\n",
    "#     for group in ['High','Low']:\n",
    "#         for clms in ['unp','pre']:\n",
    "#             print(group,clms)\n",
    "            #print(df_gls[(df_gls['gls']==group)&(df_gls['sls']==clms)]['cls'].values[0])\n",
    "\n",
    "    data = [\n",
    "                {\n",
    "                    'y': df[(df['group']==group)&(df['condition']==clms)][bd_val],\n",
    "                    'type': 'box', \n",
    "                    'boxpoints':'all',\n",
    "                    #'fillcolor':\n",
    "                    'marker': dict(color = df_gls[(df_gls['gls']==group)&(df_gls['sls']==clms)]['cls'].values[0]),\n",
    "                    'boxmean':'sd',\n",
    "                    'name': clms + '_' + group\n",
    "                }   \n",
    "                    for group in ['High','Low']\n",
    "                for clms in ['unp','pre']\n",
    "            ]\n",
    "    #iplot(Figure(data=Data(data),layout = Layout(width=500,height=500,title=bd_val,showlegend=True)))"
   ]
  },
  {
   "cell_type": "markdown",
   "metadata": {
    "id": "07B00D09D86847908095FD867830D822",
    "jupyter": {},
    "notebookId": "6378d5807b4e5f9b3d1b2042",
    "slideshow": {
     "slide_type": "slide"
    },
    "tags": []
   },
   "source": [
    "\n",
    "<font face=\"Arial\" size=5 color=#DC143C>使用 dPrime function 来计算信号检测论参数, d,beta,c,Ad. </font> "
   ]
  },
  {
   "cell_type": "code",
   "execution_count": 39,
   "metadata": {
    "collapsed": false,
    "id": "C61522E7FDA5495B80D3A29B474149F2",
    "jupyter": {
     "outputs_hidden": false
    },
    "notebookId": "6378d5807b4e5f9b3d1b2042",
    "slideshow": {
     "slide_type": "slide"
    },
    "tags": []
   },
   "outputs": [],
   "source": [
    "from scipy.stats import norm\n",
    "from math import exp,sqrt\n",
    "Z = norm.ppf\n",
    " \n",
    "def dPrime(hits, misses, fas, crs):\n",
    "    # Floors an ceilings are replaced by half hits and half FA's\n",
    "    halfHit = 0.5/(hits+misses)\n",
    "    halfFa = 0.5/(fas+crs)\n",
    " \n",
    "    # Calculate hitrate and avoid d' infinity\n",
    "    hitRate = hits/(hits+misses)\n",
    "    if hitRate == 1: hitRate = 1-halfHit\n",
    "    if hitRate == 0: hitRate = halfHit\n",
    " \n",
    "    # Calculate false alarm rate and avoid d' infinity\n",
    "    faRate = fas/(fas+crs)\n",
    "    if faRate == 1: faRate = 1-halfFa\n",
    "    if faRate == 0: faRate = halfFa\n",
    " \n",
    "    # Return d', beta, c and Ad'\n",
    "    out = {}\n",
    "    out['d'] = Z(hitRate) - Z(faRate)\n",
    "    out['beta'] = exp((Z(faRate)**2 - Z(hitRate)**2)/2)\n",
    "    out['c'] = -(Z(hitRate) + Z(faRate))/2\n",
    "    out['Ad'] = norm.cdf(out['d']/sqrt(2))\n",
    "    return out\n",
    "dPrime(0.8,0.2,0.7,0.3)"
   ]
  },
  {
   "cell_type": "code",
   "execution_count": 40,
   "metadata": {
    "collapsed": false,
    "id": "9D2A6042C0C143C7A8C774C88CBD18A0",
    "jupyter": {
     "outputs_hidden": false
    },
    "notebookId": "6378d5807b4e5f9b3d1b2042",
    "slideshow": {
     "slide_type": "slide"
    },
    "tags": []
   },
   "outputs": [],
   "source": [
    "#opt_all = opt_all.set_index('Subject')\n",
    "opt_all['fa'] = opt_all['fa'].apply(lambda x:x/60)\n",
    "acc_2cond = opt_all[['group','condition','fa','acc']].groupby(['Subject'])['acc'].mean()\n",
    "opt_all.reset_index(inplace=True) \n",
    "opt_all =opt_all.set_index(['Subject'])\n",
    "opt_all = opt_all.join(acc_2cond,rsuffix='_2cond')\n",
    "opt_all.reset_index(inplace=True) \n",
    "opt_all =opt_all.set_index(['Subject'])\n",
    "opt_all.reset_index(inplace=True) \n",
    "df_dPrime = [dPrime(opt_all['acc_2cond'][idx],1-opt_all['acc_2cond'][idx],opt_all['fa'][idx],1-opt_all['acc_2cond'][idx]) for idx in opt_all.index]\n",
    "opt_all = opt_all.join(pd.DataFrame(df_dPrime))\n",
    "opt_all = opt_all.set_index('Subject')"
   ]
  },
  {
   "cell_type": "code",
   "execution_count": 41,
   "metadata": {
    "collapsed": false,
    "id": "8C8F6241F0F643AF81D87B178AC50B08",
    "jupyter": {
     "outputs_hidden": false
    },
    "notebookId": "6378d5807b4e5f9b3d1b2042",
    "slideshow": {
     "slide_type": "slide"
    },
    "tags": []
   },
   "outputs": [],
   "source": [
    "#opt_all[['group','condition','d','c','Ad','beta','fa']].to_csv('tmp.csv')\n",
    "opt_all.reset_index(inplace=True)\n",
    "#opt_all = opt_all[opt_all['fa']<=40/60]"
   ]
  },
  {
   "cell_type": "code",
   "execution_count": 42,
   "metadata": {
    "collapsed": false,
    "id": "F40F2E959CE54017B89C6463CFC2419E",
    "jupyter": {
     "outputs_hidden": false
    },
    "notebookId": "6378d5807b4e5f9b3d1b2042",
    "slideshow": {
     "slide_type": "slide"
    },
    "tags": []
   },
   "outputs": [],
   "source": [
    "# themes =  cf.getThemes()\n",
    "# print(themes)\n",
    "# cf.set_config_file(theme=themes[6])\n",
    "#print(opt_all)\n",
    "bd_str = 'fa'\n",
    "#opt_all.to_csv('tmp1.csv')\n",
    "sublist_na = opt_all['Subject'][opt_all.loc[:,bd_str].isna()].values\n",
    "df_se_pra_nona = opt_all[~opt_all['Subject'].isin(sublist_na)]\n",
    "df_tmp = df_se_pra_nona[(df_se_pra_nona['condition']=='unp')][['Subject','group','d','c','Ad','beta','fa']]\n",
    "df_tmp = df_tmp.drop_duplicates()\n",
    "df_tmp.to_csv('tmp.csv')\n",
    "data = [\n",
    "            {\n",
    "                'y': df_tmp[(df_tmp['group']==group)][bd_str],\n",
    "                'type': 'box', \n",
    "                'boxpoints':'all',\n",
    "                'name': bd_str + '_' + str(group)\n",
    "            } \n",
    "                for bd_str in  ['d','c','Ad','beta']\n",
    "            for group in ['High','Low']\n",
    "        ]\n",
    "#iplot(Figure(data=Data(data)))"
   ]
  },
  {
   "cell_type": "markdown",
   "metadata": {
    "id": "94FD5E6518A343FD8B878FCCBD4BAD2C",
    "jupyter": {},
    "notebookId": "6378d5807b4e5f9b3d1b2042",
    "slideshow": {
     "slide_type": "slide"
    },
    "tags": []
   },
   "source": [
    "**行为测量和量表分数间的相关**"
   ]
  },
  {
   "cell_type": "code",
   "execution_count": 48,
   "metadata": {
    "collapsed": false,
    "id": "BE912A80CB0F4D9980DC2894ED41FDFA",
    "jupyter": {
     "outputs_hidden": false
    },
    "notebookId": "6378d5807b4e5f9b3d1b2042",
    "slideshow": {
     "slide_type": "slide"
    },
    "tags": []
   },
   "outputs": [],
   "source": [
    "#%debug\n",
    "#bd_str = 'LSHS_AVH'\n",
    "\n",
    "#opt_all.to_csv('tmp1.csv')\n",
    "sublist_na = opt_all['Subject'][(opt_all.loc[:,'BDI_all'].isna())|(opt_all.loc[:,'LSHS_AVH'].isna())].values\n",
    "df_se_pra_nona = opt_all[~opt_all['Subject'].isin(sublist_na)]\n",
    "df_tmp = df_se_pra_nona[(df_se_pra_nona['condition']=='unp')][['Subject','LSHS_total','LSHS_AVH',  \n",
    "                                                               'HPSV_all','RAHQ_all',\n",
    "                                                               'TAI_all','BDI_all','d',  \n",
    "                                                               'Ad','c','beta','fa']]  \n",
    "                                                               \n",
    "df = df_tmp.drop_duplicates()\n",
    "df.to_csv('tmp.csv')\n",
    "from scipy.stats import pearsonr\n",
    "#print(pearsonr(df['LSHS_total'],df['d']))\n",
    "r_p = [pearsonr(df[cls1],df[cls2]) for cls1 in df.columns for cls2 in df.columns]\n",
    "r, p = zip(*r_p)\n",
    "bd_names = ['Subject','LSHS_total','LSHS_AVH','HPSV_all','RAHQ_all',  \n",
    "            'TAI_all','BDI_all','d','Ad','c','beta','fa']\n",
    "r = pd.DataFrame(np.array(r).reshape((12,12)),columns=bd_names,index = bd_names)\n",
    "p = pd.DataFrame(np.array(p).reshape((12,12)),columns=bd_names,index = bd_names)\n",
    "print(p[['LSHS_total','LSHS_AVH','HPSV_all','RAHQ_all']]) # delete QPE_severity which is empty\n",
    "#print(p)"
   ]
  },
  {
   "cell_type": "code",
   "execution_count": 49,
   "metadata": {
    "collapsed": false,
    "id": "B2CE3E0560F74C85A66251171485A7C8",
    "jupyter": {
     "outputs_hidden": false
    },
    "notebookId": "6378d5807b4e5f9b3d1b2042",
    "slideshow": {
     "slide_type": "slide"
    },
    "tags": []
   },
   "outputs": [],
   "source": [
    "import seaborn as sns; sns.set(color_codes=True)\n",
    "# Set up the matplotlib figure\n",
    "f, axes = plt.subplots(2, 4, figsize=(15, 15))\n",
    "sns.despine(left=True)\n",
    "cnt1 = 0\n",
    "for clms1 in ['LSHS_AVH','RAHQ_all']:\n",
    "    cnt2 = 0\n",
    "    for clms2 in ['d','Ad','c','beta']:#,'fa'\n",
    "        b= sns.regplot(x=clms1, y=clms2, data=df,ci=68,ax=axes[cnt1, cnt2])\n",
    "        #sns.set_xlabel(\"X Label\",fontsize=30)\n",
    "        b.set_xlabel(clms2,fontsize=18*2)\n",
    "        b.set_ylabel(clms1,fontsize=18*2)\n",
    "        cnt2 +=1\n",
    "    cnt1 += 1 \n",
    "#plt.setp(axes, yticks=[])\n",
    "plt.tight_layout()"
   ]
  },
  {
   "cell_type": "code",
   "execution_count": 50,
   "metadata": {
    "collapsed": false,
    "id": "FD9E5F10C13644A7ADA2617B0AD850A5",
    "jupyter": {
     "outputs_hidden": false
    },
    "notebookId": "6378d5807b4e5f9b3d1b2042",
    "slideshow": {
     "slide_type": "slide"
    },
    "tags": []
   },
   "outputs": [],
   "source": [
    "# get a list of all columns in the dataframe without the Group column\n",
    "df = opt_all[(opt_all['condition']=='unp')][['group','d','c','Ad','beta','fa']]\n",
    "df.to_csv('tmp.csv')\n",
    "column_list = [x for x in df.columns if x != 'group']\n",
    "# create an empty dictionary\n",
    "t_test_results = {}\n",
    "# loop over column_list and execute code explained above\n",
    "for column in column_list:\n",
    "    group1 = df.where(df.group== 'High').dropna()[column]\n",
    "    group2 = df.where(df.group== 'Low').dropna()[column]\n",
    "    # add the output to the dictionary \n",
    "    t_test_results[column] = ttest_ind(group1,group2)\n",
    "results_df = pd.DataFrame.from_dict(t_test_results,orient='Index')\n",
    "results_df.columns = ['statistic','pvalue']\n",
    "results_df"
   ]
  },
  {
   "cell_type": "code",
   "execution_count": 51,
   "metadata": {
    "collapsed": false,
    "id": "4723BC87C8864A1B8B483C61D3D9F006",
    "jupyter": {
     "outputs_hidden": false
    },
    "notebookId": "6378d5807b4e5f9b3d1b2042",
    "slideshow": {
     "slide_type": "slide"
    },
    "tags": []
   },
   "outputs": [],
   "source": [
    "opt_all_tmp = opt_all[(opt_all['condition']=='unp')][['Subject','group','d','c','Ad','beta','fa',\n",
    "                                        'LSHS_total','LSHS_AVH','HPSV_all','RAHQ_all',\n",
    "                                         'TAI_all','BDI_all',]]\n",
    "# %store opt_all_tmp\n",
    "# del opt_all_tmp\n",
    "# delete QPE_severity which is empty"
   ]
  },
  {
   "cell_type": "code",
   "execution_count": null,
   "metadata": {
    "collapsed": false,
    "id": "C67D6CB6F75246E780394C31A66E9939",
    "jupyter": {
     "outputs_hidden": false
    },
    "notebookId": "6378d5807b4e5f9b3d1b2042",
    "slideshow": {
     "slide_type": "slide"
    },
    "tags": []
   },
   "outputs": [],
   "source": []
  }
 ],
 "metadata": {
  "kernelspec": {
   "display_name": "Python 3 (ipykernel)",
   "language": "python",
   "name": "python3"
  },
  "language_info": {
   "codemirror_mode": {
    "name": "ipython",
    "version": 3
   },
   "file_extension": ".py",
   "mimetype": "text/x-python",
   "name": "python",
   "nbconvert_exporter": "python",
   "pygments_lexer": "ipython3",
   "version": "3.9.13"
  }
 },
 "nbformat": 4,
 "nbformat_minor": 4
}
