{
 "cells": [
  {
   "cell_type": "markdown",
   "metadata": {
    "id": "D89B0EAB542642F98900CCC4D4E49360",
    "jupyter": {},
    "notebookId": "637b54727b4e5f9b3d48842e",
    "slideshow": {
     "slide_type": "slide"
    },
    "tags": []
   },
   "source": [
    "# Lecture 7: Markov Chain Monte Carlo (MCMC) \n",
    "## ——现代贝叶斯分析的内核\n",
    "\n",
    "## Instructor： 胡传鹏（博士）[Dr. Hu Chuan-Peng]\n",
    "\n",
    "### 南京师范大学心理学院[School of Psychology, Nanjing Normal University]"
   ]
  },
  {
   "cell_type": "markdown",
   "metadata": {
    "id": "D610CFFFE4A34F338C363D06CDCAE682",
    "jupyter": {},
    "notebookId": "637b54727b4e5f9b3d48842e",
    "slideshow": {
     "slide_type": "slide"
    },
    "tags": []
   },
   "source": [
    "课前回顾: \n",
    "\n",
    "- 概率基础;\n",
    "\n",
    "- 贝叶斯公式中各个部分的意义\n",
    "\n",
    "- 理解后验分布及其计算"
   ]
  },
  {
   "cell_type": "markdown",
   "metadata": {
    "id": "2D69EF0742AE4913866F72A6BE6D1B16",
    "jupyter": {},
    "notebookId": "637b54727b4e5f9b3d48842e",
    "slideshow": {
     "slide_type": "slide"
    },
    "tags": []
   },
   "source": [
    "## $p(\\theta|data) = \\frac{p(data|\\theta)p(\\theta)}{\\pmb {p(data)}}$"
   ]
  },
  {
   "cell_type": "markdown",
   "metadata": {
    "id": "080B16A5C19948DAAA876A41FC47A2DB",
    "jupyter": {},
    "notebookId": "637b54727b4e5f9b3d48842e",
    "slideshow": {
     "slide_type": "slide"
    },
    "tags": []
   },
   "source": [
    "使用贝叶斯公式的目标：\n",
    "\n",
    "## $\\pmb{p(\\theta|data)} = \\frac{p(data|\\theta)p(\\theta)}{p(data)}$ "
   ]
  },
  {
   "cell_type": "markdown",
   "metadata": {
    "id": "24C01E78CC9A4A048720E8FB099769E9",
    "jupyter": {},
    "notebookId": "637b54727b4e5f9b3d48842e",
    "slideshow": {
     "slide_type": "slide"
    },
    "tags": []
   },
   "source": [
    "**以探究地球海水覆盖率为例。**\n",
    "\n",
    "- 假设我们在获得数据以前的**先验**认为：地球海水覆盖率$\\theta$为0-1的可能是相等的。$\\theta \\sim uniform(0,1)$\n",
    "\n",
    "- 数据：抛地球仪9次，其中6次海面朝上。\n",
    "\n",
    "- 以二项分布函数作为**似然函数**。\n",
    "\n",
    "**我们该如何计算后验分布**"
   ]
  },
  {
   "cell_type": "markdown",
   "metadata": {
    "id": "8B110CA7AB7846D7A701020EF7C29C6A",
    "jupyter": {},
    "notebookId": "637b54727b4e5f9b3d48842e",
    "slideshow": {
     "slide_type": "slide"
    },
    "tags": []
   },
   "source": [
    "第一个方法是利用贝叶斯公式$p(\\theta|data) = \\frac{p(data|\\theta)p(\\theta)}{p(data)}$ 求出后验分布的解析解\n",
    "\n",
    "但是可能的困难在于\n",
    "\n",
    "1. 很多情况下求积分往往是很难的，并且有些积分可能没有解析解。\n",
    "$P(data) =\\int_{\\theta}^{} p(data,\\theta) =\\int_{\\theta}^{} p(data|\\theta)p(\\theta)d\\theta$\n",
    "\n",
    "\n",
    "2. 若后验分布比较复杂，即使获得后验分布，也难以计算期望值。\n",
    "$E(\\theta) =\\int_{\\theta}^{} \\theta p(\\theta|data) d\\theta$\n",
    "\n",
    "第二种方法：近似求解算法"
   ]
  },
  {
   "cell_type": "markdown",
   "metadata": {
    "id": "EAB18BB0727743118FE1EDBF50FEC624",
    "jupyter": {},
    "notebookId": "637b54727b4e5f9b3d48842e",
    "slideshow": {
     "slide_type": "slide"
    },
    "tags": []
   },
   "source": [
    "## Part 1: The idea of approximation"
   ]
  },
  {
   "cell_type": "markdown",
   "metadata": {
    "id": "3BA8E3293FC24266834D765F3DB58C3C",
    "jupyter": {},
    "notebookId": "637b54727b4e5f9b3d48842e",
    "slideshow": {
     "slide_type": "slide"
    },
    "tags": []
   },
   "source": [
    "### Grid approximation"
   ]
  },
  {
   "cell_type": "markdown",
   "metadata": {
    "id": "C98702756B74464AA682A0C79C6BCEC7",
    "jupyter": {},
    "notebookId": "637b54727b4e5f9b3d48842e",
    "slideshow": {
     "slide_type": "slide"
    },
    "tags": []
   },
   "source": [
    "最简单的近似方法就是网格近似。\n",
    "\n",
    "虽然大多数参数都是连续的，能够接受无穷多的值。\n",
    "\n",
    "但有时候通过有限的参数值，就可以很好地近似连续参数的后验分布"
   ]
  },
  {
   "cell_type": "code",
   "execution_count": 2,
   "metadata": {
    "collapsed": false,
    "id": "92E7836FF0244DC68D57990B845B15F1",
    "jupyter": {
     "outputs_hidden": false
    },
    "notebookId": "637b54727b4e5f9b3d48842e",
    "slideshow": {
     "slide_type": "slide"
    },
    "tags": []
   },
   "outputs": [],
   "source": [
    "import numpy as np                             # numpy 是专门用于数组运算的包\n",
    "import scipy.stats as st                       # 从scipy.stats里载入分布函数\n",
    "import matplotlib.pyplot as plt                # matplotlib.pyplot 是专门用于画图的包\n",
    "import seaborn as sns                          # seaborn是专门用于绘制统计数据的包\n",
    "import arviz as az                             # arviz 是专门用于贝叶斯统计会绘制的包\n",
    "from scipy.stats import norm, uniform, binom   # 从scipy.stats里载入正态分布和均匀分布\n",
    "from math import sqrt                          # 从math包输入计算平方根的公式\n",
    "from matplotlib.patches import Circle          # matplotlib.patches是用来画几何图形的包\n",
    "sns.set_style(\"white\")                         # 选择一个seaborn的风格"
   ]
  },
  {
   "cell_type": "code",
   "execution_count": 3,
   "metadata": {
    "collapsed": false,
    "id": "ACA7876CAB8248608E58EE53D49E8695",
    "jupyter": {
     "outputs_hidden": false
    },
    "notebookId": "637b54727b4e5f9b3d48842e",
    "slideshow": {
     "slide_type": "slide"
    },
    "tags": []
   },
   "outputs": [
    {
     "data": {
      "text/plain": [
       "[<matplotlib.lines.Line2D at 0x26b176ef610>]"
      ]
     },
     "execution_count": 3,
     "metadata": {},
     "output_type": "execute_result"
    },
    {
     "data": {
      "image/png": "[encoded data removed]",
      "text/plain": [
       "<Figure size 432x288 with 1 Axes>"
      ]
     },
     "metadata": {},
     "output_type": "display_data"
    }
   ],
   "source": [
    "p_grid = np.linspace(0,1,5)        # 取5个离散的参数值\n",
    "prior = np.repeat(1,5)             # 5个参数值的不标准的先验分布\n",
    "likelihood = binom.pmf(6,9,p_grid) # 投掷9次，6次海面朝上的各参数的似然\n",
    "unstd_posterior = likelihood*prior #没有归一化的后验分布\n",
    "\n",
    "posterior = unstd_posterior/np.sum(unstd_posterior) # 后验分布归一化\n",
    "\n",
    "plt.plot(p_grid,posterior,'o') #画出5个值的点\n",
    "plt.plot(p_grid,posterior) #将5个值得点进行连线"
   ]
  },
  {
   "cell_type": "code",
   "execution_count": 4,
   "metadata": {
    "collapsed": false,
    "id": "C83F0EC4A7364670A95C24E6B194731F",
    "jupyter": {
     "outputs_hidden": false
    },
    "notebookId": "637b54727b4e5f9b3d48842e",
    "slideshow": {
     "slide_type": "slide"
    },
    "tags": []
   },
   "outputs": [
    {
     "data": {
      "text/plain": [
       "[<matplotlib.lines.Line2D at 0x26b197f0100>]"
      ]
     },
     "execution_count": 4,
     "metadata": {},
     "output_type": "execute_result"
    },
    {
     "data": {
      "image/png": "[encoded data removed]",
      "text/plain": [
       "<Figure size 432x288 with 1 Axes>"
      ]
     },
     "metadata": {},
     "output_type": "display_data"
    }
   ],
   "source": [
    "p_grid = np.linspace(0,1,20)       # 取20个离散的参数值\n",
    "prior = np.repeat(1,20)            # 20个参数值的不标准的先验分布\n",
    "likelihood = binom.pmf(6,9,p_grid) # 投掷9次，6次海面朝上的各参数的似然\n",
    "unstd_posterior = likelihood*prior # 没有归一化的后验分布\n",
    "posterior = unstd_posterior/np.sum(unstd_posterior) # 后验分布归一化\n",
    "plt.plot(p_grid,posterior,'o')     # 画出20个值的点\n",
    "plt.plot(p_grid,posterior)         # 将20个值的点进行连线"
   ]
  },
  {
   "cell_type": "code",
   "execution_count": 5,
   "metadata": {
    "collapsed": false,
    "id": "B0DE008E6642497D86F5FBFD2376EFDD",
    "jupyter": {
     "outputs_hidden": false
    },
    "notebookId": "637b54727b4e5f9b3d48842e",
    "slideshow": {
     "slide_type": "slide"
    },
    "tags": []
   },
   "outputs": [
    {
     "data": {
      "text/plain": [
       "[<matplotlib.lines.Line2D at 0x26b19a5d2b0>]"
      ]
     },
     "execution_count": 5,
     "metadata": {},
     "output_type": "execute_result"
    },
    {
     "data": {
      "image/png": "[encoded data removed]",
      "text/plain": [
       "<Figure size 432x288 with 1 Axes>"
      ]
     },
     "metadata": {},
     "output_type": "display_data"
    }
   ],
   "source": [
    "p_grid = np.linspace(0,1,1000)     # 取1000个离散的参数值\n",
    "prior = np.repeat(1,1000)          # 20个参数值的不标准的先验分布\n",
    "likelihood = binom.pmf(6,9,p_grid) # 投掷9次，6次海面朝上的各参数的似然\n",
    "unstd_posterior = likelihood*prior # 没有归一化的后验分布\n",
    "posterior = unstd_posterior/np.sum(unstd_posterior) #后验分布归一化\n",
    "\n",
    "plt.plot(p_grid,posterior,'o')#画出1000个值的点\n",
    "plt.plot(p_grid,posterior)#将1000个值的点进行连线"
   ]
  },
  {
   "cell_type": "markdown",
   "metadata": {
    "id": "B7A370C25E174B9A9D9C60A6B45E7FD0",
    "jupyter": {},
    "notebookId": "637b54727b4e5f9b3d48842e",
    "slideshow": {
     "slide_type": "slide"
    },
    "tags": []
   },
   "source": [
    "从以上代码可以看出：grid approximation 其实就是将连续参数求积分的过程转化为离散参数求和的过程"
   ]
  },
  {
   "cell_type": "markdown",
   "metadata": {
    "id": "64FBCF3FDC914FEA9B6F6128483E3FAA",
    "jupyter": {},
    "notebookId": "637b54727b4e5f9b3d48842e",
    "slideshow": {
     "slide_type": "slide"
    },
    "tags": []
   },
   "source": [
    "当只存在一个参数时，grid approximation 时很有用的，但是当存在两个以上参数时， grid approximation就需要大量计算\n",
    "\n",
    "假如只有一个参数时，grid approximation计算时取100个参数值，则当存在2个参数时，就需要计算 $100^2=10000$个参数值"
   ]
  },
  {
   "cell_type": "markdown",
   "metadata": {
    "id": "1ACFAB4E4EED44068D1768EC3A67E97C",
    "jupyter": {},
    "notebookId": "637b54727b4e5f9b3d48842e",
    "slideshow": {
     "slide_type": "slide"
    },
    "tags": []
   },
   "source": [
    "### 马尔科夫链蒙特卡洛(markov chain monte carlo, MCMC)"
   ]
  },
  {
   "cell_type": "markdown",
   "metadata": {
    "id": "0D121F7C68D940C08467A6B9F7BE2AC4",
    "jupyter": {},
    "notebookId": "637b54727b4e5f9b3d48842e",
    "slideshow": {
     "slide_type": "slide"
    },
    "tags": []
   },
   "source": [
    "在计算具有多个参数的后验分布时，有一种有效的方法叫做马尔科夫链蒙特卡洛(MCMC)。\n",
    "\n",
    "在介绍MCMC之前，我们先分别介绍一下蒙特卡洛方法(monte carlo)和马尔科夫链(markov chain)。"
   ]
  },
  {
   "cell_type": "markdown",
   "metadata": {
    "id": "A9033512BAD04CF896E93F491B623DC5",
    "jupyter": {},
    "notebookId": "637b54727b4e5f9b3d48842e",
    "slideshow": {
     "slide_type": "slide"
    },
    "tags": []
   },
   "source": [
    "#### 蒙特卡洛方法"
   ]
  },
  {
   "cell_type": "markdown",
   "metadata": {
    "id": "112B933FC473494A8936284B5FC0E2D2",
    "jupyter": {},
    "notebookId": "637b54727b4e5f9b3d48842e",
    "slideshow": {
     "slide_type": "slide"
    },
    "tags": []
   },
   "source": [
    "蒙特卡洛方法来自于摩纳哥的蒙特卡洛赌场，许多纸牌类游戏需要计算其胜利的概率。\n",
    "\n",
    "我们可以将蒙特卡洛理解为简单的模拟，通过模拟的情景来计算其发生的概率。\n",
    "\n",
    "因为许多概率的计算往往是非常复杂甚至是无法直接计算的，但是我们可以通过计算机对期待发生的场景进行大量模拟，从而计算出其发生的概率，即：\n",
    "\n",
    "$p(发生的概率)=\\frac{模拟情形下事件发生的次数}{模拟的次数}$"
   ]
  },
  {
   "cell_type": "markdown",
   "metadata": {
    "id": "E97ED72D3547458A8E85A6922D9440E8",
    "jupyter": {},
    "notebookId": "637b54727b4e5f9b3d48842e",
    "slideshow": {
     "slide_type": "slide"
    },
    "tags": []
   },
   "source": [
    "我们使用一个经典的例子来说明蒙特卡罗方法的原理。\n",
    "\n",
    "我们可以用蒙特卡洛方法来求出不规则图形的面积。\n",
    "\n",
    "其基本原理为用大量的随机点铺满整块区域（该区域为规则图形），其中不规则图形的面积为\n",
    "$\\frac{落在不规则图形内的点的数量}{该区域内点的数量}*该区域面积$"
   ]
  },
  {
   "cell_type": "markdown",
   "metadata": {
    "id": "5E548D5A2A74426A8110E7D464CFA7A0",
    "jupyter": {},
    "notebookId": "637b54727b4e5f9b3d48842e",
    "slideshow": {
     "slide_type": "slide"
    },
    "tags": []
   },
   "source": [
    "我们该如何计算图形下半部分面积？"
   ]
  },
  {
   "cell_type": "code",
   "execution_count": 4,
   "metadata": {
    "collapsed": false,
    "id": "1708BEF2858C44FA9B0B5CDC50C5F641",
    "jupyter": {
     "outputs_hidden": false
    },
    "notebookId": "637b54727b4e5f9b3d48842e",
    "slideshow": {
     "slide_type": "slide"
    },
    "tags": []
   },
   "outputs": [
    {
     "data": {
      "text/plain": [
       "(-2.0, 2.0)"
      ]
     },
     "execution_count": 4,
     "metadata": {},
     "output_type": "execute_result"
    },
    {
     "data": {
      "text/html": [
       "<img src=\"https://cdn.kesci.com/upload/rt/1708BEF2858C44FA9B0B5CDC50C5F641/rjw3d9udk1.png\">"
      ],
      "text/plain": [
       "<Figure size 432x288 with 1 Axes>"
      ]
     },
     "metadata": {},
     "output_type": "display_data"
    }
   ],
   "source": [
    "x = np.linspace(-2,2,400)     # 取-2到2间的400个点\n",
    "y = x**3+2                    # 通过非线性关系来获得y的取值   \n",
    "plt.plot(x,y,color = 'black')\n",
    "\n",
    "n = 100000                         # 随机点的数量\n",
    "uniform_x = uniform(-2 , 4).rvs(n) # 从-2到2之间随机取100000个点\n",
    "uniform_y = uniform(-8, 16).rvs(n) # 从-8到8之间随机取100000个点\n",
    "plt.plot(x,y)\n",
    "plt.gca().axes.set_ylim(-8, 8)     # 将x轴限定在-8到8\n",
    "plt.gca().axes.set_xlim(-2, 2)     # 将y轴限定在-2到2"
   ]
  },
  {
   "cell_type": "code",
   "execution_count": 7,
   "metadata": {
    "collapsed": false,
    "id": "E03A455616F04643980B2758622F8BA1",
    "jupyter": {
     "outputs_hidden": false
    },
    "notebookId": "637b54727b4e5f9b3d48842e",
    "slideshow": {
     "slide_type": "slide"
    },
    "tags": []
   },
   "outputs": [
    {
     "name": "stdout",
     "output_type": "stream",
     "text": [
      "图形下半部分面积为39.81824\n"
     ]
    },
    {
     "data": {
      "text/html": [
       "<img src=\"https://cdn.kesci.com/upload/rt/E03A455616F04643980B2758622F8BA1/rjw3fy4jx3.png\">"
      ],
      "text/plain": [
       "<Figure size 432x288 with 1 Axes>"
      ]
     },
     "metadata": {},
     "output_type": "display_data"
    }
   ],
   "source": [
    "count = 0     # 落在目标区域的点的数量\n",
    "target_x = [] # 落在目标区域的点的x值\n",
    "target_y = [] # 落在目标区域的点的y值\n",
    "\n",
    "for i in range(n):# 对每一个点做一次判断\n",
    "    if  uniform_y[i] <= uniform_x[i]**3+2:  # 击中点的特征，y<= x^3 +2\n",
    "        count += 1                          # 击中点的数量+1\n",
    "        target_x.append(uniform_x[i])       # 将击中点的x值加入到击中点x值的集合中\n",
    "        target_y.append(uniform_y[i])       # 将击中点的y值加入到击中点y值的集合中\n",
    "\n",
    "plt.scatter(uniform_x, uniform_y) # 绘制全部的点的图\n",
    "plt.scatter(target_x,target_y)   # 绘制目标点的图\n",
    "plt.gca().axes.set_ylim(-8, 8)\n",
    "\n",
    "s = (count/n)*(4*16) #计算不规则图形面积\n",
    "print(f\"图形下半部分面积为{s}\")"
   ]
  },
  {
   "cell_type": "markdown",
   "metadata": {
    "id": "E562BC306A884D35AB664E6D6EFA4C81",
    "jupyter": {},
    "notebookId": "637b54727b4e5f9b3d48842e",
    "slideshow": {
     "slide_type": "slide"
    },
    "tags": []
   },
   "source": [
    "可以将蒙特卡洛理解为一种模拟事件发生的方法。"
   ]
  },
  {
   "cell_type": "markdown",
   "metadata": {
    "id": "48DA3F27FD024F2A8C68A3C6B5D7DABE",
    "jupyter": {},
    "notebookId": "637b54727b4e5f9b3d48842e",
    "slideshow": {
     "slide_type": "slide"
    },
    "tags": []
   },
   "source": [
    "使用蒙特卡洛方法进行采样时，常见做法是：接受-拒绝采样。\n",
    "\n",
    "为了求解一个不常见的分布$p(x)$，先构造一个常见的分布$q(x)$进行采样，然后按照一定的方法拒绝某些样本，以达到接近 $p(x)$ 分布的目的，其中$q(x)$叫做 proposal distribution(建议分布)。"
   ]
  },
  {
   "cell_type": "markdown",
   "metadata": {
    "id": "8FF6A03E0F8440ED92E5A18EBFDE22F3",
    "jupyter": {},
    "notebookId": "637b54727b4e5f9b3d48842e",
    "slideshow": {
     "slide_type": "slide"
    },
    "tags": []
   },
   "source": [
    "假定我们有一个不常见的概率分布$p(x)$，已知该分布的先验为均匀分布，似然函数已知，想要计算该参数的后验分布"
   ]
  },
  {
   "cell_type": "code",
   "execution_count": 18,
   "metadata": {
    "collapsed": false,
    "id": "DFCBC37AD4E040799EBD508C8675C91C",
    "jupyter": {
     "outputs_hidden": false
    },
    "notebookId": "637b54727b4e5f9b3d48842e",
    "slideshow": {
     "slide_type": "slide"
    },
    "tags": []
   },
   "outputs": [
    {
     "data": {
      "text/plain": [
       "[<matplotlib.lines.Line2D at 0x7f7482b26410>]"
      ]
     },
     "execution_count": 18,
     "metadata": {},
     "output_type": "execute_result"
    },
    {
     "data": {
      "text/html": [
       "<img src=\"https://cdn.kesci.com/upload/rt/DFCBC37AD4E040799EBD508C8675C91C/rjw4put83a.png\">"
      ],
      "text/plain": [
       "<Figure size 432x288 with 1 Axes>"
      ]
     },
     "metadata": {},
     "output_type": "display_data"
    }
   ],
   "source": [
    "x = np.arange(-4, 6, 0.01) # 生成从-4到6的数列\n",
    "\n",
    "# 定义一个不常见的分布\n",
    "def p_func(x):\n",
    "    res = (0.3 * np.exp(-(x - 0.3) ** 2) + 0.7 * np.exp(-(x - 2) ** 2 / 0.3)) /1.21\n",
    "    return res\n",
    "\n",
    "plt.plot(x, p_func(x), color = 'r', lw = 5, label = 'p_func(x)') #画分布的形态"
   ]
  },
  {
   "cell_type": "code",
   "execution_count": 10,
   "metadata": {
    "collapsed": false,
    "id": "EC88CA6AE3DF4DF68CB1A2443C765C23",
    "jupyter": {
     "outputs_hidden": false
    },
    "notebookId": "637b54727b4e5f9b3d48842e",
    "slideshow": {
     "slide_type": "slide"
    },
    "tags": []
   },
   "outputs": [],
   "source": [
    "norm_rv = norm(loc = 1.4, scale = 1.2) # 建议分布\n",
    "c = 3 # 使建议分布的每个值大于目标分布的参数"
   ]
  },
  {
   "cell_type": "code",
   "execution_count": 12,
   "metadata": {
    "collapsed": false,
    "id": "C0A4183FD98A46DC8E13E8B15CB346A1",
    "jupyter": {
     "outputs_hidden": false
    },
    "notebookId": "637b54727b4e5f9b3d48842e",
    "slideshow": {
     "slide_type": "slide"
    },
    "tags": []
   },
   "outputs": [
    {
     "data": {
      "text/plain": [
       "[<matplotlib.lines.Line2D at 0x26b1a648ac0>]"
      ]
     },
     "execution_count": 12,
     "metadata": {},
     "output_type": "execute_result"
    },
    {
     "data": {
      "image/png": "[encoded data removed]",
      "text/plain": [
       "<Figure size 432x288 with 1 Axes>"
      ]
     },
     "metadata": {},
     "output_type": "display_data"
    }
   ],
   "source": [
    "x = np.arange(-4, 6, 0.01)\n",
    "plt.plot(x, c*norm_rv.pdf(x), color = 'b', lw = 5, label = 'c*g(x)')"
   ]
  },
  {
   "cell_type": "code",
   "execution_count": 19,
   "metadata": {
    "collapsed": false,
    "id": "2ECA7B4FFF814FB0A66A343AA750A83A",
    "jupyter": {
     "outputs_hidden": false
    },
    "notebookId": "637b54727b4e5f9b3d48842e",
    "slideshow": {
     "slide_type": "slide"
    },
    "tags": []
   },
   "outputs": [
    {
     "data": {
      "text/plain": [
       "<matplotlib.lines.Line2D at 0x7f7482adcb50>"
      ]
     },
     "execution_count": 19,
     "metadata": {},
     "output_type": "execute_result"
    },
    {
     "data": {
      "text/html": [
       "<img src=\"https://cdn.kesci.com/upload/rt/2ECA7B4FFF814FB0A66A343AA750A83A/rjw4qcw2w1.png\">"
      ],
      "text/plain": [
       "<Figure size 432x288 with 1 Axes>"
      ]
     },
     "metadata": {},
     "output_type": "display_data"
    }
   ],
   "source": [
    "x = np.arange(-4, 6, 0.01)\n",
    "plt.plot(x, p_func(x), color = 'r', lw = 5, label = 'p(x)')\n",
    "plt.plot(x, c*norm_rv.pdf(x), color = 'b', lw = 5, label = 'c*g(x)')\n",
    "plt.gca().axes.set_ylim(0, 1)\n",
    "plt.axvline(x=0, ymin = 0, ymax=0.4,color='grey')"
   ]
  },
  {
   "cell_type": "markdown",
   "metadata": {
    "id": "C834381B61DB44F39FC5DDDF0FA9BA03",
    "jupyter": {},
    "notebookId": "637b54727b4e5f9b3d48842e",
    "slideshow": {
     "slide_type": "slide"
    },
    "tags": []
   },
   "source": [
    "蒙特卡洛的步骤：\n",
    "\n",
    "* Step 1: sample from $Q$,  get a $Y$;\n",
    "\n",
    "* Step 2: sample from $uniform(0,1)$, get a $U$; \n",
    "\n",
    "* Step 3: if $\\frac{p(Y)}{ C q(Y)} \\ge U$ , accept; else refuse."
   ]
  },
  {
   "cell_type": "code",
   "execution_count": 13,
   "metadata": {
    "collapsed": false,
    "id": "6ECFAE6FD84640BF8BAAD670ED7CE28B",
    "jupyter": {
     "outputs_hidden": false
    },
    "notebookId": "637b54727b4e5f9b3d48842e",
    "slideshow": {
     "slide_type": "slide"
    },
    "tags": []
   },
   "outputs": [],
   "source": [
    "uniform_rv = uniform(loc= 0, scale = 1)  # 定义从均匀分布中进行取值的函数"
   ]
  },
  {
   "cell_type": "code",
   "execution_count": 14,
   "metadata": {
    "collapsed": false,
    "id": "D5498E6F66EB482C8B3760417750E33B",
    "jupyter": {
     "outputs_hidden": false
    },
    "notebookId": "637b54727b4e5f9b3d48842e",
    "slideshow": {
     "slide_type": "slide"
    },
    "tags": []
   },
   "outputs": [],
   "source": [
    "sample = []\n",
    "for i in range(100000):\n",
    "# step 1 从平均值为0，标准差为1的正态分布中采样一个值，记为Y\n",
    "    Y = norm_rv.rvs(1)[0]\n",
    "# step 2 从0到1的均匀分布中采样一个值，记为U\n",
    "    U = uniform_rv.rvs(1)[0]\n",
    "# step 3 如果$\\frac{p(Y)}{ C g(Y)} \\ge U$，则接受，否则拒绝\n",
    "    if p_func(Y) >= U * c * norm_rv.pdf(Y):\n",
    "        sample.append(Y)    "
   ]
  },
  {
   "cell_type": "code",
   "execution_count": 25,
   "metadata": {
    "collapsed": false,
    "id": "D3CE51823B1F4B9C8F9C515C362E0FE9",
    "jupyter": {
     "outputs_hidden": false
    },
    "notebookId": "637b54727b4e5f9b3d48842e",
    "scrolled": true,
    "slideshow": {
     "slide_type": "slide"
    },
    "tags": []
   },
   "outputs": [
    {
     "data": {
      "text/plain": [
       "1.207452233772809"
      ]
     },
     "execution_count": 25,
     "metadata": {},
     "output_type": "execute_result"
    }
   ],
   "source": [
    "Y0 = norm_rv.rvs(1)[0]\n",
    "Y0"
   ]
  },
  {
   "cell_type": "code",
   "execution_count": 26,
   "metadata": {
    "collapsed": false,
    "id": "4D4FA44E78ED4EC8960D0F0B1826633A",
    "jupyter": {
     "outputs_hidden": false
    },
    "notebookId": "637b54727b4e5f9b3d48842e",
    "slideshow": {
     "slide_type": "slide"
    },
    "tags": []
   },
   "outputs": [
    {
     "data": {
      "text/plain": [
       "0.654980833436986"
      ]
     },
     "execution_count": 26,
     "metadata": {},
     "output_type": "execute_result"
    }
   ],
   "source": [
    "U0 = uniform_rv.rvs(1)[0]\n",
    "U0"
   ]
  },
  {
   "cell_type": "code",
   "execution_count": 27,
   "metadata": {
    "collapsed": false,
    "id": "ED5285D4335F44FD8912595C36742E15",
    "jupyter": {
     "outputs_hidden": false
    },
    "notebookId": "637b54727b4e5f9b3d48842e",
    "slideshow": {
     "slide_type": "slide"
    },
    "tags": []
   },
   "outputs": [
    {
     "data": {
      "text/plain": [
       "0.18010477905552771"
      ]
     },
     "execution_count": 27,
     "metadata": {},
     "output_type": "execute_result"
    }
   ],
   "source": [
    "p_func(Y0)"
   ]
  },
  {
   "cell_type": "code",
   "execution_count": 28,
   "metadata": {
    "collapsed": false,
    "id": "8583AC4ACB72406C80CE285D2F0BE015",
    "jupyter": {
     "outputs_hidden": false
    },
    "notebookId": "637b54727b4e5f9b3d48842e",
    "slideshow": {
     "slide_type": "slide"
    },
    "tags": []
   },
   "outputs": [
    {
     "data": {
      "text/plain": [
       "0.9845988880399426"
      ]
     },
     "execution_count": 28,
     "metadata": {},
     "output_type": "execute_result"
    }
   ],
   "source": [
    "c * norm_rv.pdf(Y0)"
   ]
  },
  {
   "cell_type": "code",
   "execution_count": 29,
   "metadata": {
    "collapsed": false,
    "id": "382CB2C6A15145609254C912592D3F10",
    "jupyter": {
     "outputs_hidden": false
    },
    "notebookId": "637b54727b4e5f9b3d48842e",
    "scrolled": true,
    "slideshow": {
     "slide_type": "slide"
    },
    "tags": []
   },
   "outputs": [
    {
     "data": {
      "text/plain": [
       "0.6448934002895312"
      ]
     },
     "execution_count": 29,
     "metadata": {},
     "output_type": "execute_result"
    }
   ],
   "source": [
    "U0 * c * norm_rv.pdf(Y0)"
   ]
  },
  {
   "cell_type": "code",
   "execution_count": 30,
   "metadata": {
    "collapsed": false,
    "id": "5D776B8012EA4C80963BF660E81659FD",
    "jupyter": {
     "outputs_hidden": false
    },
    "notebookId": "637b54727b4e5f9b3d48842e",
    "slideshow": {
     "slide_type": "slide"
    },
    "tags": []
   },
   "outputs": [
    {
     "data": {
      "text/plain": [
       "False"
      ]
     },
     "execution_count": 30,
     "metadata": {},
     "output_type": "execute_result"
    }
   ],
   "source": [
    "p_func(Y0) >= U0 * c * norm_rv.pdf(Y0)"
   ]
  },
  {
   "cell_type": "code",
   "execution_count": 15,
   "metadata": {
    "collapsed": false,
    "id": "5F97F1306B5641A8AE4ECBB875F8B7CC",
    "jupyter": {
     "outputs_hidden": false
    },
    "notebookId": "637b54727b4e5f9b3d48842e",
    "slideshow": {
     "slide_type": "slide"
    },
    "tags": []
   },
   "outputs": [
    {
     "data": {
      "image/png": "[encoded data removed]",
      "text/plain": [
       "<Figure size 432x288 with 1 Axes>"
      ]
     },
     "metadata": {},
     "output_type": "display_data"
    }
   ],
   "source": [
    "x = np.arange(-3, 5, 0.01) # \n",
    "\n",
    "plt.gca().axes.set_xlim(-3, 5)\n",
    "\n",
    "plt.plot(x, p(x), color = 'r')\n",
    "\n",
    "plt.hist(sample, color = 'b', bins = 150, density = True, edgecolor = 'k')\n",
    "\n",
    "plt.show()"
   ]
  },
  {
   "cell_type": "markdown",
   "metadata": {
    "id": "45B9F4373D8747488CAAB72D60C8531D",
    "jupyter": {},
    "notebookId": "637b54727b4e5f9b3d48842e",
    "slideshow": {
     "slide_type": "slide"
    },
    "tags": []
   },
   "source": [
    "使用接受-拒绝采样，我们可以解决一些概率分布不是常见的分布的时候，得到其采样集并用蒙特卡罗方法求和的目的。但是接受-拒绝采样也只能部分满足我们的需求，在很多时候我们还是很难得到我们的概率分布的样本集。比如：\n",
    "\n",
    "- 对于一些二维分布p(x,y)，有时候我们只能得到条件分布p(x|y)和p(y|x)和,却很难得到二维分布p(x,y)一般形式，这时我们无法用接受-拒绝采样得到其样本集。\n",
    "\n",
    "- 对于一些高维的复杂非常见分布p(x1,x2,...,xn)，我们要找到一个合适的q(x)和c非常困难。"
   ]
  },
  {
   "cell_type": "markdown",
   "metadata": {
    "id": "5142B914B2174B9A8873EF3D109B3AA9",
    "jupyter": {},
    "notebookId": "637b54727b4e5f9b3d48842e",
    "slideshow": {
     "slide_type": "slide"
    },
    "tags": []
   },
   "source": [
    "\n",
    "从上面可以看出，要想将蒙特卡罗方法作为一个通用的采样模拟求和的方法，必须解决如何方便得到各种复杂概率分布的对应的采样样本集的问题。这就需要用到马尔科夫链。"
   ]
  },
  {
   "cell_type": "markdown",
   "metadata": {
    "id": "0CAAB8541B5642558BB3848842B62B03",
    "jupyter": {},
    "notebookId": "637b54727b4e5f9b3d48842e",
    "slideshow": {
     "slide_type": "slide"
    },
    "tags": []
   },
   "source": [
    "#### 马尔科夫链"
   ]
  },
  {
   "cell_type": "markdown",
   "metadata": {
    "id": "099613496A9A4E029D29D68921B458C2",
    "jupyter": {},
    "notebookId": "637b54727b4e5f9b3d48842e",
    "slideshow": {
     "slide_type": "slide"
    },
    "tags": []
   },
   "source": [
    "马尔科夫链假设某一时刻状态转移的概率只依赖于它的前一个状态。\n",
    "\n",
    "$P(X_{t+1}|...X_{t−2},X_{t−1},X_{t})=P(X_{t+1}|X_{t})$\n",
    "\n",
    "即，某一时间点的状态$x_n$在其下一个状态$x_{n+1}$的概率，仅仅取决于现在它所处的状态，而与它如何达到现在的状态无关。\n",
    "\n",
    "换句话说，该随机过程没有记忆。"
   ]
  },
  {
   "cell_type": "markdown",
   "metadata": {
    "id": "E4F55F31553146819FCFAA00F67012AF",
    "jupyter": {},
    "notebookId": "637b54727b4e5f9b3d48842e",
    "slideshow": {
     "slide_type": "slide"
    },
    "tags": []
   },
   "source": [
    "考虑以下这样的情况，我们在抛地球仪时，手指会指向陆地或者海洋，每一次抛掷就是一次状态转移。\n",
    "\n",
    "状态转移的情况有以下四种：\n",
    "\n",
    "- 陆地 -> 陆地\n",
    "- 陆地 -> 海洋\n",
    "- 海洋 -> 陆地\n",
    "- 海洋 -> 海洋"
   ]
  },
  {
   "cell_type": "markdown",
   "metadata": {
    "id": "8EF534B9767144C39AB4DE02A72D6403",
    "jupyter": {},
    "notebookId": "637b54727b4e5f9b3d48842e",
    "slideshow": {
     "slide_type": "slide"
    },
    "tags": []
   },
   "source": [
    "状态转移矩阵为\n",
    "\n",
    "$\\begin{bmatrix}\n",
    "     &  陆地 & 海洋\\\\\n",
    "陆地& 0.75 & 0.25\\\\\n",
    "海洋 & 0.1 & 0.9\\\\ \n",
    "\\end{bmatrix}$"
   ]
  },
  {
   "cell_type": "code",
   "execution_count": 22,
   "metadata": {
    "collapsed": false,
    "id": "E933136C3FBC4969843F168DF16089FA",
    "jupyter": {
     "outputs_hidden": false
    },
    "notebookId": "637b54727b4e5f9b3d48842e",
    "slideshow": {
     "slide_type": "slide"
    },
    "tags": []
   },
   "outputs": [
    {
     "name": "stdout",
     "output_type": "stream",
     "text": [
      "[0.1 0.9]\n"
     ]
    }
   ],
   "source": [
    "A = np.array([[0.75,0.25],\n",
    "             [0.1,0.9]]) # 定义一个矩阵\n",
    "print(np.dot([0, 1], A))  # 矩阵乘法"
   ]
  },
  {
   "cell_type": "markdown",
   "metadata": {
    "id": "291C43A63EA24659AFA30B76EAC64F23",
    "jupyter": {},
    "notebookId": "637b54727b4e5f9b3d48842e",
    "slideshow": {
     "slide_type": "slide"
    },
    "tags": []
   },
   "source": [
    "无论初始状态如何，在经过n次状态转移过后，它处于某一个状态的概率是平稳分布的。"
   ]
  },
  {
   "cell_type": "code",
   "execution_count": 25,
   "metadata": {
    "collapsed": false,
    "id": "149C47749E6F459182DFBFA0E016DF28",
    "jupyter": {
     "outputs_hidden": false
    },
    "notebookId": "637b54727b4e5f9b3d48842e",
    "slideshow": {
     "slide_type": "slide"
    },
    "tags": []
   },
   "outputs": [],
   "source": [
    "#\n",
    "def get_matrix_pow(init, matrix, n):\n",
    "    '''\n",
    "    init:   初始状态\n",
    "    matrix: 状态转移矩阵\n",
    "    n:      状态转移次数\n",
    "    '''\n",
    "    if init[0]+init[1]==1:  # 确保初始状态概率之和为1\n",
    "\n",
    "        ret = init\n",
    "\n",
    "        rets=[]\n",
    "        rets= np.array(ret)\n",
    "        \n",
    "        for i in range(n):# n次状态转移过程\n",
    "            ret = np.dot(ret, matrix)# 矩阵乘法\n",
    "            rets=np.row_stack((rets,ret))# 结果合并\n",
    "        plt.plot(range(n+1),rets[:,0],color='blue',label='land') # 每一次状态转移，处于陆地的概率\n",
    "        plt.plot(range(n+1),rets[:,1],color='red',label='sea')   # 每一次状态转移，处于海洋的概率\n",
    "        plt.legend()\n",
    "        plt.show()\n",
    "        return ret\n",
    "    else:\n",
    "        raise ValueError(\"please make sure the sum of input equal to 1, and dim of it is 2\")"
   ]
  },
  {
   "cell_type": "code",
   "execution_count": 27,
   "metadata": {
    "collapsed": false,
    "id": "CC7B822620434DFE907D0D2304DB4575",
    "jupyter": {
     "outputs_hidden": false
    },
    "notebookId": "637b54727b4e5f9b3d48842e",
    "slideshow": {
     "slide_type": "slide"
    },
    "tags": []
   },
   "outputs": [
    {
     "data": {
      "image/png": "[encoded data removed]",
      "text/plain": [
       "<Figure size 432x288 with 1 Axes>"
      ]
     },
     "metadata": {},
     "output_type": "display_data"
    },
    {
     "data": {
      "text/plain": [
       "array([0.28582562, 0.71417438])"
      ]
     },
     "execution_count": 27,
     "metadata": {},
     "output_type": "execute_result"
    }
   ],
   "source": [
    "get_matrix_pow([0.9, 0.1], A, n=20)"
   ]
  },
  {
   "cell_type": "code",
   "execution_count": 17,
   "metadata": {
    "collapsed": false,
    "id": "D8D420086F914A7AA74AC2CD9BCFA674",
    "jupyter": {
     "outputs_hidden": false
    },
    "notebookId": "637b54727b4e5f9b3d48842e",
    "slideshow": {
     "slide_type": "slide"
    },
    "tags": []
   },
   "outputs": [
    {
     "data": {
      "text/html": [
       "<img src=\"https://cdn.kesci.com/upload/rt/D8D420086F914A7AA74AC2CD9BCFA674/rjvlmhpqbq.png\">"
      ],
      "text/plain": [
       "<Figure size 432x288 with 1 Axes>"
      ]
     },
     "metadata": {},
     "output_type": "display_data"
    },
    {
     "data": {
      "text/plain": [
       "array([0.28568063, 0.71431937])"
      ]
     },
     "execution_count": 17,
     "metadata": {},
     "output_type": "execute_result"
    }
   ],
   "source": [
    "get_matrix_pow([0.1,0.9],A,n = 20)"
   ]
  },
  {
   "cell_type": "markdown",
   "metadata": {
    "id": "7572341CBFA144238A5888ACE1B05223",
    "jupyter": {},
    "notebookId": "637b54727b4e5f9b3d48842e",
    "slideshow": {
     "slide_type": "slide"
    },
    "tags": []
   },
   "source": [
    "我们可以观察到无论初始状态如何，只要状态转移一直持续下去，处在每个状态的概率会服从一个平稳分布。\n"
   ]
  },
  {
   "cell_type": "markdown",
   "metadata": {
    "id": "0BE10B52F6D643BF89AAE66620E3CFDD",
    "jupyter": {},
    "notebookId": "637b54727b4e5f9b3d48842e",
    "slideshow": {
     "slide_type": "slide"
    },
    "tags": []
   },
   "source": [
    "假定我们可以得到我们需要采样样本的平稳分布所对应的马尔科夫链状态转移矩阵，那么我们就可以用马尔科夫链采样得到我们需要的样本集，进而进行蒙特卡罗模拟。\n",
    "\n",
    "但是我们该如何得到马尔可夫链的状态转移矩阵呢？这就需要MCMC。"
   ]
  },
  {
   "cell_type": "markdown",
   "metadata": {
    "id": "0104DD102DE94C0EA60835BC596164DF",
    "jupyter": {},
    "notebookId": "637b54727b4e5f9b3d48842e",
    "slideshow": {
     "slide_type": "slide"
    },
    "tags": []
   },
   "source": [
    "#### MCMC"
   ]
  },
  {
   "cell_type": "markdown",
   "metadata": {
    "id": "57B6F8167F354C2B818229E78583560F",
    "jupyter": {},
    "notebookId": "637b54727b4e5f9b3d48842e",
    "slideshow": {
     "slide_type": "slide"
    },
    "tags": []
   },
   "source": [
    "MCMC，即马尔可夫蒙特卡洛方法，是一组利用马尔可夫链从随机分布中取样的算法。生成的马尔科夫链就是对于目标分布的近似估计。"
   ]
  },
  {
   "cell_type": "markdown",
   "metadata": {
    "id": "1F88D894CF8F462A8ABDD0DED1DEE7A5",
    "jupyter": {},
    "notebookId": "637b54727b4e5f9b3d48842e",
    "slideshow": {
     "slide_type": "slide"
    },
    "tags": []
   },
   "source": [
    "##### MCMC采样算法如下：\n",
    "\n",
    "1. 输入任意给定的马尔科夫链状态转移矩阵Q，目标平稳分布$\\pi(x)$  ，设定状态转移次数阈值 $n_1$ ，需要的样本数 $n_2$ ;\n",
    "\n",
    "2. 从任意简单概率分布得到初始状态值 $x_0$ ；\n",
    "\n",
    "3. for t = 0 in n1 + n2 - 1 \n",
    "\n",
    "- 从条件概率分布$Q(x|x_t)$得到样本值$x_*$\n",
    "\n",
    "- 从均匀分布中采样 $U \\sim [0,1]$\n",
    "\n",
    "- 如果 $u<\\alpha(x_t,x_*)=\\pi(x_*)Q(x_*,x_t)$,则接受$x_t -> x_*$, 即$x_{t+1}=x_*$ \n",
    "\n",
    "- 否则不接受转移，$t =max{t-1,0}$"
   ]
  },
  {
   "cell_type": "markdown",
   "metadata": {
    "id": "202F488A7B8E4B25B96C56499D14D797",
    "jupyter": {},
    "notebookId": "637b54727b4e5f9b3d48842e",
    "slideshow": {
     "slide_type": "slide"
    },
    "tags": []
   },
   "source": [
    "但是这个采样算法还是比较难在实际中应用，因为在第三步中，由于 $\\alpha(x_t,x_*)$ 可能非常的小，比如0.1，导致我们大部分的采样值都被拒绝转移，采样效率很低。\n",
    "\n",
    "有可能我们采样了上百万次马尔可夫链还没有收敛，也就是上面这个 $n_1$ 要非常非常的大，这让人难以接受，怎么办呢？这时就轮到我们的M-H采样出场了。"
   ]
  },
  {
   "cell_type": "code",
   "execution_count": 18,
   "metadata": {
    "collapsed": false,
    "id": "8B4C8EF2408546AB8BFE1C536CA41745",
    "jupyter": {
     "outputs_hidden": false
    },
    "notebookId": "637b54727b4e5f9b3d48842e",
    "slideshow": {
     "slide_type": "slide"
    },
    "tags": []
   },
   "outputs": [],
   "source": [
    "def norm_dist_prob(theta,loc=3,scale=2): #定义目标分布\n",
    "    y = norm.pdf(theta, loc=3, scale=2)\n",
    "    return y\n",
    "\n",
    "T = 5000 #采样次数5000\n",
    "pi = [0 for i in range(T)] #用来存储采样点的数组\n",
    "sigma = 1 #标准差\n",
    "t = 0 #当前采样次数\n",
    "while t < T-1:\n",
    "    t = t + 1\n",
    "    pi_star = norm.rvs(loc=pi[t - 1], scale=sigma, size=1, random_state=None)   #状态转移进行随机抽样\n",
    "    alpha = (norm_dist_prob(pi_star[0])*norm_dist_prob(pi_star[0],loc = pi[t - 1]))   #alpha值\n",
    "\n",
    "    u = np.random.uniform(0, 1)\n",
    "    if u < alpha:\n",
    "        pi[t] = pi_star[0]\n",
    "    else:\n",
    "        pi[t] = pi[t - 1]"
   ]
  },
  {
   "cell_type": "code",
   "execution_count": 19,
   "metadata": {
    "collapsed": false,
    "id": "58108FB8DEEF4EF682AB458172D60435",
    "jupyter": {
     "outputs_hidden": false
    },
    "notebookId": "637b54727b4e5f9b3d48842e",
    "slideshow": {
     "slide_type": "slide"
    },
    "tags": []
   },
   "outputs": [
    {
     "data": {
      "text/html": [
       "<img src=\"https://cdn.kesci.com/upload/rt/58108FB8DEEF4EF682AB458172D60435/rjvm8kd43g.png\">"
      ],
      "text/plain": [
       "<Figure size 432x288 with 1 Axes>"
      ]
     },
     "metadata": {},
     "output_type": "display_data"
    }
   ],
   "source": [
    "plt.plot(range(5000),pi)\n",
    "plt.show()"
   ]
  },
  {
   "cell_type": "code",
   "execution_count": 20,
   "metadata": {
    "collapsed": false,
    "id": "0A1AC6E139D54545860211A1724DAA51",
    "jupyter": {
     "outputs_hidden": false
    },
    "notebookId": "637b54727b4e5f9b3d48842e",
    "slideshow": {
     "slide_type": "slide"
    },
    "tags": []
   },
   "outputs": [
    {
     "data": {
      "text/html": [
       "<img src=\"https://cdn.kesci.com/upload/rt/0A1AC6E139D54545860211A1724DAA51/rjvm8xpoze.png\">"
      ],
      "text/plain": [
       "<Figure size 432x288 with 1 Axes>"
      ]
     },
     "metadata": {},
     "output_type": "display_data"
    }
   ],
   "source": [
    "plt.scatter(pi, norm.pdf(pi, loc=3, scale=2),label='Target Distribution')\n",
    "num_bins = 50\n",
    "plt.hist(pi, num_bins, density = True, facecolor='red', alpha=0.7,label='Samples Distribution')\n",
    "plt.legend()\n",
    "plt.show()"
   ]
  },
  {
   "cell_type": "markdown",
   "metadata": {
    "id": "5DFE2CC22D2042F29F949CB0AA039633",
    "jupyter": {},
    "notebookId": "637b54727b4e5f9b3d48842e",
    "slideshow": {
     "slide_type": "slide"
    },
    "tags": []
   },
   "source": [
    "##### M-H采样算法\n",
    "\n",
    "M-H采样是Metropolis-Hastings采样的简称，这个算法首先由Metropolis提出，被Hastings改进，因此被称之为Metropolis-Hastings采样或M-H采样。"
   ]
  },
  {
   "cell_type": "markdown",
   "metadata": {
    "id": "A428A4F8FAA84E9F8D0F29B322962032",
    "jupyter": {},
    "notebookId": "637b54727b4e5f9b3d48842e",
    "slideshow": {
     "slide_type": "slide"
    },
    "tags": []
   },
   "source": [
    "M-H采样解决了我们上一节MCMC采样接受率过低的问题。\n",
    "\n",
    "我们可以取$\\alpha(i,j)=min(\\frac{\\pi(j)Q(j,i)}{\\pi(i)Q(i,j)},1 )$ "
   ]
  },
  {
   "cell_type": "markdown",
   "metadata": {
    "id": "CB179A17562D43FD900B92BB6942A754",
    "jupyter": {},
    "notebookId": "637b54727b4e5f9b3d48842e",
    "slideshow": {
     "slide_type": "slide"
    },
    "tags": []
   },
   "source": [
    "M-H 采样算法如下：\n",
    "\n",
    "1. 输入任意给定的马尔科夫链状态转移矩阵Q，目标平稳分布$\\pi(x)$  ，设定状态转移次数阈值 $n_1$ ，需要的样本数 $n_2$ ;\n",
    "\n",
    "2. 从任意简单概率分布得到初始状态值 $x_0$ ；\n",
    "\n",
    "3. for t = 0 in n1 + n2 - 1 \n",
    "\n",
    "- 从条件概率分布$Q(x|x_t)$得到样本值$x_*$\n",
    "\n",
    "- 从均匀分布中采样 $U \\sim [0,1]$\n",
    "\n",
    "- 如果 $u<\\alpha(x_t,x_*)=min(\\frac{\\pi(j)Q(j,i)}{\\pi(i)Q(i,j)},1 )$,则接受$x_t -> x_*$, 即$x_{t+1}=x_*$ \n",
    "\n",
    "- 否则不接受转移，t=max{t-1,0}\n"
   ]
  },
  {
   "cell_type": "code",
   "execution_count": 21,
   "metadata": {
    "collapsed": false,
    "id": "55AC3ABDD3B1412899F81583F6B585C8",
    "jupyter": {
     "outputs_hidden": false
    },
    "notebookId": "637b54727b4e5f9b3d48842e",
    "slideshow": {
     "slide_type": "slide"
    },
    "tags": []
   },
   "outputs": [],
   "source": [
    "def norm_dist_prob(theta):#定义目标分布\n",
    "    y = norm.pdf(theta, loc=3, scale=2)\n",
    "    return y\n",
    "\n",
    "T = 5000 #采样次数5000\n",
    "pi = [0 for i in range(T)] #用来存储采样点的数组\n",
    "sigma = 1 #标准差\n",
    "t = 0 #当前采样次数\n",
    "while t < T-1:\n",
    "    t = t + 1\n",
    "    pi_star = norm.rvs(loc=pi[t - 1], scale=sigma, size=1, random_state=None)   #状态转移进行随机抽样\n",
    "    alpha = min(1, (norm_dist_prob(pi_star[0]) / norm_dist_prob(pi[t - 1])))   #alpha值\n",
    "\n",
    "    u = np.random.uniform(0, 1)\n",
    "    if u < alpha:\n",
    "        pi[t] = pi_star[0]\n",
    "    else:\n",
    "        pi[t] = pi[t - 1]\n",
    "\n"
   ]
  },
  {
   "cell_type": "code",
   "execution_count": 22,
   "metadata": {
    "collapsed": false,
    "id": "D7A4B9C8106044C68ABD158C33938C60",
    "jupyter": {
     "outputs_hidden": false
    },
    "notebookId": "637b54727b4e5f9b3d48842e",
    "slideshow": {
     "slide_type": "slide"
    },
    "tags": []
   },
   "outputs": [
    {
     "data": {
      "text/html": [
       "<img src=\"https://cdn.kesci.com/upload/rt/D7A4B9C8106044C68ABD158C33938C60/rjvmafnf13.png\">"
      ],
      "text/plain": [
       "<Figure size 432x288 with 1 Axes>"
      ]
     },
     "metadata": {},
     "output_type": "display_data"
    }
   ],
   "source": [
    "plt.plot(range(5000),pi)\n",
    "plt.show()"
   ]
  },
  {
   "cell_type": "code",
   "execution_count": 23,
   "metadata": {
    "collapsed": false,
    "id": "6BA870C2EE6A4698ACD5C3FDA6CFC995",
    "jupyter": {
     "outputs_hidden": false
    },
    "notebookId": "637b54727b4e5f9b3d48842e",
    "slideshow": {
     "slide_type": "slide"
    },
    "tags": []
   },
   "outputs": [
    {
     "data": {
      "text/html": [
       "<img src=\"https://cdn.kesci.com/upload/rt/6BA870C2EE6A4698ACD5C3FDA6CFC995/rjvmasrq7s.png\">"
      ],
      "text/plain": [
       "<Figure size 432x288 with 1 Axes>"
      ]
     },
     "metadata": {},
     "output_type": "display_data"
    }
   ],
   "source": [
    "plt.scatter(pi, norm.pdf(pi, loc=3, scale=2),label='Target Distribution')\n",
    "num_bins = 50\n",
    "plt.hist(pi, num_bins, density = True, facecolor='red', alpha=0.7,label='Samples Distribution')\n",
    "plt.legend()\n",
    "plt.show()"
   ]
  },
  {
   "cell_type": "markdown",
   "metadata": {
    "id": "AF90D6038AB04E7AB763AB1B748CA7D3",
    "jupyter": {},
    "notebookId": "637b54727b4e5f9b3d48842e",
    "slideshow": {
     "slide_type": "slide"
    },
    "tags": []
   },
   "source": [
    "## Part 2: MCMC原理"
   ]
  },
  {
   "cell_type": "markdown",
   "metadata": {
    "id": "0825E217238B45419A914D24078342FC",
    "jupyter": {},
    "notebookId": "637b54727b4e5f9b3d48842e",
    "slideshow": {
     "slide_type": "slide"
    },
    "tags": []
   },
   "source": [
    "使用MCMC的原因：\n",
    "- 由于贝叶斯公式分母难以计算\n",
    "- 由于参数过多后验分布形态复杂\n",
    "\n",
    "在本节课中，我们首先回顾如何计算后验，以及计算后验面临的问题；\n",
    "\n",
    "之后，我们介绍如何通过采样的方法解决现有的问题。"
   ]
  },
  {
   "cell_type": "markdown",
   "metadata": {
    "id": "C603A4EC7EA740268D657964C05A05E5",
    "jupyter": {},
    "notebookId": "637b54727b4e5f9b3d48842e",
    "slideshow": {
     "slide_type": "slide"
    },
    "tags": []
   },
   "source": [
    "### 计算后验面临的问题"
   ]
  },
  {
   "cell_type": "markdown",
   "metadata": {
    "id": "6C58CA44B5B642AD884DEB4DE6779996",
    "jupyter": {},
    "notebookId": "637b54727b4e5f9b3d48842e",
    "slideshow": {
     "slide_type": "slide"
    },
    "tags": []
   },
   "source": [
    "**以探究地球海水覆盖率为例。**\n",
    "\n",
    "- 假设我们获得数据：抛地球仪10次，其中7次海面朝上。\n",
    "- 在获得数据的同时，我们以二项分布函数作为**似然函数**。\n",
    "- 假设我们在获得数据以前的**先验**认为：地球海水覆盖率为0.5。\n",
    "\n",
    "我们的任务是根据数据更新我们的先验。"
   ]
  },
  {
   "cell_type": "markdown",
   "metadata": {
    "id": "D5BCE1888E024400BE14AB41B1C8BFAB",
    "jupyter": {},
    "notebookId": "637b54727b4e5f9b3d48842e",
    "slideshow": {
     "slide_type": "slide"
    },
    "tags": []
   },
   "source": [
    "1. 假设我们获得数据：抛地球仪10次，其中7次海面朝上。"
   ]
  },
  {
   "cell_type": "code",
   "execution_count": 25,
   "metadata": {
    "collapsed": false,
    "id": "05E1D9BA94DA4C468CD72FF34CAA9225",
    "jupyter": {
     "outputs_hidden": false
    },
    "notebookId": "637b54727b4e5f9b3d48842e",
    "slideshow": {
     "slide_type": "slide"
    },
    "tags": []
   },
   "outputs": [],
   "source": [
    "import numpy as np               # numpy 是专门用于数组运算的包\n",
    "import scipy.stats as st         # 从scipy.stats里载入分布函数\n",
    "import matplotlib.pyplot as plt  # matplotlib.pyplot 是专门用于画图的包\n",
    "import seaborn as sns            # seaborn是专门用于绘制统计数据的包\n",
    "import arviz as az               # arviz 是专门用于探索贝叶斯模型的包"
   ]
  },
  {
   "cell_type": "code",
   "execution_count": 26,
   "metadata": {
    "collapsed": false,
    "id": "E53A7E4539D14F918C3DA493A0BAC46B",
    "jupyter": {
     "outputs_hidden": false
    },
    "notebookId": "637b54727b4e5f9b3d48842e",
    "slideshow": {
     "slide_type": "slide"
    },
    "tags": []
   },
   "outputs": [
    {
     "name": "stdout",
     "output_type": "stream",
     "text": [
      "数据： [1, 1, 1, 1, 1, 0, 0, 1, 1, 0]\n"
     ]
    }
   ],
   "source": [
    "data = [1,1,1,1,1,0,0,1,1,0] # 1代表海面朝上，0代表陆地朝上\n",
    "print(\"数据：\",data)"
   ]
  },
  {
   "cell_type": "code",
   "execution_count": 27,
   "metadata": {
    "collapsed": false,
    "id": "3EA9C49E7F81428B968602B0C8D782B4",
    "jupyter": {
     "outputs_hidden": false
    },
    "notebookId": "637b54727b4e5f9b3d48842e",
    "slideshow": {
     "slide_type": "slide"
    },
    "tags": []
   },
   "outputs": [
    {
     "data": {
      "text/plain": [
       "(-1.0, 2.0)"
      ]
     },
     "execution_count": 27,
     "metadata": {},
     "output_type": "execute_result"
    },
    {
     "data": {
      "text/html": [
       "<img src=\"https://cdn.kesci.com/upload/rt/3EA9C49E7F81428B968602B0C8D782B4/rjvmd9ti5u.png\">"
      ],
      "text/plain": [
       "<Figure size 432x288 with 1 Axes>"
      ]
     },
     "metadata": {},
     "output_type": "display_data"
    }
   ],
   "source": [
    "plt.hist(data)\n",
    "plt.xticks([0,1],labels=[\"earth\",\"water\"])\n",
    "plt.xlim(-1,2)"
   ]
  },
  {
   "cell_type": "markdown",
   "metadata": {
    "id": "9623E344118A440484B3E38C0AEDA134",
    "jupyter": {},
    "notebookId": "637b54727b4e5f9b3d48842e",
    "slideshow": {
     "slide_type": "slide"
    },
    "tags": []
   },
   "source": [
    "2. 我们的先验：地球海水覆盖率为0.5。\n",
    "  \n",
    "由于我们的先验不是分布，而是一个值，因此可以认为我们对先验的信心为100%，即 $prior=1$"
   ]
  },
  {
   "cell_type": "code",
   "execution_count": 29,
   "metadata": {
    "collapsed": false,
    "id": "D3D7F17D811A46D5A515557B0D450E27",
    "jupyter": {
     "outputs_hidden": false
    },
    "notebookId": "637b54727b4e5f9b3d48842e",
    "slideshow": {
     "slide_type": "slide"
    },
    "tags": []
   },
   "outputs": [
    {
     "name": "stdout",
     "output_type": "stream",
     "text": [
      "先验：地球海水覆盖率为： 0.5\n"
     ]
    }
   ],
   "source": [
    "prior_θ = 0.5\n",
    "prior=1 # 由于先验只有一个值，我们用1(100%)表示先验出现的概率\n",
    "print(\"先验：地球海水覆盖率为：\",prior_θ)"
   ]
  },
  {
   "cell_type": "markdown",
   "metadata": {
    "id": "9F74DAB011954511BF9CA7A4FA8F907B",
    "jupyter": {},
    "notebookId": "637b54727b4e5f9b3d48842e",
    "slideshow": {
     "slide_type": "slide"
    },
    "tags": []
   },
   "source": [
    "3. 结合先验参数(prior_θ)与数据(data)计算似然值。\n",
    "\n",
    "我们选择伯努利分布函数(bernoulli)作为似然函数。"
   ]
  },
  {
   "cell_type": "code",
   "execution_count": 30,
   "metadata": {
    "collapsed": false,
    "id": "B56625EC5B2E47AFB2073F2F9382FD56",
    "jupyter": {
     "outputs_hidden": false
    },
    "notebookId": "637b54727b4e5f9b3d48842e",
    "slideshow": {
     "slide_type": "slide"
    },
    "tags": []
   },
   "outputs": [
    {
     "name": "stdout",
     "output_type": "stream",
     "text": [
      "根据当前数据与先验得到的似然值： 0.0009765625\n"
     ]
    }
   ],
   "source": [
    "likelihood  = st.bernoulli(prior_θ).pmf(data).prod()\n",
    "print(\"根据当前数据与先验得到的似然值：\",likelihood)"
   ]
  },
  {
   "cell_type": "markdown",
   "metadata": {
    "id": "4AD3F4A5FE7241828354C79DFA48B306",
    "jupyter": {},
    "notebookId": "637b54727b4e5f9b3d48842e",
    "slideshow": {
     "slide_type": "slide"
    },
    "tags": []
   },
   "source": [
    "4. 计算后验，即通过似然值更新先验。\n",
    "\n",
    "注意：\n",
    "\n",
    "由于这里是没有考虑贝叶斯公式的分母部分，因此我们得到的是未标准化的 invalid 后验"
   ]
  },
  {
   "cell_type": "code",
   "execution_count": 31,
   "metadata": {
    "collapsed": false,
    "id": "DD1393CB57CD413BAD682DE8EF98244E",
    "jupyter": {
     "outputs_hidden": false
    },
    "notebookId": "637b54727b4e5f9b3d48842e",
    "slideshow": {
     "slide_type": "slide"
    },
    "tags": []
   },
   "outputs": [
    {
     "name": "stdout",
     "output_type": "stream",
     "text": [
      "未标准化的后验： 0.0009765625\n"
     ]
    }
   ],
   "source": [
    "unstd_posterior = likelihood * prior\n",
    "print(\"未标准化的后验：\", unstd_posterior)"
   ]
  },
  {
   "cell_type": "markdown",
   "metadata": {
    "id": "489D781F98464D0B8C06F67F25429C29",
    "jupyter": {},
    "notebookId": "637b54727b4e5f9b3d48842e",
    "slideshow": {
     "slide_type": "slide"
    },
    "tags": []
   },
   "source": [
    "**练习：**\n",
    "\n",
    "当我们假设的先验不同时，似然与后验也会产生相应的变化。\n",
    "\n",
    "比如，我们尝试将先验(地球海水覆盖率)设为0.5，0.6，和0.7。"
   ]
  },
  {
   "cell_type": "markdown",
   "metadata": {
    "id": "F4DC8721601B4B3592A83381DD91D6DB",
    "jupyter": {},
    "notebookId": "637b54727b4e5f9b3d48842e",
    "slideshow": {
     "slide_type": "slide"
    },
    "tags": []
   },
   "source": [
    "- 为了后面方便计算，我们把计算未标准化后验的过程用一个函数包裹起来\n",
    "\n",
    "该函数的每一步计算过程与之前完全相同"
   ]
  },
  {
   "cell_type": "code",
   "execution_count": 32,
   "metadata": {
    "collapsed": false,
    "id": "8439CEB834E84C5882DA972C513889B4",
    "jupyter": {
     "outputs_hidden": false
    },
    "notebookId": "637b54727b4e5f9b3d48842e",
    "slideshow": {
     "slide_type": "slide"
    },
    "tags": []
   },
   "outputs": [],
   "source": [
    "def calculate_posterior(prior_θ, data):\n",
    "    prior=1\n",
    "    likelihood  = st.bernoulli(prior_θ).pmf(data).prod()\n",
    "    unstd_posterior = likelihood * prior\n",
    "    \n",
    "    return unstd_posterior"
   ]
  },
  {
   "cell_type": "code",
   "execution_count": 33,
   "metadata": {
    "collapsed": false,
    "id": "4F1BD69B03EE43E38C64CBDFA95BD139",
    "jupyter": {
     "outputs_hidden": false
    },
    "notebookId": "637b54727b4e5f9b3d48842e",
    "slideshow": {
     "slide_type": "slide"
    },
    "tags": []
   },
   "outputs": [
    {
     "name": "stdout",
     "output_type": "stream",
     "text": [
      "未标准化的后验： 0.0009765625\n"
     ]
    }
   ],
   "source": [
    "prior_θ = 0.5 # 假设先验为0.5\n",
    "unstd_posterior = calculate_posterior(prior_θ,data)\n",
    "print(\"未标准化的后验：\",unstd_posterior)"
   ]
  },
  {
   "cell_type": "code",
   "execution_count": 34,
   "metadata": {
    "collapsed": false,
    "id": "61D5602A69204000870A9CCC9431BB0E",
    "jupyter": {
     "outputs_hidden": false
    },
    "notebookId": "637b54727b4e5f9b3d48842e",
    "slideshow": {
     "slide_type": "slide"
    },
    "tags": []
   },
   "outputs": [
    {
     "ename": "TypeError",
     "evalue": "'>=' not supported between instances of 'ellipsis' and 'int'",
     "output_type": "error",
     "traceback": [
      "\u001b[0;31m---------------------------------------------------------------------------\u001b[0m",
      "\u001b[0;31mTypeError\u001b[0m                                 Traceback (most recent call last)",
      "\u001b[0;32m/tmp/ipykernel_48/69097260.py\u001b[0m in \u001b[0;36m<module>\u001b[0;34m\u001b[0m\n\u001b[1;32m     15\u001b[0m \u001b[0;34m\u001b[0m\u001b[0m\n\u001b[1;32m     16\u001b[0m \u001b[0mprior_θ\u001b[0m \u001b[0;34m=\u001b[0m \u001b[0;34m...\u001b[0m\u001b[0;34m\u001b[0m\u001b[0;34m\u001b[0m\u001b[0m\n\u001b[0;32m---> 17\u001b[0;31m \u001b[0munstd_posterior\u001b[0m \u001b[0;34m=\u001b[0m \u001b[0mcalculate_posterior\u001b[0m\u001b[0;34m(\u001b[0m\u001b[0mprior_θ\u001b[0m\u001b[0;34m,\u001b[0m\u001b[0mdata\u001b[0m\u001b[0;34m)\u001b[0m\u001b[0;34m\u001b[0m\u001b[0;34m\u001b[0m\u001b[0m\n\u001b[0m\u001b[1;32m     18\u001b[0m \u001b[0mprint\u001b[0m\u001b[0;34m(\u001b[0m\u001b[0;34m\"未标准化的后验：\"\u001b[0m\u001b[0;34m,\u001b[0m\u001b[0munstd_posterior\u001b[0m\u001b[0;34m)\u001b[0m\u001b[0;34m\u001b[0m\u001b[0;34m\u001b[0m\u001b[0m\n",
      "\u001b[0;32m/tmp/ipykernel_48/69097260.py\u001b[0m in \u001b[0;36mcalculate_posterior\u001b[0;34m(prior_θ, data)\u001b[0m\n\u001b[1;32m      5\u001b[0m \u001b[0;32mdef\u001b[0m \u001b[0mcalculate_posterior\u001b[0m\u001b[0;34m(\u001b[0m\u001b[0mprior_θ\u001b[0m\u001b[0;34m,\u001b[0m \u001b[0mdata\u001b[0m\u001b[0;34m)\u001b[0m\u001b[0;34m:\u001b[0m\u001b[0;34m\u001b[0m\u001b[0;34m\u001b[0m\u001b[0m\n\u001b[1;32m      6\u001b[0m     \u001b[0mprior\u001b[0m\u001b[0;34m=\u001b[0m\u001b[0;36m1\u001b[0m\u001b[0;34m\u001b[0m\u001b[0;34m\u001b[0m\u001b[0m\n\u001b[0;32m----> 7\u001b[0;31m     \u001b[0mlikelihood\u001b[0m  \u001b[0;34m=\u001b[0m \u001b[0mst\u001b[0m\u001b[0;34m.\u001b[0m\u001b[0mbernoulli\u001b[0m\u001b[0;34m(\u001b[0m\u001b[0mprior_θ\u001b[0m\u001b[0;34m)\u001b[0m\u001b[0;34m.\u001b[0m\u001b[0mpmf\u001b[0m\u001b[0;34m(\u001b[0m\u001b[0mdata\u001b[0m\u001b[0;34m)\u001b[0m\u001b[0;34m.\u001b[0m\u001b[0mprod\u001b[0m\u001b[0;34m(\u001b[0m\u001b[0;34m)\u001b[0m\u001b[0;34m\u001b[0m\u001b[0;34m\u001b[0m\u001b[0m\n\u001b[0m\u001b[1;32m      8\u001b[0m     \u001b[0munstd_posterior\u001b[0m \u001b[0;34m=\u001b[0m \u001b[0mlikelihood\u001b[0m \u001b[0;34m*\u001b[0m \u001b[0mprior\u001b[0m\u001b[0;34m\u001b[0m\u001b[0;34m\u001b[0m\u001b[0m\n\u001b[1;32m      9\u001b[0m     \u001b[0;32mreturn\u001b[0m \u001b[0munstd_posterior\u001b[0m\u001b[0;34m\u001b[0m\u001b[0;34m\u001b[0m\u001b[0m\n",
      "\u001b[0;32m/opt/conda/lib/python3.7/site-packages/scipy/stats/_distn_infrastructure.py\u001b[0m in \u001b[0;36mpmf\u001b[0;34m(self, k)\u001b[0m\n\u001b[1;32m    503\u001b[0m \u001b[0;34m\u001b[0m\u001b[0m\n\u001b[1;32m    504\u001b[0m     \u001b[0;32mdef\u001b[0m \u001b[0mpmf\u001b[0m\u001b[0;34m(\u001b[0m\u001b[0mself\u001b[0m\u001b[0;34m,\u001b[0m \u001b[0mk\u001b[0m\u001b[0;34m)\u001b[0m\u001b[0;34m:\u001b[0m\u001b[0;34m\u001b[0m\u001b[0;34m\u001b[0m\u001b[0m\n\u001b[0;32m--> 505\u001b[0;31m         \u001b[0;32mreturn\u001b[0m \u001b[0mself\u001b[0m\u001b[0;34m.\u001b[0m\u001b[0mdist\u001b[0m\u001b[0;34m.\u001b[0m\u001b[0mpmf\u001b[0m\u001b[0;34m(\u001b[0m\u001b[0mk\u001b[0m\u001b[0;34m,\u001b[0m \u001b[0;34m*\u001b[0m\u001b[0mself\u001b[0m\u001b[0;34m.\u001b[0m\u001b[0margs\u001b[0m\u001b[0;34m,\u001b[0m \u001b[0;34m**\u001b[0m\u001b[0mself\u001b[0m\u001b[0;34m.\u001b[0m\u001b[0mkwds\u001b[0m\u001b[0;34m)\u001b[0m\u001b[0;34m\u001b[0m\u001b[0;34m\u001b[0m\u001b[0m\n\u001b[0m\u001b[1;32m    506\u001b[0m \u001b[0;34m\u001b[0m\u001b[0m\n\u001b[1;32m    507\u001b[0m     \u001b[0;32mdef\u001b[0m \u001b[0mlogpmf\u001b[0m\u001b[0;34m(\u001b[0m\u001b[0mself\u001b[0m\u001b[0;34m,\u001b[0m \u001b[0mk\u001b[0m\u001b[0;34m)\u001b[0m\u001b[0;34m:\u001b[0m\u001b[0;34m\u001b[0m\u001b[0;34m\u001b[0m\u001b[0m\n",
      "\u001b[0;32m/opt/conda/lib/python3.7/site-packages/scipy/stats/_distn_infrastructure.py\u001b[0m in \u001b[0;36mpmf\u001b[0;34m(self, k, *args, **kwds)\u001b[0m\n\u001b[1;32m   3141\u001b[0m         \u001b[0m_a\u001b[0m\u001b[0;34m,\u001b[0m \u001b[0m_b\u001b[0m \u001b[0;34m=\u001b[0m \u001b[0mself\u001b[0m\u001b[0;34m.\u001b[0m\u001b[0m_get_support\u001b[0m\u001b[0;34m(\u001b[0m\u001b[0;34m*\u001b[0m\u001b[0margs\u001b[0m\u001b[0;34m)\u001b[0m\u001b[0;34m\u001b[0m\u001b[0;34m\u001b[0m\u001b[0m\n\u001b[1;32m   3142\u001b[0m         \u001b[0mk\u001b[0m \u001b[0;34m=\u001b[0m \u001b[0masarray\u001b[0m\u001b[0;34m(\u001b[0m\u001b[0;34m(\u001b[0m\u001b[0mk\u001b[0m\u001b[0;34m-\u001b[0m\u001b[0mloc\u001b[0m\u001b[0;34m)\u001b[0m\u001b[0;34m)\u001b[0m\u001b[0;34m\u001b[0m\u001b[0;34m\u001b[0m\u001b[0m\n\u001b[0;32m-> 3143\u001b[0;31m         \u001b[0mcond0\u001b[0m \u001b[0;34m=\u001b[0m \u001b[0mself\u001b[0m\u001b[0;34m.\u001b[0m\u001b[0m_argcheck\u001b[0m\u001b[0;34m(\u001b[0m\u001b[0;34m*\u001b[0m\u001b[0margs\u001b[0m\u001b[0;34m)\u001b[0m\u001b[0;34m\u001b[0m\u001b[0;34m\u001b[0m\u001b[0m\n\u001b[0m\u001b[1;32m   3144\u001b[0m         \u001b[0mcond1\u001b[0m \u001b[0;34m=\u001b[0m \u001b[0;34m(\u001b[0m\u001b[0mk\u001b[0m \u001b[0;34m>=\u001b[0m \u001b[0m_a\u001b[0m\u001b[0;34m)\u001b[0m \u001b[0;34m&\u001b[0m \u001b[0;34m(\u001b[0m\u001b[0mk\u001b[0m \u001b[0;34m<=\u001b[0m \u001b[0m_b\u001b[0m\u001b[0;34m)\u001b[0m \u001b[0;34m&\u001b[0m \u001b[0mself\u001b[0m\u001b[0;34m.\u001b[0m\u001b[0m_nonzero\u001b[0m\u001b[0;34m(\u001b[0m\u001b[0mk\u001b[0m\u001b[0;34m,\u001b[0m \u001b[0;34m*\u001b[0m\u001b[0margs\u001b[0m\u001b[0;34m)\u001b[0m\u001b[0;34m\u001b[0m\u001b[0;34m\u001b[0m\u001b[0m\n\u001b[1;32m   3145\u001b[0m         \u001b[0mcond\u001b[0m \u001b[0;34m=\u001b[0m \u001b[0mcond0\u001b[0m \u001b[0;34m&\u001b[0m \u001b[0mcond1\u001b[0m\u001b[0;34m\u001b[0m\u001b[0;34m\u001b[0m\u001b[0m\n",
      "\u001b[0;32m/opt/conda/lib/python3.7/site-packages/scipy/stats/_discrete_distns.py\u001b[0m in \u001b[0;36m_argcheck\u001b[0;34m(self, p)\u001b[0m\n\u001b[1;32m    129\u001b[0m \u001b[0;34m\u001b[0m\u001b[0m\n\u001b[1;32m    130\u001b[0m     \u001b[0;32mdef\u001b[0m \u001b[0m_argcheck\u001b[0m\u001b[0;34m(\u001b[0m\u001b[0mself\u001b[0m\u001b[0;34m,\u001b[0m \u001b[0mp\u001b[0m\u001b[0;34m)\u001b[0m\u001b[0;34m:\u001b[0m\u001b[0;34m\u001b[0m\u001b[0;34m\u001b[0m\u001b[0m\n\u001b[0;32m--> 131\u001b[0;31m         \u001b[0;32mreturn\u001b[0m \u001b[0;34m(\u001b[0m\u001b[0mp\u001b[0m \u001b[0;34m>=\u001b[0m \u001b[0;36m0\u001b[0m\u001b[0;34m)\u001b[0m \u001b[0;34m&\u001b[0m \u001b[0;34m(\u001b[0m\u001b[0mp\u001b[0m \u001b[0;34m<=\u001b[0m \u001b[0;36m1\u001b[0m\u001b[0;34m)\u001b[0m\u001b[0;34m\u001b[0m\u001b[0;34m\u001b[0m\u001b[0m\n\u001b[0m\u001b[1;32m    132\u001b[0m \u001b[0;34m\u001b[0m\u001b[0m\n\u001b[1;32m    133\u001b[0m     \u001b[0;32mdef\u001b[0m \u001b[0m_get_support\u001b[0m\u001b[0;34m(\u001b[0m\u001b[0mself\u001b[0m\u001b[0;34m,\u001b[0m \u001b[0mp\u001b[0m\u001b[0;34m)\u001b[0m\u001b[0;34m:\u001b[0m\u001b[0;34m\u001b[0m\u001b[0;34m\u001b[0m\u001b[0m\n",
      "\u001b[0;31mTypeError\u001b[0m: '>=' not supported between instances of 'ellipsis' and 'int'"
     ]
    }
   ],
   "source": [
    "import numpy as np               # numpy 是专门用于数组运算的包\n",
    "import scipy.stats as st         # 从scipy.stats里载入分布函数\n",
    "\n",
    "# 定义计算后验的函数\n",
    "def calculate_posterior(prior_θ, data):\n",
    "    prior=1\n",
    "    likelihood  = st.bernoulli(prior_θ).pmf(data).prod()\n",
    "    unstd_posterior = likelihood * prior\n",
    "    return unstd_posterior\n",
    "  \n",
    "########################################################\n",
    "# 练习\n",
    "# 请尝试修改先验参数 prior_θ 修改为0.6或者0.7\n",
    "########################################################\n",
    "\n",
    "prior_θ = ...\n",
    "unstd_posterior = calculate_posterior(prior_θ,data)\n",
    "print(\"未标准化的后验：\",unstd_posterior)"
   ]
  },
  {
   "cell_type": "markdown",
   "metadata": {
    "id": "72DA770A35EE4497B085830CDD5C8797",
    "jupyter": {},
    "notebookId": "637b54727b4e5f9b3d48842e",
    "slideshow": {
     "slide_type": "slide"
    },
    "tags": []
   },
   "source": [
    "通过定义函数`calculate_posterior`，我们只需要输入先验参数和数据，就可以计算出后验后验(invalid)。\n",
    "\n",
    "经过尝试可以发现，当我们的先验参数越接近数据中海面出现的频率(0.7)时，后验值最大。\n",
    "\n",
    "但此时的后验值还很小，还不是一个有效的概率值，接下来我们结合 **有效的先验概率分布**和**贝叶斯公式分母(边际似然)**计算有效的后验概率分布。"
   ]
  },
  {
   "cell_type": "markdown",
   "metadata": {
    "id": "BC48554CEDB84417AD8B1B5C67CD85FB",
    "jupyter": {},
    "notebookId": "637b54727b4e5f9b3d48842e",
    "slideshow": {
     "slide_type": "slide"
    },
    "tags": []
   },
   "source": [
    "**计算valid 后验概率分布**\n",
    "\n",
    "如果我们假设，海水覆盖面率可能不止是一个值，而可能为0.6，0.7，0.8，其中0.7的可能性最大时：\n",
    "\n",
    "比如，我们认为海水覆盖率为0.7时的概率为0.5，而海水覆盖率为0.6和0.7的概率为0.25。\n",
    "\n",
    "此时先验概率的和为1，所以该分布是一个有效的(valid)概率分布。"
   ]
  },
  {
   "cell_type": "code",
   "execution_count": 35,
   "metadata": {
    "collapsed": false,
    "id": "C4EDA33B09DF426F8051EA5A4D1F23DF",
    "jupyter": {
     "outputs_hidden": false
    },
    "notebookId": "637b54727b4e5f9b3d48842e",
    "slideshow": {
     "slide_type": "slide"
    },
    "tags": []
   },
   "outputs": [],
   "source": [
    "prior_θs = [0.6,0.7,0.8] # 假设先验为0.6，0.7，0.8\n",
    "priors = [0.25,0.5,0.25] # 假设我们对不同先验的信心为0.25,0.5,0.25"
   ]
  },
  {
   "cell_type": "code",
   "execution_count": 36,
   "metadata": {
    "collapsed": false,
    "id": "C296EEB6D4724318922A6E822E04466C",
    "jupyter": {
     "outputs_hidden": false
    },
    "notebookId": "637b54727b4e5f9b3d48842e",
    "slideshow": {
     "slide_type": "slide"
    },
    "tags": []
   },
   "outputs": [
    {
     "data": {
      "text/plain": [
       "([<matplotlib.axis.XTick at 0x7fbfe2b95fd0>,\n",
       "  <matplotlib.axis.XTick at 0x7fbfe2b95750>,\n",
       "  <matplotlib.axis.XTick at 0x7fbfe2b7fb90>],\n",
       " [Text(0, 0, ''), Text(0, 0, ''), Text(0, 0, '')])"
      ]
     },
     "execution_count": 36,
     "metadata": {},
     "output_type": "execute_result"
    },
    {
     "data": {
      "text/html": [
       "<img src=\"https://cdn.kesci.com/upload/rt/C296EEB6D4724318922A6E822E04466C/rjvmiow3kl.png\">"
      ],
      "text/plain": [
       "<Figure size 432x288 with 1 Axes>"
      ]
     },
     "metadata": {},
     "output_type": "display_data"
    }
   ],
   "source": [
    "# 绘制先验分布的概率分布\n",
    "plt.plot(prior_θs,priors)\n",
    "plt.xlabel(\"Prior belief of the proportion of sea surface coverage\")\n",
    "plt.ylabel(\"Probability\")\n",
    "plt.xticks(prior_θs)"
   ]
  },
  {
   "cell_type": "markdown",
   "metadata": {
    "id": "C936BF3955384AA682F8A6CB9C72DA09",
    "jupyter": {},
    "notebookId": "637b54727b4e5f9b3d48842e",
    "slideshow": {
     "slide_type": "slide"
    },
    "tags": []
   },
   "source": [
    "接下来我们计算后验概率：\n",
    "- `calculate_posterior` 是我们定义的计算未标准化的后验\n",
    "- 因为先验有多个值(0.6,0.7,0.8)，我们通过 for 循环分别计算每一个先验值的后验：\n",
    "  \n",
    "  `for prior_θ,prior in zip(prior_θs,priors)`\n",
    "\n",
    "  因为每一个先验参数有不同的概率，我们通过`zip`函数将两个变量打包在一起，使得可以同时循环两个变量。\n",
    "- 为了保存循环计算得到的多个后验值，我们把各值加入到一个空数组`unstd_posteriors = []`\n",
    "\n",
    "  即下面代码`unstd_posteriors += [unstd_posterior]`"
   ]
  },
  {
   "cell_type": "code",
   "execution_count": 37,
   "metadata": {
    "collapsed": false,
    "id": "BEE473B7CF5A446FAB145C7C4078AA7A",
    "jupyter": {
     "outputs_hidden": false
    },
    "notebookId": "637b54727b4e5f9b3d48842e",
    "slideshow": {
     "slide_type": "slide"
    },
    "tags": []
   },
   "outputs": [],
   "source": [
    "# 定义计算后验的函数\n",
    "def calculate_posterior(prior_θ, prior, data):\n",
    "    likelihood  = st.bernoulli(prior_θ).pmf(data).prod()\n",
    "    unstd_posterior = likelihood * prior\n",
    "    return unstd_posterior\n",
    "\n",
    "unstd_posteriors = []\n",
    "for prior_θ,prior in zip(prior_θs,priors):\n",
    "    unstd_posterior = calculate_posterior(prior_θ,prior,data)\n",
    "    unstd_posteriors += [unstd_posterior]"
   ]
  },
  {
   "cell_type": "markdown",
   "metadata": {
    "id": "D7227757EBB1475683D9D30E26C8E5ED",
    "jupyter": {},
    "notebookId": "637b54727b4e5f9b3d48842e",
    "slideshow": {
     "slide_type": "slide"
    },
    "tags": []
   },
   "source": [
    "Tips: 上面的循环可以写作下面**更简洁**的形式，这得力于python的语法糖。"
   ]
  },
  {
   "cell_type": "code",
   "execution_count": 38,
   "metadata": {
    "collapsed": false,
    "id": "B501C4839BB2443A85679A0B03031EC3",
    "jupyter": {
     "outputs_hidden": false
    },
    "notebookId": "637b54727b4e5f9b3d48842e",
    "slideshow": {
     "slide_type": "slide"
    },
    "tags": []
   },
   "outputs": [],
   "source": [
    "unstd_posteriors = [calculate_posterior(prior_θ,prior,data) for prior_θ,prior in zip(prior_θs,priors)] "
   ]
  },
  {
   "cell_type": "code",
   "execution_count": 39,
   "metadata": {
    "collapsed": false,
    "id": "70F30147135E40D993E00123C9E1606D",
    "jupyter": {
     "outputs_hidden": false
    },
    "notebookId": "637b54727b4e5f9b3d48842e",
    "slideshow": {
     "slide_type": "slide"
    },
    "tags": []
   },
   "outputs": [
    {
     "name": "stdout",
     "output_type": "stream",
     "text": [
      "未标准化的后验： [0.00044789760000000004, 0.0011117830499999999, 0.0004194303999999999]\n"
     ]
    }
   ],
   "source": [
    "print(\"未标准化的后验：\",unstd_posteriors)"
   ]
  },
  {
   "cell_type": "markdown",
   "metadata": {
    "id": "F3DACE04540548C6828296B8249C4D15",
    "jupyter": {},
    "notebookId": "637b54727b4e5f9b3d48842e",
    "slideshow": {
     "slide_type": "slide"
    },
    "tags": []
   },
   "source": [
    "此时的后验不是有效的概率分布，我们可以通过计算贝叶斯公式中的分母，从而得到出标准化(valid)的后验概率。"
   ]
  },
  {
   "cell_type": "code",
   "execution_count": 40,
   "metadata": {
    "collapsed": false,
    "id": "85E9B96EDEA84F41A702B93710FC9CD2",
    "jupyter": {
     "outputs_hidden": false
    },
    "notebookId": "637b54727b4e5f9b3d48842e",
    "slideshow": {
     "slide_type": "slide"
    },
    "tags": []
   },
   "outputs": [
    {
     "name": "stdout",
     "output_type": "stream",
     "text": [
      "标准化的后验： [0.22631252 0.5617588  0.21192868]\n"
     ]
    }
   ],
   "source": [
    "posteriors = unstd_posteriors/np.sum(unstd_posteriors)\n",
    "print(\"标准化的后验：\",posteriors)"
   ]
  },
  {
   "cell_type": "markdown",
   "metadata": {
    "id": "E04814FDE5A64035811C128A7309C68C",
    "jupyter": {},
    "notebookId": "637b54727b4e5f9b3d48842e",
    "slideshow": {
     "slide_type": "slide"
    },
    "tags": []
   },
   "source": [
    "可以看到，标准化的后验概率总和为1。\n",
    "\n",
    "并且参数为0.7时，后验概率最大。数据增强了我们对于参数等于0.7的信心(之前我们认为参数等于0.7的概率为0.5)。"
   ]
  },
  {
   "cell_type": "code",
   "execution_count": 41,
   "metadata": {
    "collapsed": false,
    "id": "554BA7D52C3D41078343B275454077A5",
    "jupyter": {
     "outputs_hidden": false
    },
    "notebookId": "637b54727b4e5f9b3d48842e",
    "slideshow": {
     "slide_type": "slide"
    },
    "tags": []
   },
   "outputs": [
    {
     "data": {
      "text/plain": [
       "Text(0, 0.5, 'posterior probability')"
      ]
     },
     "execution_count": 41,
     "metadata": {},
     "output_type": "execute_result"
    },
    {
     "data": {
      "text/html": [
       "<img src=\"https://cdn.kesci.com/upload/rt/554BA7D52C3D41078343B275454077A5/rjvmkxu5cc.png\">"
      ],
      "text/plain": [
       "<Figure size 432x288 with 1 Axes>"
      ]
     },
     "metadata": {},
     "output_type": "display_data"
    }
   ],
   "source": [
    "plt.plot(prior_θs,posteriors)\n",
    "plt.xlabel(\"θ\")\n",
    "plt.ylabel(\"posterior probability\")"
   ]
  },
  {
   "cell_type": "markdown",
   "metadata": {
    "id": "599AE6B4005D470696021E12B4439DF3",
    "jupyter": {},
    "notebookId": "637b54727b4e5f9b3d48842e",
    "slideshow": {
     "slide_type": "slide"
    },
    "tags": []
   },
   "source": [
    "**先验为正态分布时，计算后验分布**\n",
    "\n",
    "同样，我们可以根据上节课的知识，为先验设置一个正态分布，然后再计算后验分布。\n",
    "\n",
    "我们假设先验参数服从均值为0.5，标准差为0.1的正态分布"
   ]
  },
  {
   "cell_type": "code",
   "execution_count": 42,
   "metadata": {
    "collapsed": false,
    "id": "D931A5BCF4AF4D4F81771923123A56A0",
    "jupyter": {
     "outputs_hidden": false
    },
    "notebookId": "637b54727b4e5f9b3d48842e",
    "slideshow": {
     "slide_type": "slide"
    },
    "tags": []
   },
   "outputs": [],
   "source": [
    "prior_θs = np.linspace(0, 1, 100) # 用100个数值 遍历先验参数值从0到1\n",
    "priors = st.norm.pdf(prior_θs,0.5,0.1)/np.sum(st.norm.pdf(prior_θs,0.5,0.1)) # 先验参数服从均值为0.5，标准差为0.1的正态分布"
   ]
  },
  {
   "cell_type": "code",
   "execution_count": 43,
   "metadata": {
    "collapsed": false,
    "id": "278460BECF694C058AF6316FFA6C542A",
    "jupyter": {
     "outputs_hidden": false
    },
    "notebookId": "637b54727b4e5f9b3d48842e",
    "slideshow": {
     "slide_type": "slide"
    },
    "tags": []
   },
   "outputs": [
    {
     "data": {
      "text/plain": [
       "Text(0, 0.5, 'priors probability')"
      ]
     },
     "execution_count": 43,
     "metadata": {},
     "output_type": "execute_result"
    },
    {
     "data": {
      "text/html": [
       "<img src=\"https://cdn.kesci.com/upload/rt/278460BECF694C058AF6316FFA6C542A/rjvmljkxis.png\">"
      ],
      "text/plain": [
       "<Figure size 432x288 with 1 Axes>"
      ]
     },
     "metadata": {},
     "output_type": "display_data"
    }
   ],
   "source": [
    "plt.plot(prior_θs,priors)\n",
    "plt.xlabel(\"prior θ\")\n",
    "plt.ylabel(\"priors probability\")"
   ]
  },
  {
   "cell_type": "markdown",
   "metadata": {
    "id": "AADF76F7C78041888CFCC4AA308D4826",
    "jupyter": {},
    "notebookId": "637b54727b4e5f9b3d48842e",
    "slideshow": {
     "slide_type": "slide"
    },
    "tags": []
   },
   "source": [
    "我们通过上面定义的计算后验的函数`calculate_posterior` 以及刚提到的 for循环计算每一个先验对应的后验值"
   ]
  },
  {
   "cell_type": "code",
   "execution_count": 45,
   "metadata": {
    "collapsed": false,
    "id": "27BF6228C8014FF18747E8B023B04095",
    "jupyter": {
     "outputs_hidden": false
    },
    "notebookId": "637b54727b4e5f9b3d48842e",
    "slideshow": {
     "slide_type": "slide"
    },
    "tags": []
   },
   "outputs": [],
   "source": [
    "unstd_posterior = [calculate_posterior(prior_θ,prior,data) for prior_θ,prior in zip(prior_θs,priors)]"
   ]
  },
  {
   "cell_type": "code",
   "execution_count": 46,
   "metadata": {
    "collapsed": false,
    "id": "F5EBB7BC6B8140599A86C535089E2231",
    "jupyter": {
     "outputs_hidden": false
    },
    "notebookId": "637b54727b4e5f9b3d48842e",
    "slideshow": {
     "slide_type": "slide"
    },
    "tags": []
   },
   "outputs": [
    {
     "data": {
      "text/plain": [
       "Text(0, 0.5, 'unstandardized posteriors')"
      ]
     },
     "execution_count": 46,
     "metadata": {},
     "output_type": "execute_result"
    },
    {
     "data": {
      "text/html": [
       "<img src=\"https://cdn.kesci.com/upload/rt/F5EBB7BC6B8140599A86C535089E2231/rjvmm89frb.png\">"
      ],
      "text/plain": [
       "<Figure size 432x288 with 1 Axes>"
      ]
     },
     "metadata": {},
     "output_type": "display_data"
    }
   ],
   "source": [
    "plt.plot(prior_θs,unstd_posterior)\n",
    "plt.xlabel(\"θ\")\n",
    "plt.ylabel(\"unstandardized posteriors\")"
   ]
  },
  {
   "cell_type": "markdown",
   "metadata": {
    "id": "D5D2B43115E54F17864B61389DA4130A",
    "jupyter": {},
    "notebookId": "637b54727b4e5f9b3d48842e",
    "slideshow": {
     "slide_type": "slide"
    },
    "tags": []
   },
   "source": [
    "注意，此时y轴表示的不是后验概率。\n",
    "\n",
    "因此我们需要根据公式 $P(data) =\\sum_{\\theta}^{} p(data,\\theta)=\\sum_{\\theta}^{} p(data|\\theta)p(\\theta)$ 计算后验概率。\n",
    "\n",
    "对应的代码 \n",
    "\n",
    "- $P(data) =$ `np.sum(unstd_posterior)`\n",
    "- $p(\\theta|data) = \\frac{p(data|\\theta)p(\\theta)}{p(data)}$ 对应 `posterior = unstd_posterior/np.sum(unstd_posterior)`"
   ]
  },
  {
   "cell_type": "code",
   "execution_count": 47,
   "metadata": {
    "collapsed": false,
    "id": "047DC11A7D92451180397E97D7C026C9",
    "jupyter": {
     "outputs_hidden": false
    },
    "notebookId": "637b54727b4e5f9b3d48842e",
    "slideshow": {
     "slide_type": "slide"
    },
    "tags": []
   },
   "outputs": [
    {
     "data": {
      "text/plain": [
       "<matplotlib.legend.Legend at 0x7fbfe2ba2150>"
      ]
     },
     "execution_count": 47,
     "metadata": {},
     "output_type": "execute_result"
    },
    {
     "data": {
      "text/html": [
       "<img src=\"https://cdn.kesci.com/upload/rt/047DC11A7D92451180397E97D7C026C9/rjvmmrvjb7.png\">"
      ],
      "text/plain": [
       "<Figure size 432x288 with 1 Axes>"
      ]
     },
     "metadata": {},
     "output_type": "display_data"
    }
   ],
   "source": [
    "posterior = unstd_posterior/np.sum(unstd_posterior)\n",
    "\n",
    "plt.plot(prior_θs, priors, color = 'grey',ls = '--',label=\"prior\")\n",
    "plt.plot(prior_θs, posterior, color = 'red',label=\"posterior\")\n",
    "plt.legend()"
   ]
  },
  {
   "cell_type": "markdown",
   "metadata": {
    "id": "BD043EA8D088434AA28737C4A12CE3F1",
    "jupyter": {},
    "notebookId": "637b54727b4e5f9b3d48842e",
    "slideshow": {
     "slide_type": "slide"
    },
    "tags": []
   },
   "source": [
    "### MCMC原理实现过程及其代码"
   ]
  },
  {
   "cell_type": "markdown",
   "metadata": {
    "id": "885CD737B66140BF9C4B2BDBF7F906A9",
    "jupyter": {},
    "notebookId": "637b54727b4e5f9b3d48842e",
    "slideshow": {
     "slide_type": "slide"
    },
    "tags": []
   },
   "source": [
    "在前面的代码示例中，存在两个问题：\n",
    "- **我们遍历了所有先验参数的可能性去计算后验分布，然而当参数不止一个时，遍历所有参数非常消耗计算量。**\n",
    "  \n",
    "  对应的代码为 `prior_θs = np.linspace(0, 1, 100)`。可以想象，如果参数不止一个，那么prior_θs将不再是一个一维向量。\n",
    "\n",
    "- **对于复杂的后验分布，公式的分母部分难以计算，所以我们无法得到标准化的后验分布**\n",
    "\n",
    "  对应代码部分 `np.sum(unstd_posterior)`。可以想象，如果参数不止一个，我们需要对每一个参数都进行求和操作。\n",
    "\n",
    "\n",
    "使用MCMC的**意义**就在于：\n",
    "\n",
    "通过采样的方法避免遍历所有的参数值，并且**避免计算分母**。"
   ]
  },
  {
   "cell_type": "markdown",
   "metadata": {
    "id": "BEB1D518A986434883CBB3EB4202122F",
    "jupyter": {},
    "notebookId": "637b54727b4e5f9b3d48842e",
    "slideshow": {
     "slide_type": "slide"
    },
    "tags": []
   },
   "source": [
    "因此，MCMC的关键在于**如何在后验分布中进行采样**？"
   ]
  },
  {
   "cell_type": "markdown",
   "metadata": {
    "id": "F72873E208084E8893E61FA4953B5DF9",
    "jupyter": {},
    "notebookId": "637b54727b4e5f9b3d48842e",
    "slideshow": {
     "slide_type": "slide"
    },
    "tags": []
   },
   "source": [
    "**为了了解采样的概念，我们首先从参数范围中随机进行采样**\n",
    "\n",
    "我们知道参数(海面覆盖率)的范围为0到1，因此我们可以从0到1中随机抽取参数"
   ]
  },
  {
   "cell_type": "code",
   "execution_count": 48,
   "metadata": {
    "collapsed": false,
    "id": "9835038BCD464FF29557E98D778C3CC0",
    "jupyter": {
     "outputs_hidden": false
    },
    "notebookId": "637b54727b4e5f9b3d48842e",
    "slideshow": {
     "slide_type": "slide"
    },
    "tags": []
   },
   "outputs": [],
   "source": [
    "samples = st.uniform(0, 1).rvs(100) # 我们从一个0到1的均匀分布中采样100次，用samples代表采集到的样本"
   ]
  },
  {
   "cell_type": "code",
   "execution_count": 49,
   "metadata": {
    "collapsed": false,
    "id": "BF6C01734C114A1D8A7D9FFD14AE9CAC",
    "jupyter": {
     "outputs_hidden": false
    },
    "notebookId": "637b54727b4e5f9b3d48842e",
    "slideshow": {
     "slide_type": "slide"
    },
    "tags": []
   },
   "outputs": [],
   "source": [
    "# 我们也可以通过for循环达到同样的效果\n",
    "n_iters = 100\n",
    "samples = {\"θ\":np.zeros(n_iters)}\n",
    "for n_iter in range(n_iters):\n",
    "  samples[\"θ\"][n_iter] = st.uniform(0,1).rvs(1) # 此时，每次采样一次"
   ]
  },
  {
   "cell_type": "code",
   "execution_count": 50,
   "metadata": {
    "collapsed": false,
    "id": "DCD4243127084E80902D8C5F77810BA5",
    "jupyter": {
     "outputs_hidden": false
    },
    "notebookId": "637b54727b4e5f9b3d48842e",
    "slideshow": {
     "slide_type": "slide"
    },
    "tags": []
   },
   "outputs": [
    {
     "data": {
      "text/plain": [
       "(array([14.,  7., 11.,  9., 13., 10., 14.,  4.,  8., 10.]),\n",
       " array([0.00567931, 0.10238004, 0.19908078, 0.29578152, 0.39248226,\n",
       "        0.489183  , 0.58588374, 0.68258448, 0.77928522, 0.87598595,\n",
       "        0.97268669]),\n",
       " <BarContainer object of 10 artists>)"
      ]
     },
     "execution_count": 50,
     "metadata": {},
     "output_type": "execute_result"
    },
    {
     "data": {
      "text/html": [
       "<img src=\"https://cdn.kesci.com/upload/rt/DCD4243127084E80902D8C5F77810BA5/rjvmob9hp3.png\">"
      ],
      "text/plain": [
       "<Figure size 432x288 with 1 Axes>"
      ]
     },
     "metadata": {},
     "output_type": "display_data"
    }
   ],
   "source": [
    "plt.hist(samples[\"θ\"])"
   ]
  },
  {
   "cell_type": "markdown",
   "metadata": {
    "id": "A2352E5C36F6436791861D435B085CCA",
    "jupyter": {},
    "notebookId": "637b54727b4e5f9b3d48842e",
    "slideshow": {
     "slide_type": "slide"
    },
    "tags": []
   },
   "source": [
    "我们可以看到，随机采集的参数分布与真实的后验分布差距很大。"
   ]
  },
  {
   "cell_type": "markdown",
   "metadata": {
    "id": "47A9082FF43E41B9AF52BFBE2D1D8F59",
    "jupyter": {},
    "notebookId": "637b54727b4e5f9b3d48842e",
    "slideshow": {
     "slide_type": "slide"
    },
    "tags": []
   },
   "source": [
    "### 拒绝采样(reject sampling)"
   ]
  },
  {
   "cell_type": "markdown",
   "metadata": {
    "id": "3606F86621CF4AAD9A9485443FE76A0A",
    "jupyter": {},
    "notebookId": "637b54727b4e5f9b3d48842e",
    "slideshow": {
     "slide_type": "slide"
    },
    "tags": []
   },
   "source": [
    "**通过前面学到的*拒绝采样*算法，我们可以优化采集到的样本，使得它更接近后验样本**\n",
    "\n",
    "具体思路为，我们会利用未标准化的后验，当该后验对应的y轴的值越大时，我们越有可能保留对应的参数。"
   ]
  },
  {
   "cell_type": "markdown",
   "metadata": {
    "id": "6C60D5801D1E482AAD90A256B524831D",
    "jupyter": {},
    "notebookId": "637b54727b4e5f9b3d48842e",
    "slideshow": {
     "slide_type": "slide"
    },
    "tags": []
   },
   "source": [
    "这里我们重新定义计算后验的函数。\n",
    "\n",
    "其中，我们定义先验分布为正态分布。\n",
    "并且，避免参数值超过0-1的范围。"
   ]
  },
  {
   "cell_type": "code",
   "execution_count": 52,
   "metadata": {
    "collapsed": false,
    "id": "D143B9C4612E4A5AAC9EAA5DC6CFBA67",
    "jupyter": {
     "outputs_hidden": false
    },
    "notebookId": "637b54727b4e5f9b3d48842e",
    "slideshow": {
     "slide_type": "slide"
    },
    "tags": []
   },
   "outputs": [],
   "source": [
    "def calculate_posterior(θ, data):\n",
    "    if 0 <= θ <= 1:                           # 避免参数值超过0-1的范围\n",
    "      prior = st.norm(0.5, 0.1).pdf(θ)        # 定义先验分布是均值为0.5，标准差是0.1的正态分布。\n",
    "      likelihood  = st.bernoulli(θ).pmf(data).prod()\n",
    "      unstd_posterior = likelihood * prior\n",
    "    else:\n",
    "        unstd_posterior = -np.inf\n",
    "        \n",
    "    return unstd_posterior"
   ]
  },
  {
   "cell_type": "markdown",
   "metadata": {
    "id": "A8A8FCC38A464B8087721D15A1589A9D",
    "jupyter": {},
    "notebookId": "637b54727b4e5f9b3d48842e",
    "slideshow": {
     "slide_type": "slide"
    },
    "tags": []
   },
   "source": [
    "- 首先，我们从0到1中随机生成一个参数值：`proposal_θ = st.uniform(0,1).rvs(1)`\n",
    "- 然后，我们计算该参数值的非标准后验：\n",
    "  \n",
    "  `unstd_posterior = calculate_posterior(proposal_θ, prior_θ, data)`。\n",
    "  \n",
    "  这里面我们的数据为10次抛地球仪，获得7次海面向上；先验服从均值为0.5标准差为0.1的正态分布。\n",
    "- 最后，我们生成一个随机数，如果非标准后验的值大于该随机数，我们就接受该参数采样，否则我们保持之前的参数采样：\n",
    "  \n",
    "  ```\n",
    "  if unstd_posterior*1000 > st.uniform(0, 1).rvs(1):\n",
    "        θ = proposal_θ\n",
    "  else:\n",
    "        θ = samples['θ'][n_iter-1]\n",
    "  ```\n",
    "        \n",
    "  可以想象，非标准后验的值越大，对应的参数样本越有可能被保留"
   ]
  },
  {
   "cell_type": "markdown",
   "metadata": {
    "id": "9224FE7257AF4B3CACFCD6D44550664B",
    "jupyter": {},
    "notebookId": "637b54727b4e5f9b3d48842e",
    "slideshow": {
     "slide_type": "slide"
    },
    "tags": []
   },
   "source": [
    "我们通过一个**练习**来了解，哪些后验参数容易被接受：\n",
    "\n",
    "这里我们设置拒绝阈限为0.5 `reject_threshold = 0.5`，\n",
    "\n",
    "当后验参数对应的y轴数值大于该值，我们接受该后验参数 \n",
    "\n",
    "```\n",
    "if unstd_posterior > reject_threshold: \n",
    "  print(\"接受的参数：\",θ)\n",
    "```"
   ]
  },
  {
   "cell_type": "code",
   "execution_count": 53,
   "metadata": {
    "collapsed": false,
    "id": "F091A0C41F13489D9A82AD2F5C5931A3",
    "jupyter": {
     "outputs_hidden": false
    },
    "notebookId": "637b54727b4e5f9b3d48842e",
    "slideshow": {
     "slide_type": "slide"
    },
    "tags": []
   },
   "outputs": [
    {
     "ename": "TypeError",
     "evalue": "'<=' not supported between instances of 'int' and 'ellipsis'",
     "output_type": "error",
     "traceback": [
      "\u001b[0;31m---------------------------------------------------------------------------\u001b[0m",
      "\u001b[0;31mTypeError\u001b[0m                                 Traceback (most recent call last)",
      "\u001b[0;32m/tmp/ipykernel_48/1856522107.py\u001b[0m in \u001b[0;36m<module>\u001b[0;34m\u001b[0m\n\u001b[1;32m     11\u001b[0m \u001b[0;31m# 根据数据与先验参数计算后验\u001b[0m\u001b[0;34m\u001b[0m\u001b[0;34m\u001b[0m\u001b[0;34m\u001b[0m\u001b[0m\n\u001b[1;32m     12\u001b[0m \u001b[0mdata\u001b[0m \u001b[0;34m=\u001b[0m \u001b[0;34m[\u001b[0m\u001b[0;36m1\u001b[0m\u001b[0;34m,\u001b[0m\u001b[0;36m1\u001b[0m\u001b[0;34m,\u001b[0m\u001b[0;36m1\u001b[0m\u001b[0;34m,\u001b[0m\u001b[0;36m1\u001b[0m\u001b[0;34m,\u001b[0m\u001b[0;36m1\u001b[0m\u001b[0;34m,\u001b[0m\u001b[0;36m0\u001b[0m\u001b[0;34m,\u001b[0m\u001b[0;36m0\u001b[0m\u001b[0;34m,\u001b[0m\u001b[0;36m1\u001b[0m\u001b[0;34m,\u001b[0m\u001b[0;36m1\u001b[0m\u001b[0;34m,\u001b[0m\u001b[0;36m0\u001b[0m\u001b[0;34m]\u001b[0m\u001b[0;34m\u001b[0m\u001b[0;34m\u001b[0m\u001b[0m\n\u001b[0;32m---> 13\u001b[0;31m \u001b[0munstd_posterior\u001b[0m \u001b[0;34m=\u001b[0m \u001b[0mcalculate_posterior\u001b[0m\u001b[0;34m(\u001b[0m\u001b[0mθ\u001b[0m\u001b[0;34m,\u001b[0m \u001b[0mdata\u001b[0m\u001b[0;34m)\u001b[0m\u001b[0;34m\u001b[0m\u001b[0;34m\u001b[0m\u001b[0m\n\u001b[0m\u001b[1;32m     14\u001b[0m \u001b[0munstd_posterior\u001b[0m \u001b[0;34m=\u001b[0m \u001b[0munstd_posterior\u001b[0m\u001b[0;34m*\u001b[0m\u001b[0;36m1000\u001b[0m \u001b[0;31m# 因为unstd_posterior太小，我们将其扩大1000倍\u001b[0m\u001b[0;34m\u001b[0m\u001b[0;34m\u001b[0m\u001b[0m\n\u001b[1;32m     15\u001b[0m \u001b[0;34m\u001b[0m\u001b[0m\n",
      "\u001b[0;32m/tmp/ipykernel_48/2987578944.py\u001b[0m in \u001b[0;36mcalculate_posterior\u001b[0;34m(θ, data)\u001b[0m\n\u001b[1;32m      1\u001b[0m \u001b[0;32mdef\u001b[0m \u001b[0mcalculate_posterior\u001b[0m\u001b[0;34m(\u001b[0m\u001b[0mθ\u001b[0m\u001b[0;34m,\u001b[0m \u001b[0mdata\u001b[0m\u001b[0;34m)\u001b[0m\u001b[0;34m:\u001b[0m\u001b[0;34m\u001b[0m\u001b[0;34m\u001b[0m\u001b[0m\n\u001b[0;32m----> 2\u001b[0;31m     \u001b[0;32mif\u001b[0m \u001b[0;36m0\u001b[0m \u001b[0;34m<=\u001b[0m \u001b[0mθ\u001b[0m \u001b[0;34m<=\u001b[0m \u001b[0;36m1\u001b[0m\u001b[0;34m:\u001b[0m                           \u001b[0;31m# 避免参数值超过0-1的范围\u001b[0m\u001b[0;34m\u001b[0m\u001b[0;34m\u001b[0m\u001b[0m\n\u001b[0m\u001b[1;32m      3\u001b[0m       \u001b[0mprior\u001b[0m \u001b[0;34m=\u001b[0m \u001b[0mst\u001b[0m\u001b[0;34m.\u001b[0m\u001b[0mnorm\u001b[0m\u001b[0;34m(\u001b[0m\u001b[0;36m0.5\u001b[0m\u001b[0;34m,\u001b[0m \u001b[0;36m0.1\u001b[0m\u001b[0;34m)\u001b[0m\u001b[0;34m.\u001b[0m\u001b[0mpdf\u001b[0m\u001b[0;34m(\u001b[0m\u001b[0mθ\u001b[0m\u001b[0;34m)\u001b[0m        \u001b[0;31m# 定义先验分布是均值为0.5，标准差是0.1的正态分布。\u001b[0m\u001b[0;34m\u001b[0m\u001b[0;34m\u001b[0m\u001b[0m\n\u001b[1;32m      4\u001b[0m       \u001b[0mlikelihood\u001b[0m  \u001b[0;34m=\u001b[0m \u001b[0mst\u001b[0m\u001b[0;34m.\u001b[0m\u001b[0mbernoulli\u001b[0m\u001b[0;34m(\u001b[0m\u001b[0mθ\u001b[0m\u001b[0;34m)\u001b[0m\u001b[0;34m.\u001b[0m\u001b[0mpmf\u001b[0m\u001b[0;34m(\u001b[0m\u001b[0mdata\u001b[0m\u001b[0;34m)\u001b[0m\u001b[0;34m.\u001b[0m\u001b[0mprod\u001b[0m\u001b[0;34m(\u001b[0m\u001b[0;34m)\u001b[0m\u001b[0;34m\u001b[0m\u001b[0;34m\u001b[0m\u001b[0m\n\u001b[1;32m      5\u001b[0m       \u001b[0munstd_posterior\u001b[0m \u001b[0;34m=\u001b[0m \u001b[0mlikelihood\u001b[0m \u001b[0;34m*\u001b[0m \u001b[0mprior\u001b[0m\u001b[0;34m\u001b[0m\u001b[0;34m\u001b[0m\u001b[0m\n",
      "\u001b[0;31mTypeError\u001b[0m: '<=' not supported between instances of 'int' and 'ellipsis'"
     ]
    }
   ],
   "source": [
    "import numpy as np               # numpy 是专门用于数组运算的包\n",
    "import scipy.stats as st         # 从scipy.stats里载入分布函数\n",
    "import matplotlib.pyplot as plt  # matplotlib.pyplot 是专门用于画图的包\n",
    "\n",
    "########################################################\n",
    "# 练习\n",
    "# 请尝试通过 st.uniform(0, 1).rvs(1) 随机生成一个0-1的参数\n",
    "########################################################\n",
    "θ = ...\n",
    "\n",
    "# 根据数据与先验参数计算后验\n",
    "data = [1,1,1,1,1,0,0,1,1,0]\n",
    "unstd_posterior = calculate_posterior(θ, data)\n",
    "unstd_posterior = unstd_posterior*1000 # 因为unstd_posterior太小，我们将其扩大1000倍, (rethinkg: 为什么？)\n",
    "\n",
    "# 设定拒绝阈限\n",
    "reject_threshold = 0.5\n",
    "\n",
    "print(\"参数y轴值：\",unstd_posterior,\"拒绝阈限\",reject_threshold)\n",
    "if unstd_posterior > reject_threshold:\n",
    "    print(\"接受的参数：\",θ)\n",
    "else:\n",
    "    print(\"拒绝的参数：\",θ)"
   ]
  },
  {
   "cell_type": "markdown",
   "metadata": {
    "id": "DE1CF34C55F84400A9655ABCAF8F2723",
    "jupyter": {},
    "notebookId": "637b54727b4e5f9b3d48842e",
    "slideshow": {
     "slide_type": "slide"
    },
    "tags": []
   },
   "source": [
    "可以发现：该方法与随机抽样**最主要的区别**在于，利用随机抽取的样本计算后验，之后根据后验选择是否接受后验参数"
   ]
  },
  {
   "cell_type": "markdown",
   "metadata": {
    "id": "726DE99AA9C640008154E40985D865E7",
    "jupyter": {},
    "notebookId": "637b54727b4e5f9b3d48842e",
    "slideshow": {
     "slide_type": "slide"
    },
    "tags": []
   },
   "source": [
    "我们通过for循环尝试生成1000个随机的参数(proposal_θ):\n",
    "```\n",
    "n_iters = 1000\n",
    "for n_iter in range(n_iters):\n",
    "  proposal_θ = st.uniform(0,1).rvs(1)\n",
    "```\n",
    "\n",
    "如果参数对应y轴数值的1000倍大于0.5我们接受该参数，否则我们拒绝该参数：\n",
    "```\n",
    "reject_threshold = 0.5\n",
    "if unstd_posterior*1000 > reject_threshold:\n",
    "  θ = proposal_θ\n",
    "  samples['θ'][n_iter] = θ\n",
    "```"
   ]
  },
  {
   "cell_type": "code",
   "execution_count": 54,
   "metadata": {
    "collapsed": false,
    "id": "25B504340DDF4A6D8FED4F05CF5EAF6F",
    "jupyter": {
     "outputs_hidden": false
    },
    "notebookId": "637b54727b4e5f9b3d48842e",
    "slideshow": {
     "slide_type": "slide"
    },
    "tags": []
   },
   "outputs": [],
   "source": [
    "data = [1,1,1,1,1,1,1,0,0,0] # 数据与之前相同，10次抛地球仪，我们获得7次海面向上\n",
    "n_iters = 1000\n",
    "samples = {\"θ\":np.zeros(n_iters)}\n",
    "\n",
    "for n_iter in range(n_iters):\n",
    "    proposal_θ = st.uniform(0,1).rvs(1)\n",
    "    unstd_posterior = calculate_posterior(proposal_θ, data)\n",
    "    \n",
    "    reject_threshold = 0.5\n",
    "    if unstd_posterior*1000 > reject_threshold:\n",
    "        θ = proposal_θ\n",
    "    else:\n",
    "        θ = samples['θ'][n_iter-1]\n",
    "\n",
    "    samples['θ'][n_iter] = θ"
   ]
  },
  {
   "cell_type": "markdown",
   "metadata": {
    "id": "A6A96767D7244EF199E6041769AC458C",
    "jupyter": {},
    "notebookId": "637b54727b4e5f9b3d48842e",
    "slideshow": {
     "slide_type": "slide"
    },
    "tags": []
   },
   "source": [
    "我们可以对该分布进行统计推断，如同上一次课程我们对后验分布进行统计推断一样。"
   ]
  },
  {
   "cell_type": "code",
   "execution_count": 55,
   "metadata": {
    "collapsed": false,
    "id": "782A8C018FD54A6C8A37EDA29582674A",
    "jupyter": {
     "outputs_hidden": false
    },
    "notebookId": "637b54727b4e5f9b3d48842e",
    "slideshow": {
     "slide_type": "slide"
    },
    "tags": []
   },
   "outputs": [
    {
     "data": {
      "text/plain": [
       "<AxesSubplot:title={'center':'θ'}>"
      ]
     },
     "execution_count": 55,
     "metadata": {},
     "output_type": "execute_result"
    },
    {
     "data": {
      "text/html": [
       "<img src=\"https://cdn.kesci.com/upload/rt/782A8C018FD54A6C8A37EDA29582674A/rjvmriam6t.png\">"
      ],
      "text/plain": [
       "<Figure size 432x288 with 1 Axes>"
      ]
     },
     "metadata": {},
     "output_type": "display_data"
    }
   ],
   "source": [
    "az.plot_posterior(samples) # 绘制样本的分布"
   ]
  },
  {
   "cell_type": "code",
   "execution_count": 56,
   "metadata": {
    "collapsed": false,
    "id": "FA73CED8AFCF44278C76AC0A48EF944F",
    "jupyter": {
     "outputs_hidden": false
    },
    "notebookId": "637b54727b4e5f9b3d48842e",
    "slideshow": {
     "slide_type": "slide"
    },
    "tags": []
   },
   "outputs": [
    {
     "name": "stderr",
     "output_type": "stream",
     "text": [
      "arviz - WARNING - Shape validation failed: input_shape: (1, 1000), minimum_shape: (chains=2, draws=4)\n"
     ]
    },
    {
     "data": {
      "text/html": [
       "<div>\n",
       "<style scoped>\n",
       "    .dataframe tbody tr th:only-of-type {\n",
       "        vertical-align: middle;\n",
       "    }\n",
       "\n",
       "    .dataframe tbody tr th {\n",
       "        vertical-align: top;\n",
       "    }\n",
       "\n",
       "    .dataframe thead th {\n",
       "        text-align: right;\n",
       "    }\n",
       "</style>\n",
       "<table border=\"1\" class=\"dataframe\">\n",
       "  <thead>\n",
       "    <tr style=\"text-align: right;\">\n",
       "      <th></th>\n",
       "      <th>mean</th>\n",
       "      <th>sd</th>\n",
       "      <th>hdi_3%</th>\n",
       "      <th>hdi_97%</th>\n",
       "      <th>mcse_mean</th>\n",
       "      <th>mcse_sd</th>\n",
       "      <th>ess_bulk</th>\n",
       "      <th>ess_tail</th>\n",
       "      <th>r_hat</th>\n",
       "    </tr>\n",
       "  </thead>\n",
       "  <tbody>\n",
       "    <tr>\n",
       "      <th>θ</th>\n",
       "      <td>0.556</td>\n",
       "      <td>0.111</td>\n",
       "      <td>0.391</td>\n",
       "      <td>0.727</td>\n",
       "      <td>0.007</td>\n",
       "      <td>0.005</td>\n",
       "      <td>226.0</td>\n",
       "      <td>247.0</td>\n",
       "      <td>NaN</td>\n",
       "    </tr>\n",
       "  </tbody>\n",
       "</table>\n",
       "</div>"
      ],
      "text/plain": [
       "    mean     sd  hdi_3%  hdi_97%  mcse_mean  mcse_sd  ess_bulk  ess_tail  \\\n",
       "θ  0.556  0.111   0.391    0.727      0.007    0.005     226.0     247.0   \n",
       "\n",
       "   r_hat  \n",
       "θ    NaN  "
      ]
     },
     "execution_count": 56,
     "metadata": {},
     "output_type": "execute_result"
    }
   ],
   "source": [
    "az.summary(samples) # 计算样本的均值与HDI"
   ]
  },
  {
   "cell_type": "markdown",
   "metadata": {
    "id": "8700B7B8CD874962A4B494C66CE5EC51",
    "jupyter": {},
    "notebookId": "637b54727b4e5f9b3d48842e",
    "slideshow": {
     "slide_type": "slide"
    },
    "tags": []
   },
   "source": [
    "从结果看，采集的参数大多位于0.5-0.7, 这符合真实后验分布的结果。\n",
    "\n",
    "但该分布并不平滑，并且不太符合正态分布，说明我们的算法需要得到优化。"
   ]
  },
  {
   "cell_type": "markdown",
   "metadata": {
    "id": "664B4545E1C6487D8DB4A9851F180C2D",
    "jupyter": {},
    "notebookId": "637b54727b4e5f9b3d48842e",
    "slideshow": {
     "slide_type": "slide"
    },
    "tags": []
   },
   "source": [
    "重要性采样有两个问题：\n",
    "1. 我们采样参数的过程是随机的`proposal_θ = st.uniform(0,1).rvs(1)`，这样采样参数在分布中peak位置的数量较少，导致采样的效率低。\n",
    "2. 如果我们设置的**拒绝阈限**太大，那么我们采集到的数据大多都会被拒绝。"
   ]
  },
  {
   "cell_type": "markdown",
   "metadata": {
    "id": "A7A9206ED81B421E9A892F1DD8864AE0",
    "jupyter": {},
    "notebookId": "637b54727b4e5f9b3d48842e",
    "slideshow": {
     "slide_type": "slide"
    },
    "tags": []
   },
   "source": [
    "通过**练习**了解不同**拒绝阈限**对接受的样本数量的影响"
   ]
  },
  {
   "cell_type": "code",
   "execution_count": 57,
   "metadata": {
    "collapsed": false,
    "id": "9972CF941EEF4CD7878C29C57757E4FC",
    "jupyter": {
     "outputs_hidden": false
    },
    "notebookId": "637b54727b4e5f9b3d48842e",
    "slideshow": {
     "slide_type": "slide"
    },
    "tags": []
   },
   "outputs": [
    {
     "ename": "TypeError",
     "evalue": "'>' not supported between instances of 'float' and 'ellipsis'",
     "output_type": "error",
     "traceback": [
      "\u001b[0;31m---------------------------------------------------------------------------\u001b[0m",
      "\u001b[0;31mTypeError\u001b[0m                                 Traceback (most recent call last)",
      "\u001b[0;32m/tmp/ipykernel_48/2614330120.py\u001b[0m in \u001b[0;36m<module>\u001b[0;34m\u001b[0m\n\u001b[1;32m     13\u001b[0m     \u001b[0munstd_posterior\u001b[0m \u001b[0;34m=\u001b[0m \u001b[0mcalculate_posterior\u001b[0m\u001b[0;34m(\u001b[0m\u001b[0mproposal_θ\u001b[0m\u001b[0;34m,\u001b[0m \u001b[0mdata\u001b[0m\u001b[0;34m)\u001b[0m\u001b[0;34m\u001b[0m\u001b[0;34m\u001b[0m\u001b[0m\n\u001b[1;32m     14\u001b[0m \u001b[0;34m\u001b[0m\u001b[0m\n\u001b[0;32m---> 15\u001b[0;31m     \u001b[0;32mif\u001b[0m \u001b[0munstd_posterior\u001b[0m\u001b[0;34m*\u001b[0m\u001b[0;36m1000\u001b[0m \u001b[0;34m>\u001b[0m \u001b[0mreject_threshold\u001b[0m\u001b[0;34m:\u001b[0m\u001b[0;34m\u001b[0m\u001b[0;34m\u001b[0m\u001b[0m\n\u001b[0m\u001b[1;32m     16\u001b[0m         \u001b[0msamples_accept\u001b[0m \u001b[0;34m+=\u001b[0m \u001b[0;34m[\u001b[0m\u001b[0mproposal_θ\u001b[0m\u001b[0;34m[\u001b[0m\u001b[0;36m0\u001b[0m\u001b[0;34m]\u001b[0m\u001b[0;34m]\u001b[0m\u001b[0;34m\u001b[0m\u001b[0;34m\u001b[0m\u001b[0m\n\u001b[1;32m     17\u001b[0m     \u001b[0;32melse\u001b[0m\u001b[0;34m:\u001b[0m\u001b[0;34m\u001b[0m\u001b[0;34m\u001b[0m\u001b[0m\n",
      "\u001b[0;31mTypeError\u001b[0m: '>' not supported between instances of 'float' and 'ellipsis'"
     ]
    }
   ],
   "source": [
    "n_iters = 1000\n",
    "samples_accept = []\n",
    "samples_reject = []\n",
    "\n",
    "########################################################\n",
    "# 练习\n",
    "# 请尝试设置 reject_threshold 为0-1的任何值\n",
    "########################################################\n",
    "reject_threshold = ...\n",
    "\n",
    "for n_iter in range(n_iters):\n",
    "    proposal_θ = st.uniform(0,1).rvs(1)\n",
    "    unstd_posterior = calculate_posterior(proposal_θ, data)\n",
    "    \n",
    "    if unstd_posterior*1000 > reject_threshold:\n",
    "        samples_accept += [proposal_θ[0]]\n",
    "    else:\n",
    "        samples_reject += [proposal_θ[0]]\n",
    "\n",
    "accept_number = [len(samples_accept), len(samples_reject)]\n",
    "print(\"接受的样本数量：\", accept_number[0], \"拒绝的样本数量：\", accept_number[1])\n",
    "\n",
    "fig,ax = plt.subplots()\n",
    "ax.bar([\"accept\",\"reject\"],accept_number)\n",
    "plt.show()"
   ]
  },
  {
   "cell_type": "markdown",
   "metadata": {
    "id": "3C140969933B490198DBC4D18BE9AD79",
    "jupyter": {},
    "notebookId": "637b54727b4e5f9b3d48842e",
    "slideshow": {
     "slide_type": "slide"
    },
    "tags": []
   },
   "source": [
    "**Metropolis-Hastings (HM) 算法**\n",
    "\n",
    "为了提高采样的效率，减少被拒绝的采样，我们可以使用基于 MCMC 思想的 Metropolis-Hastings (HM) 算法。\n",
    "\n",
    "其与接受拒绝采样的**区别在于**，我们接受采样的概率与之前的采样的后验有关。\n",
    "\n",
    "`ratio = unstd_posterior1 / unstd_posterior0`  如果当前采样`unstd_posterior1`的后验的概率(未标准化)大于上一次采样的后验`unstd_posterior0`，那么两次后验的比值 ratio 值越大，那么越有可能接受当前采样的参数。\n",
    "\n",
    "并且，我们每次采样不是随机采样，而是在当前后验参数附近采样 (根据马尔科夫的性质)：\n",
    "\n",
    "`proposal_θ1 = st.norm(proposal_θ0, 0.5).rvs(1)` 当前参数 `proposal_θ1` 是从之前参数 `proposal_θ0` 附近采样。\n",
    "\n",
    "这种根据先前采样的建议(proposal)得到的采样，称为 proposal 参数。 对应采样的分布 `st.norm(proposal_θ0,0.5)` 称为 proposal distribution. \n",
    "\n",
    "注意，这个分布里的参数可以自己设定，比如，标准差0.5；或者是将标准差也作为模型的参数；并且 proposal distribution的选择也具有人为性。 这些人为性都影响采样的效率。"
   ]
  },
  {
   "cell_type": "code",
   "execution_count": 58,
   "metadata": {
    "collapsed": false,
    "id": "9721CAC50F684A69ACE85A7D2C53BFEE",
    "jupyter": {
     "outputs_hidden": false
    },
    "notebookId": "637b54727b4e5f9b3d48842e",
    "slideshow": {
     "slide_type": "slide"
    },
    "tags": []
   },
   "outputs": [],
   "source": [
    "n_iters = 1000\n",
    "samples = {\"θ\":np.zeros(n_iters)}\n",
    "proposal_theta1 = 0          # 为当前迭代下的proposal_θ\n",
    "proposal_theta0 = 0          # 为上一个迭代的proposal_θ\n",
    "unstd_posterior1 = 0.001 # 为当前迭代下的unstd_posterior\n",
    "unstd_posterior0 = 0.001 # 为上一个迭代的unstd_posterior\n",
    "\n",
    "for n_iter in range(n_iters):\n",
    "    prop_theta1 = st.norm(prop_theta0,0.5).rvs(1)\n",
    "    unstd_posterior1 = calculate_posterior(prop_theta1, data)\n",
    "    \n",
    "    ratio = unstd_posterior1 / unstd_posterior0\n",
    "\n",
    "    if ratio > st.uniform(0, 1).rvs(1):\n",
    "        prop_theta0 = prop_theta1\n",
    "        unstd_posterior0 = unstd_posterior1\n",
    "        \n",
    "    samples['θ'][n_iter] = prop_theta0"
   ]
  },
  {
   "cell_type": "code",
   "execution_count": 59,
   "metadata": {
    "collapsed": false,
    "id": "D374F02A96BC4F39BDC2108908402CF3",
    "jupyter": {
     "outputs_hidden": false
    },
    "notebookId": "637b54727b4e5f9b3d48842e",
    "slideshow": {
     "slide_type": "slide"
    },
    "tags": []
   },
   "outputs": [
    {
     "data": {
      "text/plain": [
       "<AxesSubplot:title={'center':'θ'}>"
      ]
     },
     "execution_count": 59,
     "metadata": {},
     "output_type": "execute_result"
    },
    {
     "data": {
      "text/html": [
       "<img src=\"https://cdn.kesci.com/upload/rt/D374F02A96BC4F39BDC2108908402CF3/rjvmtjaleh.png\">"
      ],
      "text/plain": [
       "<Figure size 432x288 with 1 Axes>"
      ]
     },
     "metadata": {},
     "output_type": "display_data"
    }
   ],
   "source": [
    "az.plot_posterior(samples) # 绘制样本的分布"
   ]
  },
  {
   "cell_type": "code",
   "execution_count": 60,
   "metadata": {
    "collapsed": false,
    "id": "9AF6D5894DF54196BC3483E530F70CC4",
    "jupyter": {
     "outputs_hidden": false
    },
    "notebookId": "637b54727b4e5f9b3d48842e",
    "slideshow": {
     "slide_type": "slide"
    },
    "tags": []
   },
   "outputs": [
    {
     "name": "stderr",
     "output_type": "stream",
     "text": [
      "arviz - WARNING - Shape validation failed: input_shape: (1, 1000), minimum_shape: (chains=2, draws=4)\n"
     ]
    },
    {
     "data": {
      "text/html": [
       "<div>\n",
       "<style scoped>\n",
       "    .dataframe tbody tr th:only-of-type {\n",
       "        vertical-align: middle;\n",
       "    }\n",
       "\n",
       "    .dataframe tbody tr th {\n",
       "        vertical-align: top;\n",
       "    }\n",
       "\n",
       "    .dataframe thead th {\n",
       "        text-align: right;\n",
       "    }\n",
       "</style>\n",
       "<table border=\"1\" class=\"dataframe\">\n",
       "  <thead>\n",
       "    <tr style=\"text-align: right;\">\n",
       "      <th></th>\n",
       "      <th>mean</th>\n",
       "      <th>sd</th>\n",
       "      <th>hdi_3%</th>\n",
       "      <th>hdi_97%</th>\n",
       "      <th>mcse_mean</th>\n",
       "      <th>mcse_sd</th>\n",
       "      <th>ess_bulk</th>\n",
       "      <th>ess_tail</th>\n",
       "      <th>r_hat</th>\n",
       "    </tr>\n",
       "  </thead>\n",
       "  <tbody>\n",
       "    <tr>\n",
       "      <th>θ</th>\n",
       "      <td>0.559</td>\n",
       "      <td>0.085</td>\n",
       "      <td>0.39</td>\n",
       "      <td>0.711</td>\n",
       "      <td>0.007</td>\n",
       "      <td>0.005</td>\n",
       "      <td>147.0</td>\n",
       "      <td>117.0</td>\n",
       "      <td>NaN</td>\n",
       "    </tr>\n",
       "  </tbody>\n",
       "</table>\n",
       "</div>"
      ],
      "text/plain": [
       "    mean     sd  hdi_3%  hdi_97%  mcse_mean  mcse_sd  ess_bulk  ess_tail  \\\n",
       "θ  0.559  0.085    0.39    0.711      0.007    0.005     147.0     117.0   \n",
       "\n",
       "   r_hat  \n",
       "θ    NaN  "
      ]
     },
     "execution_count": 60,
     "metadata": {},
     "output_type": "execute_result"
    }
   ],
   "source": [
    "az.summary(samples) # 计算样本的均值与HDI"
   ]
  },
  {
   "cell_type": "markdown",
   "metadata": {
    "id": "71FA9C2CE6284C318CA7E45080946B0D",
    "jupyter": {},
    "notebookId": "637b54727b4e5f9b3d48842e",
    "slideshow": {
     "slide_type": "slide"
    },
    "tags": []
   },
   "source": [
    "可以看到，我们顺利得到了参数的后验分布，并且该结果比重要性采样算法的结果更好。\n",
    "\n",
    "有了该采样样本，我们就可以用上一节课学习到的统计推断方法分析该采样分布了"
   ]
  },
  {
   "cell_type": "markdown",
   "metadata": {
    "id": "8E0A2626AFB44BF985CE117570C3747F",
    "jupyter": {},
    "notebookId": "637b54727b4e5f9b3d48842e",
    "slideshow": {
     "slide_type": "slide"
    },
    "tags": []
   },
   "source": [
    "同样，我们可以比较 proposal参数在metroplis算法中的接受频率。"
   ]
  },
  {
   "cell_type": "code",
   "execution_count": 62,
   "metadata": {
    "collapsed": false,
    "id": "A1EF8D60879E40AA86B6C8E7DDA023B4",
    "jupyter": {
     "outputs_hidden": false
    },
    "notebookId": "637b54727b4e5f9b3d48842e",
    "slideshow": {
     "slide_type": "slide"
    },
    "tags": []
   },
   "outputs": [
    {
     "name": "stdout",
     "output_type": "stream",
     "text": [
      "接受的样本数量： 708 拒绝的样本数量： 292\n"
     ]
    },
    {
     "data": {
      "text/html": [
       "<img src=\"https://cdn.kesci.com/upload/rt/A1EF8D60879E40AA86B6C8E7DDA023B4/rjvmumke3v.png\">"
      ],
      "text/plain": [
       "<Figure size 432x288 with 1 Axes>"
      ]
     },
     "metadata": {},
     "output_type": "display_data"
    }
   ],
   "source": [
    "n_iters = 1000\n",
    "samples_accept = []\n",
    "samples_reject = []\n",
    "\n",
    "for n_iter in range(n_iters):\n",
    "    proposal_θ1 = st.norm(proposal_θ0,0.5).rvs(1)\n",
    "    unstd_posterior1 = calculate_posterior(proposal_θ1, data)\n",
    "    \n",
    "    ratio = unstd_posterior1 / unstd_posterior0\n",
    "\n",
    "    if ratio < st.uniform(0, 1).rvs(1):\n",
    "        samples_accept += [proposal_θ[0]]\n",
    "    else:\n",
    "        samples_reject += [proposal_θ[0]]\n",
    "\n",
    "accept_number = [len(samples_accept), len(samples_reject)]\n",
    "print(\"接受的样本数量：\", accept_number[0], \"拒绝的样本数量：\", accept_number[1])\n",
    "\n",
    "fig,ax = plt.subplots()\n",
    "ax.bar([\"accept\",\"reject\"],accept_number)\n",
    "plt.show()"
   ]
  },
  {
   "cell_type": "markdown",
   "metadata": {
    "id": "86DE9D5536FD4B159F4AAA338719745D",
    "jupyter": {},
    "notebookId": "637b54727b4e5f9b3d48842e",
    "slideshow": {
     "slide_type": "slide"
    },
    "tags": []
   },
   "source": [
    "可以看到，metroplis算法的接受效率更好。"
   ]
  },
  {
   "cell_type": "markdown",
   "metadata": {
    "id": "363217A6F9AF444B85093364D5742448",
    "jupyter": {},
    "notebookId": "637b54727b4e5f9b3d48842e",
    "slideshow": {
     "slide_type": "slide"
    },
    "tags": []
   },
   "source": [
    "需要注意的是，通过MCMC采样得到的是从后验分布中采样得到的参数样本，而不是关于后验分布的函数。\n",
    "\n",
    "后验分布参数样本相比于后验分布函数的优点在于：\n",
    "- 方便计算后验分布的平均值等统计值\n",
    "\n",
    "缺点在于：\n",
    "- 如果样本无法代表后验分布，基于后验分布的统计推断也会出错"
   ]
  },
  {
   "cell_type": "markdown",
   "metadata": {
    "id": "3B7013EEA44A4CBAA69E461440070579",
    "jupyter": {},
    "notebookId": "637b54727b4e5f9b3d48842e",
    "slideshow": {
     "slide_type": "slide"
    },
    "tags": []
   },
   "source": [
    "### pymc3\n",
    "\n",
    "显然通过写for循环来实现MCMC算法还是过于复杂，我们下节课将结合 pymc工具包，简化以上计算。"
   ]
  },
  {
   "cell_type": "code",
   "execution_count": 63,
   "metadata": {
    "collapsed": false,
    "id": "8DE4EE2C8CB24FE0827CC25243DDF3C5",
    "jupyter": {
     "outputs_hidden": false
    },
    "notebookId": "637b54727b4e5f9b3d48842e",
    "slideshow": {
     "slide_type": "slide"
    },
    "tags": []
   },
   "outputs": [
    {
     "name": "stderr",
     "output_type": "stream",
     "text": [
      "WARNING (theano.link.c.cmodule): install mkl with `conda install mkl-service`: No module named 'mkl'\n",
      "Auto-assigning NUTS sampler...\n",
      "Initializing NUTS using jitter+adapt_diag...\n",
      "Multiprocess sampling (4 chains in 4 jobs)\n",
      "NUTS: [θ]\n"
     ]
    },
    {
     "data": {
      "text/html": [
       "\n",
       "<style>\n",
       "    /* Turns off some styling */\n",
       "    progress {\n",
       "        /* gets rid of default border in Firefox and Opera. */\n",
       "        border: none;\n",
       "        /* Needs to be in here for Safari polyfill so background images work as expected. */\n",
       "        background-size: auto;\n",
       "    }\n",
       "    progress:not([value]), progress:not([value])::-webkit-progress-bar {\n",
       "        background: repeating-linear-gradient(45deg, #7e7e7e, #7e7e7e 10px, #5c5c5c 10px, #5c5c5c 20px);\n",
       "    }\n",
       "    .progress-bar-interrupted, .progress-bar-interrupted::-webkit-progress-bar {\n",
       "        background: #F44336;\n",
       "    }\n",
       "</style>\n"
      ],
      "text/plain": [
       "<IPython.core.display.HTML object>"
      ]
     },
     "metadata": {},
     "output_type": "display_data"
    },
    {
     "name": "stderr",
     "output_type": "stream",
     "text": [
      "Sampling 4 chains for 1_000 tune and 1_000 draw iterations (4_000 + 4_000 draws total) took 4 seconds.\n"
     ]
    }
   ],
   "source": [
    "import pymc3 as pm\n",
    "\n",
    "data = [1,1,1,1,1,0,0,1,1,0]\n",
    "with pm.Model() as model:\n",
    "    # 设定先验\n",
    "    θ = pm.Normal(\"θ\", 0.5, 0.1)\n",
    "    # 设定似然函数与数据\n",
    "    pm.Binomial(\"samples\", n=1, p=θ, observed=data)\n",
    "    # Sample from the posterior distribution\n",
    "    samples = pm.sample(1000, return_inferencedata=True)"
   ]
  },
  {
   "cell_type": "code",
   "execution_count": 64,
   "metadata": {
    "collapsed": false,
    "id": "C2510125C483472D9BEDAB223C372680",
    "jupyter": {
     "outputs_hidden": false
    },
    "notebookId": "637b54727b4e5f9b3d48842e",
    "slideshow": {
     "slide_type": "slide"
    },
    "tags": []
   },
   "outputs": [
    {
     "data": {
      "text/plain": [
       "<AxesSubplot:>"
      ]
     },
     "execution_count": 64,
     "metadata": {},
     "output_type": "execute_result"
    },
    {
     "data": {
      "text/html": [
       "<img src=\"https://cdn.kesci.com/upload/rt/C2510125C483472D9BEDAB223C372680/rjvmxc8mfo.png\">"
      ],
      "text/plain": [
       "<Figure size 432x288 with 1 Axes>"
      ]
     },
     "metadata": {},
     "output_type": "display_data"
    }
   ],
   "source": [
    "az.plot_dist(samples.posterior[\"θ\"])"
   ]
  },
  {
   "cell_type": "code",
   "execution_count": 65,
   "metadata": {
    "collapsed": false,
    "id": "4C6122809DA246538A27F372FBC24F61",
    "jupyter": {
     "outputs_hidden": false
    },
    "notebookId": "637b54727b4e5f9b3d48842e",
    "slideshow": {
     "slide_type": "slide"
    },
    "tags": []
   },
   "outputs": [
    {
     "data": {
      "text/html": [
       "<div>\n",
       "<style scoped>\n",
       "    .dataframe tbody tr th:only-of-type {\n",
       "        vertical-align: middle;\n",
       "    }\n",
       "\n",
       "    .dataframe tbody tr th {\n",
       "        vertical-align: top;\n",
       "    }\n",
       "\n",
       "    .dataframe thead th {\n",
       "        text-align: right;\n",
       "    }\n",
       "</style>\n",
       "<table border=\"1\" class=\"dataframe\">\n",
       "  <thead>\n",
       "    <tr style=\"text-align: right;\">\n",
       "      <th></th>\n",
       "      <th>mean</th>\n",
       "      <th>sd</th>\n",
       "      <th>hdi_3%</th>\n",
       "      <th>hdi_97%</th>\n",
       "      <th>mcse_mean</th>\n",
       "      <th>mcse_sd</th>\n",
       "      <th>ess_bulk</th>\n",
       "      <th>ess_tail</th>\n",
       "      <th>r_hat</th>\n",
       "    </tr>\n",
       "  </thead>\n",
       "  <tbody>\n",
       "    <tr>\n",
       "      <th>θ</th>\n",
       "      <td>0.559</td>\n",
       "      <td>0.086</td>\n",
       "      <td>0.393</td>\n",
       "      <td>0.72</td>\n",
       "      <td>0.002</td>\n",
       "      <td>0.001</td>\n",
       "      <td>1900.0</td>\n",
       "      <td>2332.0</td>\n",
       "      <td>1.0</td>\n",
       "    </tr>\n",
       "  </tbody>\n",
       "</table>\n",
       "</div>"
      ],
      "text/plain": [
       "    mean     sd  hdi_3%  hdi_97%  mcse_mean  mcse_sd  ess_bulk  ess_tail  \\\n",
       "θ  0.559  0.086   0.393     0.72      0.002    0.001    1900.0    2332.0   \n",
       "\n",
       "   r_hat  \n",
       "θ    1.0  "
      ]
     },
     "execution_count": 65,
     "metadata": {},
     "output_type": "execute_result"
    }
   ],
   "source": [
    "az.summary(samples)"
   ]
  },
  {
   "cell_type": "markdown",
   "metadata": {
    "id": "B2ED33701C7F4469ABBC37660E732B0E",
    "jupyter": {},
    "notebookId": "637b54727b4e5f9b3d48842e",
    "slideshow": {
     "slide_type": "slide"
    },
    "tags": []
   },
   "source": [
    "从PyMC3的采样结果来看，同样采集1000个样本，PyMC3的后验分布明显更加平滑和准确。\n",
    "\n",
    "这提示我们，即使我们知道采样器的算法和原理，但我们自己写的代码仍然和专业工具包存在差异。\n",
    "\n",
    "因此更重要的是，我们的学习目标是如何利用优秀的算法和工具完成数据分析，而不是自己研究如何创造算法和工具"
   ]
  },
  {
   "cell_type": "markdown",
   "metadata": {
    "id": "773E0003D0444024A691E77A35D0D27E",
    "jupyter": {},
    "notebookId": "637b54727b4e5f9b3d48842e",
    "slideshow": {
     "slide_type": "slide"
    },
    "tags": []
   },
   "source": [
    "总结，MCMC算法的专业术语，包括：\n",
    "\n",
    "- MCMC samplers：由于MCMC算法的本质是对后验分布进行采样，因此该方法也被叫做MCMC采样器(samplers)。\n",
    "- iteration，draws，samples：MCMC采样器在采样过程中需要进行循环，每个循环称为一个iteration，每个iteration中采集的参数称作样本samples，也可以叫做draws，就像从抽屉里抽出来一样。\n",
    "- proposal dsitribution：即参数采样的过程不再是随机采样，而是根据建议分布(proposal dsitribution)进行采样。\n",
    "- chain：在使用MCMC算法时，我们会同时运行多个“循环”，每一个循环为一条马尔科夫链(chain)。运行多条链的目的在于，可以更高效的采集更多的样本，也可以避免单条链采到的样本不能代表后验分布的影响。\n"
   ]
  },
  {
   "cell_type": "markdown",
   "metadata": {
    "id": "A9C83713122B4FF199CA171CBFB8C8FD",
    "jupyter": {},
    "notebookId": "637b54727b4e5f9b3d48842e",
    "slideshow": {
     "slide_type": "slide"
    },
    "tags": []
   },
   "source": [
    "### HMC (Hamiltonian Monte Carlo)"
   ]
  },
  {
   "cell_type": "markdown",
   "metadata": {
    "id": "06C377E7754B40F7A79E32234C7CA026",
    "jupyter": {},
    "notebookId": "637b54727b4e5f9b3d48842e",
    "slideshow": {
     "slide_type": "slide"
    },
    "tags": []
   },
   "source": [
    "Metropolis-Hastings (HM)的优点：\n",
    "- MH算法步骤非常精简，每次迭代iteration只有两个步骤\n",
    "   1. 根据上次采样的参数生成proposal distribution，然后进行采样\n",
    "\n",
    "   `proposal_θ1 = st.norm(proposal_θ0,0.5).rvs(1)`\n",
    "\n",
    "   2. 计算拒绝概率(接受／拒绝)\n",
    "\n",
    "   ```\n",
    "   unstd_posterior1 = calculate_posterior(proposal_θ1, data)\n",
    "   ratio = unstd_posterior1 / unstd_posterior0\n",
    "   if ratio < st.uniform(0, 1).rvs(1): print(\"接受\")\n",
    "   ```\n",
    "\n",
    "- MH算法可以从复杂的后验分布中采样，虽然其效率不高。"
   ]
  },
  {
   "cell_type": "markdown",
   "metadata": {
    "id": "ADBA69C4AC4E42D580DF47FCBD129351",
    "jupyter": {},
    "notebookId": "637b54727b4e5f9b3d48842e",
    "slideshow": {
     "slide_type": "slide"
    },
    "tags": []
   },
   "source": [
    "Metropolis-Hastings (HM)的问题：\n",
    "- proposal distribution 的标准差太大会导致大量被拒绝的样本，而太小的标准差会导致花费更长时间来“探索分布”\n",
    "\n",
    "  `proposal_θ1 = st.norm(proposal_θ0,0.5).rvs(1)` 比如将这里的0.5修改为5\n",
    "\n",
    "- 当模型参数很多的时候，MH 采样的效率非常低，因为它的采样是根据 proposal distribution随机选取的\n",
    "- 对于高维后验分布，MH 的采样是非常不均匀的"
   ]
  },
  {
   "cell_type": "markdown",
   "metadata": {
    "id": "2613B52F2DB142C1B8F14C04DB16DB86",
    "jupyter": {},
    "notebookId": "637b54727b4e5f9b3d48842e",
    "slideshow": {
     "slide_type": "slide"
    },
    "tags": []
   },
   "source": [
    "\n",
    "![Image Name](https://cdn.kesci.com/upload/image/rjvgyvcsre.gif?imageView2/0/w/640/h/640)\n",
    "\n",
    "\n",
    "绿色为接受的采样，红色是拒绝的采样。可以看到HM算法中被拒绝的采样是比较多的。"
   ]
  },
  {
   "cell_type": "markdown",
   "metadata": {
    "id": "530EF135E2714375881A36CD1B0356B2",
    "jupyter": {},
    "notebookId": "637b54727b4e5f9b3d48842e",
    "slideshow": {
     "slide_type": "slide"
    },
    "tags": []
   },
   "source": [
    "**HMC (Hamiltonian Monte Carlo)**\n",
    "\n",
    "为了解决 HM 中 proposal distribution 由于随机采样导致效率低的问题，研究者提出了HMC。"
   ]
  },
  {
   "cell_type": "markdown",
   "metadata": {
    "id": "669513842E2042269DB68C6969B59C98",
    "jupyter": {},
    "notebookId": "637b54727b4e5f9b3d48842e",
    "slideshow": {
     "slide_type": "slide"
    },
    "tags": []
   },
   "source": [
    "HMC结合物理概念来优化 MCMC：\n",
    "- HMC 通过基本物理规律 **能量=势能+动能** 假设采样的分布(后验分布)为系统的总能量，然后将该系统分为两个子部分\n",
    "- 由于动量增加，势能就会减少，因此**系统总能量不会变化**。这说明我们采样的分布不会因为系统的动态变化而变化，这类似于马尔科夫的平稳分布\n",
    "\n",
    "\n",
    "![Image Name](https://cdn.kesci.com/upload/image/rjviiji42v.gif?imageView2/0/w/640/h/640)\n"
   ]
  },
  {
   "cell_type": "markdown",
   "metadata": {
    "id": "71E811206F954DDA828FEF9E3584FF06",
    "jupyter": {},
    "notebookId": "637b54727b4e5f9b3d48842e",
    "slideshow": {
     "slide_type": "slide"
    },
    "tags": []
   },
   "source": [
    "- 势能，与位置有关，比如对于重力势能，高度越高，势能越大。相似的，可以把参数的位置看作高度，把参数对应的似然看作势能。可以结合拒绝采样进行理解，在拒绝采样中，似然值越大对应的参数越有可能被接受，因此，这里势能越大的参数也越有可能被接受。\n",
    "\n",
    "\t```\n",
    "\tunstd_posterior0 = calculate_likelihood(proposal_θ0, data)  # 上一次参数对应的似然值(即势能)\n",
    "\tunstd_posterior1 = calculate_likelihood(proposal_θ1, data)  # 当前次参数对应的似然值\n",
    "\tratio = unstd_posterior1 / unstd_posterior0                          # 与 HM一样计算两次参数似然的比值\n",
    "\t``` \n",
    "\t\n",
    "- 动能，与速度有关，比如动能公式 $\\frac{1}{2}mv^2$。其对应的是似然函数的梯度，从下图中可以发现，沿着梯度进行采样可以更多的采样到分布 peak 位置部分的参数。\n",
    "\t\n",
    "\t```\n",
    "\tmomentum0 = momentum_dist.rvs()                                                 # 随机生成动能值\n",
    "\tgradient = calculate_gradient(momentum0, likelihood_function)     # 根据动能值计算似然函数的梯度\n",
    "\tmomentum1 = momentum0 + gradient                                            # 根据梯度更新动能\n",
    "\t\n",
    "\t# 根据\n",
    "\tmomentum_ratio = calculate_likelihood(momentum0, data)/(momentum1, data)\n",
    "\t```\n"
   ]
  },
  {
   "cell_type": "markdown",
   "metadata": {
    "id": "4DD1A9140DD644578CEA857F62EC3785",
    "jupyter": {},
    "notebookId": "637b54727b4e5f9b3d48842e",
    "slideshow": {
     "slide_type": "slide"
    },
    "tags": []
   },
   "source": [
    "- 需要注意的是，势能会随着动能的变化而变化：\n",
    "\n",
    "```\n",
    "proposal_θ1 = unstd_posterior0 + momentum                                # 根据动能更新参数位置\n",
    "unstd_posterior1 = calculate_likelihood(proposal_θ1, data)             # 根据更新的位置计算势能\n",
    "```\n",
    "\n",
    "- 最后结合两部分能量进行判断\n",
    "\n",
    "```\n",
    "if ratio*momentum_ratio < st.uniform(0, 1).rvs(1): print(\"接受\")\n",
    "```"
   ]
  },
  {
   "cell_type": "markdown",
   "metadata": {
    "id": "8F06BF76073D4D4789F7BBB767186B71",
    "jupyter": {},
    "notebookId": "637b54727b4e5f9b3d48842e",
    "slideshow": {
     "slide_type": "slide"
    },
    "tags": []
   },
   "source": [
    "\n",
    "![Image Name](https://cdn.kesci.com/upload/image/rjvh3zx4an.gif?imageView2/0/w/640/h/640)\n",
    "\n",
    "\n",
    "绿色为接受的采样，红色是拒绝的采样。可以看到HMC几乎没有被拒绝的采样，其采样效率高。\n",
    "\n",
    "红色的线条是 HMC 表示沿着与梯度有关的 proposal distritbution 进行采样。"
   ]
  },
  {
   "cell_type": "markdown",
   "metadata": {
    "id": "0B3353F2CCC546F78BD37255FBCFE61D",
    "jupyter": {},
    "notebookId": "637b54727b4e5f9b3d48842e",
    "slideshow": {
     "slide_type": "slide"
    },
    "tags": []
   },
   "source": [
    "HMC 与 HM 相比的**主要区别**在于：\n",
    "- HMC 凭借更少的迭代数来获得相对多的具有代表性的采样\n",
    "- HMC 因为每次单次迭代需要计算似然函数的梯度，因此计算的“消耗”更高，但 HMC 仍然比HM效率更高\n",
    "- HMC 在大多数情况下接受采样的概率比 HM 高"
   ]
  },
  {
   "cell_type": "markdown",
   "metadata": {
    "id": "A25EAB293BED46E986FC3BE9F2F7F17E",
    "jupyter": {},
    "notebookId": "637b54727b4e5f9b3d48842e",
    "slideshow": {
     "slide_type": "slide"
    },
    "tags": []
   },
   "source": [
    "基于HMC，最常用的算法是 No-U-Turn sampler（NUTS），pymc 和 Stan默认使用的也是NUTS算法。\n",
    "\n",
    "\n",
    "![Image Name](https://cdn.kesci.com/upload/image/rjvix0jc6b.png?imageView2/0/w/320/h/320)\n",
    "\n",
    "\n",
    "![Image Name](https://cdn.kesci.com/upload/image/rjviyt1d5d.png?imageView2/0/w/320/h/320)"
   ]
  },
  {
   "cell_type": "markdown",
   "metadata": {
    "id": "8A7B7F1A34BE4F09ABD848C15A298A86",
    "jupyter": {},
    "notebookId": "637b54727b4e5f9b3d48842e",
    "slideshow": {
     "slide_type": "slide"
    },
    "tags": []
   },
   "source": [
    "**吉布斯采样 (Gibbs sampling)**\n",
    "\n",
    "Gibbs sampling 通过从参数的条件分布进行采样或从给定的另一个参数值的概率分布进行采样。"
   ]
  },
  {
   "cell_type": "markdown",
   "metadata": {
    "id": "6516E6CD54504CE299AFAB882613F949",
    "jupyter": {},
    "notebookId": "637b54727b4e5f9b3d48842e",
    "slideshow": {
     "slide_type": "slide"
    },
    "tags": []
   },
   "source": [
    "Gibbs sampling 的目的是从难以直接采样的多元概率分布P(x)中生成样本。这个算法基于每一个条件分布$p(x_i|x_i)$进行采样"
   ]
  },
  {
   "cell_type": "markdown",
   "metadata": {
    "id": "3AD015D34E2D423F8F839924EA98431D",
    "jupyter": {},
    "notebookId": "637b54727b4e5f9b3d48842e",
    "slideshow": {
     "slide_type": "slide"
    },
    "tags": []
   },
   "source": [
    "使用Gibbs sampling对二元高斯分布进行采样\n",
    "\n",
    "![Image Name](http://gorayni.github.io/assets/posts/gibbs/gibbs2.gif)\n"
   ]
  },
  {
   "cell_type": "markdown",
   "metadata": {
    "id": "0D0E308A37FB42DB941CF8AB9905E76B",
    "jupyter": {},
    "notebookId": "637b54727b4e5f9b3d48842e",
    "slideshow": {
     "slide_type": "slide"
    },
    "tags": []
   },
   "source": [
    "相比于MH算法，Gibbs采样不需要考虑多参数的情况，它将接受拒绝采样分别用于每个步骤。"
   ]
  },
  {
   "cell_type": "markdown",
   "metadata": {
    "id": "C26215696E5D4168936728D7E8047B18",
    "jupyter": {},
    "notebookId": "637b54727b4e5f9b3d48842e",
    "slideshow": {
     "slide_type": "slide"
    },
    "tags": []
   },
   "source": [
    "**差分进化算法 (Differential evolution)**\n",
    "\n",
    "尽管Gibbs采样可以从条件分布进行采样，来获得函数间的相关，但这种采样方法很慢。\n",
    "\n",
    "还有一个问题就是不相关的建议分布可能与目标分布不匹配。这种不匹配意味着采样时拒绝率会很高。\n",
    "\n",
    "差分进化算法使用多个链进行采样，并利用各链之间的非独立性来解决参数的相关问题。\n",
    "\n"
   ]
  },
  {
   "cell_type": "markdown",
   "metadata": {
    "id": "CCA817FA46364D8596406219971B2CB4",
    "jupyter": {},
    "notebookId": "637b54727b4e5f9b3d48842e",
    "slideshow": {
     "slide_type": "slide"
    },
    "tags": []
   },
   "source": [
    "差分进化算法使用其他链之间样本点的距离来对当前链的值进行更新。"
   ]
  },
  {
   "cell_type": "markdown",
   "metadata": {
    "id": "130FDE2EFCCA435D9DE5650B6EB4BA3A",
    "jupyter": {},
    "notebookId": "637b54727b4e5f9b3d48842e",
    "slideshow": {
     "slide_type": "slide"
    },
    "tags": []
   },
   "source": [
    "\n",
    "![Image Name](https://matteding.github.io/images/diff_evol.gif)\n"
   ]
  },
  {
   "cell_type": "markdown",
   "metadata": {
    "id": "DF6005D4F889470AAEEBF004C0DF8FF5",
    "jupyter": {},
    "notebookId": "637b54727b4e5f9b3d48842e",
    "slideshow": {
     "slide_type": "slide"
    },
    "tags": []
   },
   "source": [
    "其中，$\\lambda$为预设值，$\\lambda$的取值会影响采样的速度。"
   ]
  },
  {
   "cell_type": "markdown",
   "metadata": {
    "id": "E1513164AF6D4972A5E0CF9C413F9FCA",
    "jupyter": {},
    "notebookId": "637b54727b4e5f9b3d48842e",
    "slideshow": {
     "slide_type": "slide"
    },
    "tags": []
   },
   "source": [
    "### 总结\n",
    "\n",
    "- the idea of approximation\n",
    "- MCMC原理\n",
    "- 其他采样算法简介"
   ]
  }
 ],
 "metadata": {
  "kernelspec": {
   "display_name": "Python 3 (ipykernel)",
   "language": "python",
   "name": "python3"
  },
  "language_info": {
   "codemirror_mode": {
    "name": "ipython",
    "version": 3
   },
   "file_extension": ".py",
   "mimetype": "text/x-python",
   "name": "python",
   "nbconvert_exporter": "python",
   "pygments_lexer": "ipython3",
   "version": "3.9.13"
  }
 },
 "nbformat": 4,
 "nbformat_minor": 4
}
